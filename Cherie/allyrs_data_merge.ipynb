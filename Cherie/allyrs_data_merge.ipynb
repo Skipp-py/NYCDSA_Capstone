{
 "cells": [
  {
   "cell_type": "code",
   "execution_count": 95,
   "id": "26e6caf1",
   "metadata": {},
   "outputs": [
    {
     "name": "stdout",
     "output_type": "stream",
     "text": [
      "Current working directory: /Users/chereowang27/NYCDSA/Capstone\n"
     ]
    },
    {
     "data": {
      "text/plain": [
       "['./data/demo_zip_18.csv',\n",
       " './data/demo_zip_17.csv',\n",
       " './data/demo_zip_16.csv',\n",
       " './data/demo_zip_14.csv',\n",
       " './data/demo_zip_15.csv',\n",
       " './data/demo_zip_11.csv',\n",
       " './data/demo_zip_12.csv',\n",
       " './data/demo_zip_13.csv']"
      ]
     },
     "execution_count": 95,
     "metadata": {},
     "output_type": "execute_result"
    }
   ],
   "source": [
    "import os\n",
    "import pandas as pd\n",
    "cwd = os.getcwd()\n",
    "print(\"Current working directory: {0}\".format(cwd))\n",
    "\n",
    "import glob\n",
    "path = \"./data\"\n",
    "files = glob.glob(path + \"/*.csv\")\n",
    "files "
   ]
  },
  {
   "cell_type": "code",
   "execution_count": 122,
   "id": "f2b80d91",
   "metadata": {},
   "outputs": [
    {
     "name": "stdout",
     "output_type": "stream",
     "text": [
      "(13162, 241)\n",
      "(13162, 253)\n",
      "(13162, 253)\n",
      "(13162, 253)\n",
      "(13162, 247)\n",
      "(13162, 253)\n",
      "(13162, 253)\n",
      "(13162, 253)\n"
     ]
    }
   ],
   "source": [
    "fi = []\n",
    "for f in files: \n",
    "    df = pd.read_csv(f, index_col = 0, header = 0)\n",
    "    print(df.shape)\n",
    "   # df['year'] = \"20\" + re.split(\"_|\\.\", str)[2]\n",
    "    fi.append(df)"
   ]
  },
  {
   "cell_type": "code",
   "execution_count": 123,
   "id": "11101646",
   "metadata": {},
   "outputs": [],
   "source": [
    "acs_ts = pd.concat(fi, join = \"outer\")"
   ]
  },
  {
   "cell_type": "code",
   "execution_count": 141,
   "id": "7b211745",
   "metadata": {},
   "outputs": [
    {
     "data": {
      "text/plain": [
       "(105296, 253)"
      ]
     },
     "execution_count": 141,
     "metadata": {},
     "output_type": "execute_result"
    }
   ],
   "source": [
    "acs_ts.shape"
   ]
  },
  {
   "cell_type": "code",
   "execution_count": 125,
   "id": "16d6db98",
   "metadata": {},
   "outputs": [],
   "source": [
    "acs_ts.head()\n",
    "acs_ts['do_date'] = acs_ts['do_date'].apply(lambda d: str(d)[4:])\n"
   ]
  },
  {
   "cell_type": "code",
   "execution_count": 142,
   "id": "01b7a381",
   "metadata": {},
   "outputs": [],
   "source": [
    "z = pd.read_csv(\"./data/zip_code_database.csv\", index_col = None)"
   ]
  },
  {
   "cell_type": "code",
   "execution_count": 143,
   "id": "39269cfe",
   "metadata": {},
   "outputs": [],
   "source": [
    "z1 = z[['zip','primary_city', 'state', 'county','area_codes', 'latitude','longitude']]"
   ]
  },
  {
   "cell_type": "code",
   "execution_count": 144,
   "id": "e66509ed",
   "metadata": {},
   "outputs": [],
   "source": [
    "acs1 = pd.merge(z1, acs_ts, left_on = \"zip\", right_on = \"geo_id\", how = 'inner')\n",
    "acs_ca = acs1[acs1['state']=='CA']"
   ]
  },
  {
   "cell_type": "code",
   "execution_count": 146,
   "id": "05208fac",
   "metadata": {},
   "outputs": [
    {
     "data": {
      "text/plain": [
       "(9264, 260)"
      ]
     },
     "execution_count": 146,
     "metadata": {},
     "output_type": "execute_result"
    }
   ],
   "source": [
    "acs_ca.shape"
   ]
  },
  {
   "cell_type": "code",
   "execution_count": 149,
   "id": "0041fe4b",
   "metadata": {},
   "outputs": [],
   "source": [
    "acs_ca.to_csv(\"./data/acs_ca_allyrs.csv\") "
   ]
  }
 ],
 "metadata": {
  "kernelspec": {
   "display_name": "Python 3",
   "language": "python",
   "name": "python3"
  },
  "language_info": {
   "codemirror_mode": {
    "name": "ipython",
    "version": 3
   },
   "file_extension": ".py",
   "mimetype": "text/x-python",
   "name": "python",
   "nbconvert_exporter": "python",
   "pygments_lexer": "ipython3",
   "version": "3.8.8"
  }
 },
 "nbformat": 4,
 "nbformat_minor": 5
}
