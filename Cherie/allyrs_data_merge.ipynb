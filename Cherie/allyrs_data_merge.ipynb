{
 "cells": [
  {
   "cell_type": "code",
   "execution_count": 26,
   "id": "26e6caf1",
   "metadata": {},
   "outputs": [
    {
     "name": "stdout",
     "output_type": "stream",
     "text": [
      "Current working directory: /Users/chereowang27/NYCDSA/Capstone/NYCDSA_Capstone/Cherie\n"
     ]
    },
    {
     "data": {
      "text/plain": [
       "['./data/data_IRS/12zpallagi.csv',\n",
       " './data/data_IRS/18zpallagi.csv',\n",
       " './data/data_IRS/11zpallagi.csv',\n",
       " './data/data_IRS/14zpallagi.csv',\n",
       " './data/data_IRS/13zpallagi.csv',\n",
       " './data/data_IRS/16zpallagi.csv',\n",
       " './data/data_IRS/15zpallagi.csv']"
      ]
     },
     "execution_count": 26,
     "metadata": {},
     "output_type": "execute_result"
    }
   ],
   "source": [
    "import os\n",
    "import pandas as pd\n",
    "cwd = os.getcwd()\n",
    "print(\"Current working directory: {0}\".format(cwd))\n",
    "\n",
    "from os import listdir\n",
    "from os.path import isfile, join \n",
    "path = \"./data/data_IRS\"\n",
    "files = [(path + \"/\" + f) for f in listdir(path) if isfile(join(path, f))][2:]\n",
    "files"
   ]
  },
  {
   "cell_type": "code",
   "execution_count": 39,
   "id": "1509c91c",
   "metadata": {},
   "outputs": [
    {
     "data": {
      "text/plain": [
       "'12'"
      ]
     },
     "execution_count": 39,
     "metadata": {},
     "output_type": "execute_result"
    }
   ],
   "source": [
    "str = './data/data_IRS/12zpallagi.csv'\n",
    "re.split(\"/\", str)[3][:2]"
   ]
  },
  {
   "cell_type": "code",
   "execution_count": 56,
   "id": "f2b80d91",
   "metadata": {},
   "outputs": [
    {
     "name": "stdout",
     "output_type": "stream",
     "text": [
      "./data/data_IRS/12zpallagi.csv\n",
      "(166904, 78)\n",
      "./data/data_IRS/18zpallagi.csv\n",
      "(165935, 154)\n",
      "./data/data_IRS/11zpallagi.csv\n",
      "(167334, 74)\n",
      "./data/data_IRS/14zpallagi.csv\n",
      "(166722, 128)\n",
      "./data/data_IRS/13zpallagi.csv\n",
      "(166740, 115)\n",
      "./data/data_IRS/16zpallagi.csv\n",
      "(179796, 148)\n",
      "./data/data_IRS/15zpallagi.csv\n",
      "(166698, 132)\n"
     ]
    }
   ],
   "source": [
    "import re\n",
    "fi = []\n",
    "for f in files:\n",
    "    print(f)\n",
    "    df = pd.read_csv(f, index_col = None, header = 0)\n",
    "    df[\"yr\"] = \"20\" + re.split(\"/\", f)[3][:2]\n",
    "    print(df.shape)\n",
    "    fi.append(df)"
   ]
  },
  {
   "cell_type": "code",
   "execution_count": 57,
   "id": "11101646",
   "metadata": {},
   "outputs": [],
   "source": [
    "soi_ts = pd.concat(fi, join = \"outer\", axis = 0)"
   ]
  },
  {
   "cell_type": "code",
   "execution_count": 58,
   "id": "7b211745",
   "metadata": {},
   "outputs": [
    {
     "data": {
      "text/plain": [
       "(1180129, 177)"
      ]
     },
     "execution_count": 58,
     "metadata": {},
     "output_type": "execute_result"
    }
   ],
   "source": [
    "soi_ts.shape"
   ]
  },
  {
   "cell_type": "code",
   "execution_count": 59,
   "id": "16d6db98",
   "metadata": {},
   "outputs": [
    {
     "data": {
      "text/plain": [
       "0         2012\n",
       "1         2012\n",
       "2         2012\n",
       "3         2012\n",
       "4         2012\n",
       "          ... \n",
       "166693    2015\n",
       "166694    2015\n",
       "166695    2015\n",
       "166696    2015\n",
       "166697    2015\n",
       "Name: yr, Length: 1180129, dtype: object"
      ]
     },
     "execution_count": 59,
     "metadata": {},
     "output_type": "execute_result"
    }
   ],
   "source": [
    "soi_ts['yr']"
   ]
  },
  {
   "cell_type": "code",
   "execution_count": 60,
   "id": "01b7a381",
   "metadata": {},
   "outputs": [],
   "source": [
    "z = pd.read_csv(\"/Users/chereowang27/NYCDSA/Capstone/data_2/zip_code_database.csv\", index_col = None)"
   ]
  },
  {
   "cell_type": "code",
   "execution_count": 61,
   "id": "39269cfe",
   "metadata": {},
   "outputs": [],
   "source": [
    "z1 = z[['zip','primary_city', 'state', 'county','area_codes', 'latitude','longitude']]"
   ]
  },
  {
   "cell_type": "code",
   "execution_count": 73,
   "id": "e66509ed",
   "metadata": {},
   "outputs": [],
   "source": [
    "soi1 = pd.merge(z1, soi_ts[soi_ts['yr']==\"2011\"], left_on = \"zip\", right_on = \"ZIPCODE\", how = 'inner')\n",
    "#soi_ca = soi1[soi1['state']=='CA']"
   ]
  },
  {
   "cell_type": "code",
   "execution_count": 72,
   "id": "05208fac",
   "metadata": {},
   "outputs": [
    {
     "data": {
      "text/plain": [
       "(166722, 184)"
      ]
     },
     "execution_count": 72,
     "metadata": {},
     "output_type": "execute_result"
    }
   ],
   "source": [
    "soi1.shape"
   ]
  },
  {
   "cell_type": "code",
   "execution_count": 33,
   "id": "0041fe4b",
   "metadata": {},
   "outputs": [],
   "source": []
  }
 ],
 "metadata": {
  "kernelspec": {
   "display_name": "Python 3",
   "language": "python",
   "name": "python3"
  },
  "language_info": {
   "codemirror_mode": {
    "name": "ipython",
    "version": 3
   },
   "file_extension": ".py",
   "mimetype": "text/x-python",
   "name": "python",
   "nbconvert_exporter": "python",
   "pygments_lexer": "ipython3",
   "version": "3.8.8"
  }
 },
 "nbformat": 4,
 "nbformat_minor": 5
}
