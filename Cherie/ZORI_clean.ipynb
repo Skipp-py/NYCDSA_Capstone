{
 "cells": [
  {
   "cell_type": "code",
   "execution_count": 17,
   "id": "22f95c99",
   "metadata": {},
   "outputs": [
    {
     "data": {
      "text/plain": [
       "91744     2317.250000\n",
       "91745     2281.666667\n",
       "91746     2165.833333\n",
       "91747     1825.000000\n",
       "91748     2049.500000\n",
       "             ...     \n",
       "101002    2111.818182\n",
       "101003    1846.000000\n",
       "101004    1807.090909\n",
       "101005    1600.916667\n",
       "101007    1714.083333\n",
       "Name: avg_rent, Length: 9264, dtype: float64"
      ]
     },
     "execution_count": 17,
     "metadata": {},
     "output_type": "execute_result"
    }
   ],
   "source": [
    "import pandas as pd\n",
    "\n",
    "z_m = pd.read_csv(\"./data/Zip_Zri_MultiFamilyResidenceRental.csv\", index_col = None)\n",
    "acs_ca_allyrs = pd.read_csv(\"./data/acs_ca_allyrs.csv\", index_col=0)\n",
    "acs_ca_allyrs.head()\n",
    "acs_ca_allyrs.sort_values('zip')['avg_rent']"
   ]
  },
  {
   "cell_type": "code",
   "execution_count": 20,
   "id": "0858e902",
   "metadata": {},
   "outputs": [
    {
     "data": {
      "text/plain": [
       "(9264, 260)"
      ]
     },
     "execution_count": 20,
     "metadata": {},
     "output_type": "execute_result"
    }
   ],
   "source": [
    "acs_ca_allyrs.shape"
   ]
  }
 ],
 "metadata": {
  "kernelspec": {
   "display_name": "Python 3",
   "language": "python",
   "name": "python3"
  },
  "language_info": {
   "codemirror_mode": {
    "name": "ipython",
    "version": 3
   },
   "file_extension": ".py",
   "mimetype": "text/x-python",
   "name": "python",
   "nbconvert_exporter": "python",
   "pygments_lexer": "ipython3",
   "version": "3.8.8"
  }
 },
 "nbformat": 4,
 "nbformat_minor": 5
}
