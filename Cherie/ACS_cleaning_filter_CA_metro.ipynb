{
 "cells": [
  {
   "cell_type": "code",
   "execution_count": 397,
   "id": "ca0c0882",
   "metadata": {},
   "outputs": [
    {
     "name": "stdout",
     "output_type": "stream",
     "text": [
      "Current working directory: /Users/chereowang27/NYCDSA/Capstone/NYCDSA_Capstone/Cherie\n"
     ]
    }
   ],
   "source": [
    "import os\n",
    "import pandas as pd\n",
    "import numpy as np\n",
    "import datetime\n",
    "import matplotlib.pyplot as plt\n",
    "path = \"/Users/chereowang27/NYCDSA/Capstone/NYCDSA_Capstone/Cherie\"\n",
    "os.chdir(path)\n",
    "cwd = os.getcwd()\n",
    "print(\"Current working directory: {0}\".format(cwd))\n",
    "\n",
    "pd.set_option('display.max_rows', 500)\n",
    "pd.set_option('display.max_columns', 500)\n",
    "import bamboolib\n",
    "import numpy as np"
   ]
  },
  {
   "cell_type": "code",
   "execution_count": 398,
   "id": "15162b3c",
   "metadata": {},
   "outputs": [],
   "source": [
    "zori_metro = pd.read_csv(path + \"/data/Zip_Zri_AllHomesPlusMultifamily.csv\")\n",
    "ca11_18 = pd.read_csv('./data/cali_2011_2018.csv', index_col = None)\n",
    "\n",
    "#output metro zipcodes\n",
    "ca_top5 = ['Los Angeles-Long Beach-Anaheim', 'San Francisco-Oakland-Hayward','Riverside-San Bernardino-Ontario',\\\n",
    "'Sacramento--Roseville--Arden-Arcade', 'San Diego-Carlsbad']\n",
    "ca_metro = zori_metro[zori_metro[\"Metro\"].isin(ca_top5)]\n",
    "ca_metro_zips = ca_metro[[\"RegionName\"]]"
   ]
  },
  {
   "cell_type": "code",
   "execution_count": 399,
   "id": "505c58a7",
   "metadata": {},
   "outputs": [
    {
     "name": "stdout",
     "output_type": "stream",
     "text": [
      "(6112, 255)\n"
     ]
    }
   ],
   "source": [
    "#filter to keep metro areas in rent index only\n",
    "metro11_18 = pd.merge(ca_metro_zips, ca11_18, on = \"RegionName\", how = \"inner\")\n",
    "print(metro11_18.shape)"
   ]
  },
  {
   "cell_type": "code",
   "execution_count": 400,
   "id": "4b31b645",
   "metadata": {},
   "outputs": [],
   "source": [
    "#filter out rows that have more than 10% missing data\n",
    "perc = 10.0\n",
    "min_count = int(((100-perc)/100)*metro11_18.shape[1] + 1)\n",
    "df_cleaned = metro11_18.dropna(axis = 0, thresh = min_count)\n",
    "\n",
    "#rename columns\n",
    "df_cleaned = df_cleaned.rename(columns = {\"RegionName\": \"Zipcode\"})\n",
    "\n",
    "#ensure columns are 5 digits long\n",
    "df_cleaned[\"Zipcode\"] = df_cleaned[\"Zipcode\"].astype(str)\n",
    "df_cleaned[\"Zipcode\"] = list(map(lambda x: \"0\" + x if len(x) ==4 else x, df_cleaned[\"Zipcode\"]))\n",
    "\n",
    "#drop unused columns\n",
    "df_cleaned = df_cleaned.drop([\"RegionID\", \"SizeRank\"], axis = 1)\n",
    "\n",
    "#changing index type and frequency\n",
    "df_cleaned.index = pd.to_datetime(df_cleaned[\"Date\"].astype(str), format = \"%Y\")"
   ]
  },
  {
   "cell_type": "code",
   "execution_count": 401,
   "id": "dfa1081d",
   "metadata": {},
   "outputs": [],
   "source": [
    "g = df_cleaned.groupby(\"Zipcode\")\n",
    "df_filled0 = (g.ffill()+g.bfill())/2"
   ]
  },
  {
   "cell_type": "code",
   "execution_count": 402,
   "id": "dadc0616",
   "metadata": {},
   "outputs": [],
   "source": [
    "#merge back zipcode to fill na for first and last year observation of each zipcode\n",
    "df_filled0[\"Zipcode\"] = df_cleaned[\"Zipcode\"]\n",
    "df_filled = df_filled0.groupby(\"Zipcode\").ffill().bfill()\n",
    "\n",
    "#fill na for zipcode with no data for a variable\n",
    "df_filled = df_filled.fillna(df_filled.mean(), axis = 0)"
   ]
  },
  {
   "cell_type": "code",
   "execution_count": 403,
   "id": "2b6934d5",
   "metadata": {},
   "outputs": [],
   "source": [
    "\n",
    "df_filled[\"Zipcode\"] = df_cleaned[\"Zipcode\"]"
   ]
  },
  {
   "cell_type": "code",
   "execution_count": 424,
   "id": "fdeaf0f8",
   "metadata": {},
   "outputs": [],
   "source": [
    "df_filled.to_csv(\"/Users/chereowang27/NYCDSA/Capstone/NYCDSA_Capstone/Cherie/data/metro_CA_2011_2018.csv\")\n"
   ]
  },
  {
   "cell_type": "code",
   "execution_count": 423,
   "id": "65f4be7a",
   "metadata": {},
   "outputs": [],
   "source": [
    "features = df_filled.drop([\"avg_rent\"], axis = 1)\n",
    "target = df_filled[[\"Date\", \"avg_rent\"]]\n",
    "\n",
    "feature_train =  features[features[\"Date\"] != 2018]\n",
    "features_test = features[features[\"Date\"] == 2018]\n",
    "\n",
    "target_train = target[target[\"Date\"] != 2018].drop([\"Date\"], axis = 1)\n",
    "target_test = target[target[\"Date\"] == 2018].drop([\"Date\"], axis = 1)\n",
    "\n",
    "feature_train.to_csv(\"/Users/chereowang27/NYCDSA/Capstone/NYCDSA_Capstone/Cherie/data/feature_train.csv\")\n",
    "feature_test.to_csv(\"/Users/chereowang27/NYCDSA/Capstone/NYCDSA_Capstone/Cherie/data/feature_test.csv\")\n",
    "target_train.to_csv(\"/Users/chereowang27/NYCDSA/Capstone/NYCDSA_Capstone/Cherie/data/target_train.csv\")\n",
    "target_test.to_csv(\"/Users/chereowang27/NYCDSA/Capstone/NYCDSA_Capstone/Cherie/data/target_test.csv\")"
   ]
  },
  {
   "cell_type": "code",
   "execution_count": null,
   "id": "a379957b",
   "metadata": {},
   "outputs": [],
   "source": []
  },
  {
   "cell_type": "code",
   "execution_count": null,
   "id": "a02e549b",
   "metadata": {},
   "outputs": [],
   "source": []
  },
  {
   "cell_type": "code",
   "execution_count": null,
   "id": "b6f06bc5",
   "metadata": {},
   "outputs": [],
   "source": []
  },
  {
   "cell_type": "code",
   "execution_count": null,
   "id": "661a59bc",
   "metadata": {},
   "outputs": [],
   "source": []
  }
 ],
 "metadata": {
  "kernelspec": {
   "display_name": "Python 3",
   "language": "python",
   "name": "python3"
  },
  "language_info": {
   "codemirror_mode": {
    "name": "ipython",
    "version": 3
   },
   "file_extension": ".py",
   "mimetype": "text/x-python",
   "name": "python",
   "nbconvert_exporter": "python",
   "pygments_lexer": "ipython3",
   "version": "3.8.8"
  }
 },
 "nbformat": 4,
 "nbformat_minor": 5
}
