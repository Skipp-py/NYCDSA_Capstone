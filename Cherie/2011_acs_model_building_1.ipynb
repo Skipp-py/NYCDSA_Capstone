{
 "cells": [
  {
   "cell_type": "code",
   "execution_count": 23,
   "id": "e03fb7c5",
   "metadata": {},
   "outputs": [
    {
     "name": "stdout",
     "output_type": "stream",
     "text": [
      "Current working directory: /Users/chereowang27/NYCDSA/Capstone/NYCDSA_Capstone/Cherie\n"
     ]
    }
   ],
   "source": [
    "import os\n",
    "import pandas as pd\n",
    "import numpy as np\n",
    "import datetime\n",
    "import matplotlib.pyplot as plt\n",
    "path = \"/Users/chereowang27/NYCDSA/Capstone/NYCDSA_Capstone/Cherie\"\n",
    "os.chdir(path)\n",
    "cwd = os.getcwd()\n",
    "print(\"Current working directory: {0}\".format(cwd))\n",
    "\n",
    "pd.set_option('display.max_rows', 500)\n",
    "pd.set_option('display.max_columns', 500)\n",
    "import numpy as np\n",
    "from sklearn import ensemble\n",
    "from sklearn.linear_model import LinearRegression, Lasso\n",
    "from sklearn.model_selection import train_test_split, KFold, GridSearchCV\n",
    "import seaborn as sns\n",
    "import matplotlib.pyplot as plt\n",
    "import bamboolib"
   ]
  },
  {
   "cell_type": "code",
   "execution_count": 24,
   "id": "64bfcf14",
   "metadata": {},
   "outputs": [],
   "source": [
    "df = pd.read_csv('./data/metro_CA_2011_2018_lagged.csv', index_col = None)\n",
    "# drop missing data after lagging and keep only dataset lagged by 1 year\n",
    "df = df.iloc[:, :-4].dropna()\n",
    "\n",
    "df[\"year\"]= pd.to_datetime(df[\"year\"], format = \"%Y\").dt.year\n",
    "df.sort_values(\"year\", ignore_index = True, inplace = True)\n",
    "df.head()\n",
    "\n",
    "dem = [ 'not_us_citizen_pop',\n",
    "        'median_age',\n",
    "        'amerindian_including_hispanic',\n",
    "        'amerindian_pop', \n",
    "        'asian_including_hispanic',\n",
    "        'asian_male_45_54',\n",
    "        'asian_male_55_64',\n",
    "        'asian_pop',\n",
    "        'black_including_hispanic',\n",
    "         'black_male_45_54',\n",
    "         'black_male_55_64',\n",
    "         'black_pop',\n",
    "         'white_including_hispanic',\n",
    " 'white_male_45_54',\n",
    " 'white_male_55_64',\n",
    " 'white_pop',\n",
    "   'female_10_to_14',\n",
    " 'female_15_to_17',\n",
    " 'female_18_to_19',\n",
    " 'female_20',\n",
    " 'female_21',\n",
    " 'female_22_to_24',\n",
    " 'female_25_to_29',\n",
    " 'female_30_to_34',\n",
    " 'female_35_to_39',\n",
    " 'female_40_to_44',\n",
    " 'female_45_to_49',\n",
    " 'female_50_to_54',\n",
    " 'female_55_to_59',\n",
    " 'female_5_to_9',\n",
    " 'female_60_to_61',\n",
    " 'female_62_to_64',\n",
    " 'female_65_to_66',\n",
    " 'female_67_to_69',\n",
    " 'female_70_to_74',\n",
    " 'female_75_to_79',\n",
    " 'female_80_to_84',\n",
    " 'female_85_and_over',\n",
    "       'female_pop',\n",
    " 'female_under_5',\n",
    "       'hispanic_any_race',\n",
    " 'hispanic_male_45_54',\n",
    " 'hispanic_male_55_64',\n",
    " 'hispanic_pop',\n",
    "       'male_10_to_14',\n",
    " 'male_15_to_17',\n",
    " 'male_18_to_19',\n",
    " 'male_20',\n",
    " 'male_21',\n",
    " 'male_22_to_24',\n",
    " 'male_25_to_29',\n",
    " 'male_30_to_34',\n",
    " 'male_35_to_39',\n",
    " 'male_40_to_44',\n",
    " 'male_45_64_associates_degree',\n",
    " 'male_45_64_bachelors_degree',\n",
    " 'male_45_64_grade_9_12',\n",
    " 'male_45_64_graduate_degree',\n",
    " 'male_45_64_high_school',\n",
    " 'male_45_64_less_than_9_grade',\n",
    " 'male_45_64_some_college',\n",
    " 'male_45_to_49',\n",
    " 'male_45_to_64',\n",
    " 'male_50_to_54',\n",
    " 'male_55_to_59',\n",
    " 'male_5_to_9',\n",
    " 'male_60_61',\n",
    " 'male_62_64',\n",
    " 'male_65_to_66',\n",
    " 'male_67_to_69',\n",
    " 'male_70_to_74',\n",
    " 'male_75_to_79',\n",
    " 'male_80_to_84',\n",
    " 'male_85_and_over',\n",
    " 'male_pop',\n",
    " 'male_under_5',\n",
    "  'not_hispanic_pop',\n",
    "  'other_race_pop',\n",
    "       'pop_15_and_over',\n",
    " 'pop_16_over',\n",
    " 'pop_25_64',\n",
    " 'pop_25_years_over',\n",
    " 'pop_5_years_over',\n",
    "       'population_1_year_and_over',\n",
    " 'population_3_years_over',\n",
    "       'speak_only_english_at_home',\n",
    " 'speak_spanish_at_home',\n",
    " 'speak_spanish_at_home_low_english',\n",
    "   'two_or_more_races_pop',\n",
    "     'total_pop'       \n",
    "      ]\n",
    "\n"
   ]
  },
  {
   "cell_type": "code",
   "execution_count": 20,
   "id": "103f415e",
   "metadata": {},
   "outputs": [
    {
     "data": {
      "text/plain": [
       "(6091, 90)"
      ]
     },
     "execution_count": 20,
     "metadata": {},
     "output_type": "execute_result"
    }
   ],
   "source": [
    "target = [\"rent_in_1y\"]\n",
    "y = df[target]\n",
    "X = df[dem]\n",
    "X.shape"
   ]
  },
  {
   "cell_type": "code",
   "execution_count": null,
   "id": "caedb20b",
   "metadata": {},
   "outputs": [],
   "source": []
  },
  {
   "cell_type": "code",
   "execution_count": 9,
   "id": "0ab90128",
   "metadata": {},
   "outputs": [],
   "source": [
    "from sklearn.model_selection import TimeSeriesSplit\n",
    "from sklearn.metrics import mean_squared_error\n",
    "import statsmodels.api as sm\n",
    "n_splits = 10\n",
    "tscv = TimeSeriesSplit(gap = 0, max_train_size = None, n_splits = n_splits, test_size = None)\n",
    "for train_index,test_index in tscv.split(X):\n",
    "    X_train, X_test = X.values[train_index], X.values[test_index]\n",
    "    y_train, y_test = y.values[train_index], y.values[test_index]\n"
   ]
  },
  {
   "cell_type": "code",
   "execution_count": 6,
   "id": "eb3895ca",
   "metadata": {},
   "outputs": [],
   "source": [
    "# for train_index,test_index in tscv.split(X):\n",
    "#     print(\"%s %s\" % (train_index, test_index))"
   ]
  },
  {
   "cell_type": "code",
   "execution_count": 17,
   "id": "004e9b20",
   "metadata": {},
   "outputs": [],
   "source": [
    "lasso = Lasso(max_iter=10000, normalize=True)\n",
    "alphas = np.linspace(.00000001,.0001,10)\n",
    "coefs_lasso = []\n",
    "R2_train = []\n",
    "R2_test = []\n",
    "\n",
    "for a in alphas:\n",
    "    lasso.set_params(alpha=a)\n",
    "    lasso.fit(X_train, y_train)\n",
    "    coefs_lasso.append(lasso.coef_)\n",
    "    R2_train.append(lasso.score(X_train, y_train))\n",
    "    R2_test.append(lasso.score(X_test, y_test))\n",
    "    \n",
    "    \n",
    "coefs_lasso = pd.DataFrame(coefs_lasso, index = alphas, columns = X.columns)\n",
    "R2_lasso = pd.DataFrame({'train': R2_train,'test':R2_test}, index = alphas)"
   ]
  },
  {
   "cell_type": "code",
   "execution_count": 18,
   "id": "3f209da6",
   "metadata": {},
   "outputs": [
    {
     "data": {
      "application/vnd.jupyter.widget-view+json": {
       "model_id": "a18bd5d6e3a54081b9b2a95d27786612"
      },
      "text/html": [
       "<div>\n",
       "<style scoped>\n",
       "    .dataframe tbody tr th:only-of-type {\n",
       "        vertical-align: middle;\n",
       "    }\n",
       "\n",
       "    .dataframe tbody tr th {\n",
       "        vertical-align: top;\n",
       "    }\n",
       "\n",
       "    .dataframe thead th {\n",
       "        text-align: right;\n",
       "    }\n",
       "</style>\n",
       "<table border=\"1\" class=\"dataframe\">\n",
       "  <thead>\n",
       "    <tr style=\"text-align: right;\">\n",
       "      <th></th>\n",
       "      <th>index</th>\n",
       "      <th>train</th>\n",
       "      <th>test</th>\n",
       "    </tr>\n",
       "  </thead>\n",
       "  <tbody>\n",
       "    <tr>\n",
       "      <th>0</th>\n",
       "      <td>1.000000e-08</td>\n",
       "      <td>0.362347</td>\n",
       "      <td>0.336514</td>\n",
       "    </tr>\n",
       "    <tr>\n",
       "      <th>1</th>\n",
       "      <td>1.112000e-05</td>\n",
       "      <td>0.362347</td>\n",
       "      <td>0.336486</td>\n",
       "    </tr>\n",
       "    <tr>\n",
       "      <th>2</th>\n",
       "      <td>2.223000e-05</td>\n",
       "      <td>0.362347</td>\n",
       "      <td>0.336459</td>\n",
       "    </tr>\n",
       "    <tr>\n",
       "      <th>3</th>\n",
       "      <td>3.334000e-05</td>\n",
       "      <td>0.362347</td>\n",
       "      <td>0.336431</td>\n",
       "    </tr>\n",
       "    <tr>\n",
       "      <th>4</th>\n",
       "      <td>4.445000e-05</td>\n",
       "      <td>0.362347</td>\n",
       "      <td>0.336403</td>\n",
       "    </tr>\n",
       "    <tr>\n",
       "      <th>5</th>\n",
       "      <td>5.556000e-05</td>\n",
       "      <td>0.362347</td>\n",
       "      <td>0.336374</td>\n",
       "    </tr>\n",
       "    <tr>\n",
       "      <th>6</th>\n",
       "      <td>6.667000e-05</td>\n",
       "      <td>0.362347</td>\n",
       "      <td>0.336346</td>\n",
       "    </tr>\n",
       "    <tr>\n",
       "      <th>7</th>\n",
       "      <td>7.778000e-05</td>\n",
       "      <td>0.362347</td>\n",
       "      <td>0.336318</td>\n",
       "    </tr>\n",
       "    <tr>\n",
       "      <th>8</th>\n",
       "      <td>8.889000e-05</td>\n",
       "      <td>0.362346</td>\n",
       "      <td>0.336289</td>\n",
       "    </tr>\n",
       "    <tr>\n",
       "      <th>9</th>\n",
       "      <td>1.000000e-04</td>\n",
       "      <td>0.362346</td>\n",
       "      <td>0.336261</td>\n",
       "    </tr>\n",
       "  </tbody>\n",
       "</table>\n",
       "</div>"
      ],
      "text/plain": [
       "          index     train      test\n",
       "0  1.000000e-08  0.362347  0.336514\n",
       "1  1.112000e-05  0.362347  0.336486\n",
       "2  2.223000e-05  0.362347  0.336459\n",
       "3  3.334000e-05  0.362347  0.336431\n",
       "4  4.445000e-05  0.362347  0.336403\n",
       "5  5.556000e-05  0.362347  0.336374\n",
       "6  6.667000e-05  0.362347  0.336346\n",
       "7  7.778000e-05  0.362347  0.336318\n",
       "8  8.889000e-05  0.362346  0.336289\n",
       "9  1.000000e-04  0.362346  0.336261"
      ]
     },
     "metadata": {},
     "output_type": "display_data"
    }
   ],
   "source": [
    "R2_lasso = R2_lasso.reset_index()\n",
    "R2_lasso"
   ]
  },
  {
   "cell_type": "code",
   "execution_count": 44,
   "id": "16039677",
   "metadata": {
    "scrolled": false
   },
   "outputs": [
    {
     "data": {
      "text/plain": [
       "<matplotlib.legend.Legend at 0x7fab72b2f190>"
      ]
     },
     "execution_count": 44,
     "metadata": {},
     "output_type": "execute_result"
    },
    {
     "data": {
      "image/png": "[encoded data removed]",
      "text/plain": [
       "<Figure size 1008x432 with 2 Axes>"
      ]
     },
     "metadata": {
      "needs_background": "light"
     },
     "output_type": "display_data"
    }
   ],
   "source": [
    "fig, (ax1, ax2) = plt.subplots(1, 2, figsize=(14,6))\n",
    "fig.suptitle('Lasso Regression results')\n",
    "\n",
    "for feat in coefs_lasso.columns:\n",
    "    ax1.plot(coefs_lasso.index, 10**coefs_lasso[feat]) \n",
    "ax1.set_xlabel(r'hyperparameter $\\lambda$')\n",
    "ax1.set_ylabel(r'slope values')\n",
    "#ax1.legend(loc=1)\n",
    "for each in R2_lasso.columns:\n",
    "    ax2.plot(R2_lasso.index, R2_lasso[each], label=each)\n",
    "ax2.set_xlabel(r'hyperparameter $\\lambda$')\n",
    "ax2.legend(loc=1)\n",
    "# Takes forever. And still doesn't converge even with max_iter=10000"
   ]
  },
  {
   "cell_type": "code",
   "execution_count": 72,
   "id": "0ccf0016",
   "metadata": {},
   "outputs": [],
   "source": []
  },
  {
   "cell_type": "code",
   "execution_count": 45,
   "id": "b938b5cf",
   "metadata": {
    "scrolled": true
   },
   "outputs": [
    {
     "name": "stdout",
     "output_type": "stream",
     "text": [
      "Estimator which gave the highest score:  Pipeline(steps=[('standardize', StandardScaler()),\n",
      "                ('lasso', Lasso(alpha=0.011414141414141415, normalize=True))])\n",
      "Mean cross-validated score of the best_estimator:  0.42540399172094484\n",
      "The best parameters are:  {'lasso__alpha': 0.011414141414141415}\n"
     ]
    }
   ],
   "source": [
    "from sklearn.pipeline import Pipeline\n",
    "from sklearn.preprocessing import StandardScaler\n",
    "\n",
    "lasso = Lasso(normalize = True)\n",
    "lasso_pipe = Pipeline([\n",
    "    ('standardize', StandardScaler()), \n",
    "    ('lasso', lasso)\n",
    "])\n",
    "params = {'lasso__alpha': np.linspace(0.01,0.03, 100)}\n",
    "\n",
    "gs_ls = GridSearchCV(lasso_pipe, param_grid = params, scoring = 'r2', cv = tscv)\n",
    "gs_ls.fit(X_train, y_train)\n",
    "\n",
    "print(\"Estimator which gave the highest score: \", gs_ls.best_estimator_)\n",
    "print(\"Mean cross-validated score of the best_estimator: \", gs_ls.best_score_)\n",
    "print(\"The best parameters are: \", gs_ls.best_params_)"
   ]
  },
  {
   "cell_type": "code",
   "execution_count": null,
   "id": "0c6cfc29",
   "metadata": {},
   "outputs": [],
   "source": []
  },
  {
   "cell_type": "code",
   "execution_count": 50,
   "id": "d48d8d0d",
   "metadata": {},
   "outputs": [
    {
     "name": "stdout",
     "output_type": "stream",
     "text": [
      "63\n"
     ]
    },
    {
     "data": {
      "text/plain": [
       "{'median_age': 24.19664517922497,\n",
       " 'male_45_64_graduate_degree': 0.6271722605456067,\n",
       " 'male_65_to_66': 0.48371507642645895,\n",
       " 'male_85_and_over': 0.4697304588301178,\n",
       " 'asian_male_55_64': 0.37493754486765185,\n",
       " 'female_35_to_39': 0.25637327191404813,\n",
       " 'black_male_55_64': 0.2187482346818146,\n",
       " 'female_18_to_19': 0.20897477885870866,\n",
       " 'male_67_to_69': 0.19652407033879013,\n",
       " 'male_60_61': 0.18564919594709856,\n",
       " 'female_30_to_34': 0.1824129130838508,\n",
       " 'male_45_64_bachelors_degree': 0.1706702862391271,\n",
       " 'male_70_to_74': 0.16381783055872168,\n",
       " 'female_45_to_49': 0.14874089424696593,\n",
       " 'female_65_to_66': 0.12792795306656318,\n",
       " 'male_45_64_less_than_9_grade': 0.12163407588712452,\n",
       " 'male_50_to_54': 0.10241744352675593,\n",
       " 'female_40_to_44': 0.08853754955342448,\n",
       " 'male_25_to_29': 0.08635646785759447,\n",
       " 'other_race_pop': 0.07819255272546734,\n",
       " 'hispanic_male_55_64': 0.06354181852444217,\n",
       " 'female_22_to_24': 0.05979922541365944,\n",
       " 'male_40_to_44': 0.05481163493389527,\n",
       " 'female_70_to_74': 0.04659767798208127,\n",
       " 'male_18_to_19': 0.03730348382114036,\n",
       " 'female_50_to_54': 0.034952834913039056,\n",
       " 'two_or_more_races_pop': 0.02852963423381445,\n",
       " 'male_80_to_84': 0.027118439725189073,\n",
       " 'female_5_to_9': 0.021551819863548774,\n",
       " 'female_67_to_69': 0.01455567710274145,\n",
       " 'male_30_to_34': 0.0076004982221984764,\n",
       " 'not_hispanic_pop': 0.007534059881555426,\n",
       " 'male_62_64': 0.0024584641413201557,\n",
       " 'black_pop': 0.002014670519762335,\n",
       " 'male_22_to_24': 0.0015514749142441853,\n",
       " 'male_21': 7.397460173274183e-05,\n",
       " 'pop_15_and_over': -0.0074807903766547995,\n",
       " 'male_under_5': -0.01482687751244178,\n",
       " 'female_62_to_64': -0.024645946530237054,\n",
       " 'white_male_55_64': -0.026249475969960842,\n",
       " 'male_45_to_49': -0.03230499230354773,\n",
       " 'not_us_citizen_pop': -0.033301272027502195,\n",
       " 'amerindian_including_hispanic': -0.03469349954054812,\n",
       " 'speak_only_english_at_home': -0.03487216337457168,\n",
       " 'male_75_to_79': -0.03850888288052132,\n",
       " 'female_75_to_79': -0.06437101940880614,\n",
       " 'female_10_to_14': -0.06496015495194782,\n",
       " 'male_10_to_14': -0.0657670224748731,\n",
       " 'female_20': -0.07216816070431205,\n",
       " 'female_under_5': -0.0805497211441532,\n",
       " 'male_20': -0.08842328628956833,\n",
       " 'female_21': -0.08843442746439575,\n",
       " 'female_15_to_17': -0.09512254055523345,\n",
       " 'black_male_45_54': -0.09837364575200878,\n",
       " 'male_45_64_some_college': -0.10203547030679719,\n",
       " 'female_55_to_59': -0.11724185516782064,\n",
       " 'male_45_64_grade_9_12': -0.14815615872148016,\n",
       " 'male_15_to_17': -0.1964436757530652,\n",
       " 'female_60_to_61': -0.3225985974315088,\n",
       " 'female_80_to_84': -0.4165850424987067,\n",
       " 'asian_male_45_54': -0.47446366983933724,\n",
       " 'male_45_64_associates_degree': -0.7009446987665215,\n",
       " 'amerindian_pop': -0.7314497333716697}"
      ]
     },
     "execution_count": 50,
     "metadata": {},
     "output_type": "execute_result"
    }
   ],
   "source": [
    "lasso.set_params(alpha = 0.011414141414141415, tol = .01, max_iter = 10000)\n",
    "lasso.fit(X_train, y_train)\n",
    "\n",
    "lasso_coefs = dict(zip(X.columns, lasso.coef_))\n",
    "\n",
    "lasso_coefs_keep = {k:v for (k,v) in \n",
    "                    sorted(lasso_coefs.items(), key = lambda item: item[1], reverse = True)\n",
    "                    if v !=0}\n",
    "print(len(lasso_coefs_keep))\n",
    "lasso_coefs_keep"
   ]
  },
  {
   "cell_type": "code",
   "execution_count": 27,
   "id": "ccfa788c",
   "metadata": {},
   "outputs": [],
   "source": [
    "#check occupation influence on target\n",
    "occ = ['not_in_labor_force',\n",
    "       'pop_in_labor_force',\n",
    "       'unemployed_pop',\n",
    "    'armed_forces',\n",
    "       'civilian_labor_force',\n",
    "       'employed_agriculture_forestry_fishing_hunting_mining',\n",
    " 'employed_arts_entertainment_recreation_accommodation_food',\n",
    " 'employed_construction',\n",
    " 'employed_education_health_social',\n",
    " 'employed_finance_insurance_real_estate',\n",
    " 'employed_information',\n",
    " 'employed_manufacturing',\n",
    " 'employed_other_services_not_public_admin',\n",
    " 'employed_pop',\n",
    " 'employed_public_administration',\n",
    " 'employed_retail_trade',\n",
    " 'employed_science_management_admin_waste',\n",
    " 'employed_transportation_warehousing_utilities',\n",
    "       'employed_wholesale_trade',\n",
    "       'employed_transportation_warehousing_utilities',\n",
    "       'graduate_professional_degree',\n",
    "       'management_business_sci_arts_employed',\n",
    " 'occupation_management_arts',\n",
    " 'occupation_natural_resources_construction_maintenance',\n",
    " 'occupation_production_transportation_material',\n",
    " 'occupation_sales_office',\n",
    " 'occupation_services',\n",
    "  'sales_office_employed',\n",
    "       'worked_at_home',\n",
    " 'workers_16_and_over']"
   ]
  },
  {
   "cell_type": "code",
   "execution_count": 28,
   "id": "9fd83092",
   "metadata": {},
   "outputs": [
    {
     "data": {
      "text/plain": [
       "(6091, 30)"
      ]
     },
     "execution_count": 28,
     "metadata": {},
     "output_type": "execute_result"
    }
   ],
   "source": [
    "target = [\"rent_in_1y\"]\n",
    "y = df[target]\n",
    "X = df[occ]\n",
    "X.shape"
   ]
  },
  {
   "cell_type": "code",
   "execution_count": 29,
   "id": "525ed1de",
   "metadata": {},
   "outputs": [],
   "source": [
    "from sklearn.model_selection import TimeSeriesSplit\n",
    "from sklearn.metrics import mean_squared_error\n",
    "import statsmodels.api as sm\n",
    "n_splits = 10\n",
    "tscv = TimeSeriesSplit(gap = 0, max_train_size = None, n_splits = n_splits, test_size = None)\n",
    "for train_index,test_index in tscv.split(X):\n",
    "    X_train, X_test = X.values[train_index], X.values[test_index]\n",
    "    y_train, y_test = y.values[train_index], y.values[test_index]"
   ]
  },
  {
   "cell_type": "code",
   "execution_count": 32,
   "id": "be7031ee",
   "metadata": {
    "scrolled": false
   },
   "outputs": [],
   "source": [
    "lasso = Lasso(max_iter=10000, normalize=True)\n",
    "alphas = np.linspace(.00000001,1,10,)\n",
    "coefs_lasso = []\n",
    "R2_train = []\n",
    "R2_test = []\n",
    "\n",
    "for a in alphas:\n",
    "    lasso.set_params(alpha=a)\n",
    "    lasso.fit(X_train, y_train)\n",
    "    coefs_lasso.append(lasso.coef_)\n",
    "    R2_train.append(lasso.score(X_train, y_train))\n",
    "    R2_test.append(lasso.score(X_test, y_test))\n",
    "    \n",
    "coefs_lasso = pd.DataFrame(coefs_lasso, index = alphas, columns = X.columns)\n",
    "R2_lasso = pd.DataFrame({'train': R2_train,'test':R2_test}, index = alphas)"
   ]
  },
  {
   "cell_type": "code",
   "execution_count": 33,
   "id": "e60ee82b",
   "metadata": {
    "scrolled": true
   },
   "outputs": [
    {
     "data": {
      "application/vnd.jupyter.widget-view+json": {
       "model_id": "e5516a50a93f453fac144b89a1b7180f"
      },
      "text/html": [
       "<div>\n",
       "<style scoped>\n",
       "    .dataframe tbody tr th:only-of-type {\n",
       "        vertical-align: middle;\n",
       "    }\n",
       "\n",
       "    .dataframe tbody tr th {\n",
       "        vertical-align: top;\n",
       "    }\n",
       "\n",
       "    .dataframe thead th {\n",
       "        text-align: right;\n",
       "    }\n",
       "</style>\n",
       "<table border=\"1\" class=\"dataframe\">\n",
       "  <thead>\n",
       "    <tr style=\"text-align: right;\">\n",
       "      <th></th>\n",
       "      <th>index</th>\n",
       "      <th>train</th>\n",
       "      <th>test</th>\n",
       "    </tr>\n",
       "  </thead>\n",
       "  <tbody>\n",
       "    <tr>\n",
       "      <th>0</th>\n",
       "      <td>1.000000e-08</td>\n",
       "      <td>0.506069</td>\n",
       "      <td>0.476538</td>\n",
       "    </tr>\n",
       "    <tr>\n",
       "      <th>1</th>\n",
       "      <td>1.111111e-01</td>\n",
       "      <td>0.485727</td>\n",
       "      <td>0.459320</td>\n",
       "    </tr>\n",
       "    <tr>\n",
       "      <th>2</th>\n",
       "      <td>2.222222e-01</td>\n",
       "      <td>0.461000</td>\n",
       "      <td>0.428853</td>\n",
       "    </tr>\n",
       "    <tr>\n",
       "      <th>3</th>\n",
       "      <td>3.333333e-01</td>\n",
       "      <td>0.447983</td>\n",
       "      <td>0.412668</td>\n",
       "    </tr>\n",
       "    <tr>\n",
       "      <th>4</th>\n",
       "      <td>4.444444e-01</td>\n",
       "      <td>0.443397</td>\n",
       "      <td>0.405111</td>\n",
       "    </tr>\n",
       "    <tr>\n",
       "      <th>5</th>\n",
       "      <td>5.555556e-01</td>\n",
       "      <td>0.437953</td>\n",
       "      <td>0.396485</td>\n",
       "    </tr>\n",
       "    <tr>\n",
       "      <th>6</th>\n",
       "      <td>6.666667e-01</td>\n",
       "      <td>0.431299</td>\n",
       "      <td>0.386570</td>\n",
       "    </tr>\n",
       "    <tr>\n",
       "      <th>7</th>\n",
       "      <td>7.777778e-01</td>\n",
       "      <td>0.423424</td>\n",
       "      <td>0.375345</td>\n",
       "    </tr>\n",
       "    <tr>\n",
       "      <th>8</th>\n",
       "      <td>8.888889e-01</td>\n",
       "      <td>0.414355</td>\n",
       "      <td>0.362882</td>\n",
       "    </tr>\n",
       "    <tr>\n",
       "      <th>9</th>\n",
       "      <td>1.000000e+00</td>\n",
       "      <td>0.408252</td>\n",
       "      <td>0.354595</td>\n",
       "    </tr>\n",
       "  </tbody>\n",
       "</table>\n",
       "</div>"
      ],
      "text/plain": [
       "          index     train      test\n",
       "0  1.000000e-08  0.506069  0.476538\n",
       "1  1.111111e-01  0.485727  0.459320\n",
       "2  2.222222e-01  0.461000  0.428853\n",
       "3  3.333333e-01  0.447983  0.412668\n",
       "4  4.444444e-01  0.443397  0.405111\n",
       "5  5.555556e-01  0.437953  0.396485\n",
       "6  6.666667e-01  0.431299  0.386570\n",
       "7  7.777778e-01  0.423424  0.375345\n",
       "8  8.888889e-01  0.414355  0.362882\n",
       "9  1.000000e+00  0.408252  0.354595"
      ]
     },
     "metadata": {},
     "output_type": "display_data"
    }
   ],
   "source": [
    "R2_lasso = R2_lasso.reset_index()\n",
    "R2_lasso"
   ]
  },
  {
   "cell_type": "code",
   "execution_count": 34,
   "id": "3f0b4880",
   "metadata": {},
   "outputs": [
    {
     "data": {
      "text/plain": [
       "<matplotlib.legend.Legend at 0x7fb1a0a7a9d0>"
      ]
     },
     "execution_count": 34,
     "metadata": {},
     "output_type": "execute_result"
    },
    {
     "data": {
      "image/png": "[encoded data removed]",
      "text/plain": [
       "<Figure size 1008x432 with 2 Axes>"
      ]
     },
     "metadata": {
      "needs_background": "light"
     },
     "output_type": "display_data"
    }
   ],
   "source": [
    "fig, (ax1, ax2) = plt.subplots(1, 2, figsize=(14,6))\n",
    "fig.suptitle('Lasso Regression results')\n",
    "\n",
    "for feat in coefs_lasso.columns:\n",
    "    ax1.plot(coefs_lasso.index, 10**coefs_lasso[feat]) \n",
    "ax1.set_xlabel(r'hyperparameter $\\lambda$')\n",
    "ax1.set_ylabel(r'slope values')\n",
    "#ax1.legend(loc=1)\n",
    "for each in R2_lasso.columns:\n",
    "    ax2.plot(R2_lasso.index, R2_lasso[each], label=each)\n",
    "ax2.set_xlabel(r'hyperparameter $\\lambda$')\n",
    "ax2.legend(loc=1)\n",
    "# all features should have larger slops than shown given the test r2 gets lower in this range of alpha "
   ]
  },
  {
   "cell_type": "code",
   "execution_count": 50,
   "id": "f26102f9",
   "metadata": {},
   "outputs": [],
   "source": [
    "#check education level influence on target\n",
    "ed = {'associates_degree',\n",
    "      'bachelors_degree',\n",
    "      'bachelors_degree_2',\n",
    "      'bachelors_degree_or_higher_25_64',\n",
    "      'group_quarters',\n",
    "      'high_school_diploma',\n",
    "      'high_school_including_ged',\n",
    "      'masters_degree',\n",
    "      'one_year_more_college',\n",
    "      'some_college_and_associates_degree',\n",
    "      'in_grades_1_to_4',\n",
    " 'in_grades_5_to_8',\n",
    " 'in_grades_9_to_12',\n",
    " 'in_school',\n",
    " 'in_undergrad_college',\n",
    "       'less_one_year_college',\n",
    " 'less_than_high_school_graduate'}\n",
    "X = df[ed]\n",
    "X = X.drop(['high_school_diploma','one_year_more_college','in_grades_1_to_4',\n",
    " 'in_grades_5_to_8',\n",
    " 'in_grades_9_to_12',\n",
    "'less_one_year_college', 'some_college_and_associates_degree'],axis = 1)"
   ]
  },
  {
   "cell_type": "code",
   "execution_count": 51,
   "id": "571a88ba",
   "metadata": {
    "scrolled": false
   },
   "outputs": [],
   "source": [
    "from sklearn.model_selection import TimeSeriesSplit\n",
    "from sklearn.metrics import mean_squared_error\n",
    "import statsmodels.api as sm\n",
    "n_splits = 10\n",
    "tscv = TimeSeriesSplit(gap = 0, max_train_size = None, n_splits = n_splits, test_size = None)\n",
    "for train_index,test_index in tscv.split(X):\n",
    "    X_train, X_test = X.values[train_index], X.values[test_index]\n",
    "    y_train, y_test = y.values[train_index], y.values[test_index]"
   ]
  },
  {
   "cell_type": "code",
   "execution_count": 52,
   "id": "6060107c",
   "metadata": {},
   "outputs": [],
   "source": [
    "lasso = Lasso(max_iter=10000, normalize=True)\n",
    "alphas = [.000001,.0001,0.001,0.01,0.1,1]\n",
    "coefs_lasso = []\n",
    "R2_train = []\n",
    "R2_test = []\n",
    "\n",
    "for a in alphas:\n",
    "    lasso.set_params(alpha=a)\n",
    "    lasso.fit(X_train, y_train)\n",
    "    coefs_lasso.append(lasso.coef_)\n",
    "    R2_train.append(lasso.score(X_train, y_train))\n",
    "    R2_test.append(lasso.score(X_test, y_test))\n",
    "    \n",
    "    \n",
    "coefs_lasso = pd.DataFrame(coefs_lasso, index = alphas, columns = X.columns)\n",
    "R2_lasso = pd.DataFrame({'train': R2_train,'test':R2_test}, index = alphas)"
   ]
  },
  {
   "cell_type": "code",
   "execution_count": 53,
   "id": "8f1d680f",
   "metadata": {},
   "outputs": [
    {
     "data": {
      "application/vnd.jupyter.widget-view+json": {
       "model_id": "8ec50b14795a4a90b43dcfed1ae02453"
      },
      "text/html": [
       "<div>\n",
       "<style scoped>\n",
       "    .dataframe tbody tr th:only-of-type {\n",
       "        vertical-align: middle;\n",
       "    }\n",
       "\n",
       "    .dataframe tbody tr th {\n",
       "        vertical-align: top;\n",
       "    }\n",
       "\n",
       "    .dataframe thead th {\n",
       "        text-align: right;\n",
       "    }\n",
       "</style>\n",
       "<table border=\"1\" class=\"dataframe\">\n",
       "  <thead>\n",
       "    <tr style=\"text-align: right;\">\n",
       "      <th></th>\n",
       "      <th>index</th>\n",
       "      <th>train</th>\n",
       "      <th>test</th>\n",
       "    </tr>\n",
       "  </thead>\n",
       "  <tbody>\n",
       "    <tr>\n",
       "      <th>0</th>\n",
       "      <td>0.000001</td>\n",
       "      <td>0.421575</td>\n",
       "      <td>0.387600</td>\n",
       "    </tr>\n",
       "    <tr>\n",
       "      <th>1</th>\n",
       "      <td>0.000100</td>\n",
       "      <td>0.421575</td>\n",
       "      <td>0.387562</td>\n",
       "    </tr>\n",
       "    <tr>\n",
       "      <th>2</th>\n",
       "      <td>0.001000</td>\n",
       "      <td>0.421530</td>\n",
       "      <td>0.387205</td>\n",
       "    </tr>\n",
       "    <tr>\n",
       "      <th>3</th>\n",
       "      <td>0.010000</td>\n",
       "      <td>0.420642</td>\n",
       "      <td>0.384755</td>\n",
       "    </tr>\n",
       "    <tr>\n",
       "      <th>4</th>\n",
       "      <td>0.100000</td>\n",
       "      <td>0.415680</td>\n",
       "      <td>0.374035</td>\n",
       "    </tr>\n",
       "    <tr>\n",
       "      <th>5</th>\n",
       "      <td>1.000000</td>\n",
       "      <td>0.352259</td>\n",
       "      <td>0.292661</td>\n",
       "    </tr>\n",
       "  </tbody>\n",
       "</table>\n",
       "</div>"
      ],
      "text/plain": [
       "      index     train      test\n",
       "0  0.000001  0.421575  0.387600\n",
       "1  0.000100  0.421575  0.387562\n",
       "2  0.001000  0.421530  0.387205\n",
       "3  0.010000  0.420642  0.384755\n",
       "4  0.100000  0.415680  0.374035\n",
       "5  1.000000  0.352259  0.292661"
      ]
     },
     "metadata": {},
     "output_type": "display_data"
    }
   ],
   "source": [
    "R2_lasso = R2_lasso.reset_index()\n",
    "R2_lasso"
   ]
  },
  {
   "cell_type": "code",
   "execution_count": 54,
   "id": "db02a7ba",
   "metadata": {},
   "outputs": [
    {
     "data": {
      "text/plain": [
       "<matplotlib.legend.Legend at 0x7fb1914bdb50>"
      ]
     },
     "execution_count": 54,
     "metadata": {},
     "output_type": "execute_result"
    },
    {
     "data": {
      "image/png": "[encoded data removed]",
      "text/plain": [
       "<Figure size 1008x432 with 2 Axes>"
      ]
     },
     "metadata": {
      "needs_background": "light"
     },
     "output_type": "display_data"
    }
   ],
   "source": [
    "fig, (ax1, ax2) = plt.subplots(1, 2, figsize=(14,6))\n",
    "fig.suptitle('Lasso Regression results')\n",
    "\n",
    "for feat in coefs_lasso.columns:\n",
    "    ax1.plot(coefs_lasso.index, 10**coefs_lasso[feat]) \n",
    "ax1.set_xlabel(r'hyperparameter $\\lambda$')\n",
    "ax1.set_ylabel(r'slope values')\n",
    "#ax1.legend(loc=1)\n",
    "for each in R2_lasso.columns:\n",
    "    ax2.plot(R2_lasso.index, R2_lasso[each], label=each)\n",
    "ax2.set_xlabel(r'hyperparameter $\\lambda$')\n",
    "ax2.legend(loc=1)"
   ]
  },
  {
   "cell_type": "code",
   "execution_count": 56,
   "id": "47ac0963",
   "metadata": {
    "scrolled": false
   },
   "outputs": [],
   "source": [
    "# Variables that changes with the model\n",
    "ar = ['avg_rent',\n",
    "       'median_rent',\n",
    "    'vacant_housing_units',\n",
    "     'vacant_housing_units_for_rent',\n",
    "     'vacant_housing_units_for_sale'\n",
    "      ]\n",
    "X = df[ar]"
   ]
  },
  {
   "cell_type": "code",
   "execution_count": 57,
   "id": "502c61d5",
   "metadata": {},
   "outputs": [],
   "source": [
    "from sklearn.model_selection import TimeSeriesSplit\n",
    "from sklearn.metrics import mean_squared_error\n",
    "import statsmodels.api as sm\n",
    "n_splits = 10\n",
    "tscv = TimeSeriesSplit(gap = 0, max_train_size = None, n_splits = n_splits, test_size = None)\n",
    "for train_index,test_index in tscv.split(X):\n",
    "    X_train, X_test = X.values[train_index], X.values[test_index]\n",
    "    y_train, y_test = y.values[train_index], y.values[test_index]"
   ]
  },
  {
   "cell_type": "code",
   "execution_count": 74,
   "id": "ab270928",
   "metadata": {
    "scrolled": true
   },
   "outputs": [],
   "source": [
    "lasso = Lasso(max_iter=10000, normalize=True)\n",
    "alphas = np.linspace(.1,.5,10)\n",
    "coefs_lasso = []\n",
    "R2_train = []\n",
    "R2_test = []\n",
    "\n",
    "for a in alphas:\n",
    "    lasso.set_params(alpha=a)\n",
    "    lasso.fit(X_train, y_train)\n",
    "    coefs_lasso.append(lasso.coef_)\n",
    "    R2_train.append(lasso.score(X_train, y_train))\n",
    "    R2_test.append(lasso.score(X_test, y_test))\n",
    "    \n",
    "coefs_lasso = pd.DataFrame(coefs_lasso, index = alphas, columns = X.columns)\n",
    "R2_lasso = pd.DataFrame({'train': R2_train,'test':R2_test}, index = alphas)"
   ]
  },
  {
   "cell_type": "code",
   "execution_count": 75,
   "id": "14b98ea4",
   "metadata": {},
   "outputs": [
    {
     "data": {
      "application/vnd.jupyter.widget-view+json": {
       "model_id": "b938b2cc79a34213a98cc7454961fa07"
      },
      "text/html": [
       "<div>\n",
       "<style scoped>\n",
       "    .dataframe tbody tr th:only-of-type {\n",
       "        vertical-align: middle;\n",
       "    }\n",
       "\n",
       "    .dataframe tbody tr th {\n",
       "        vertical-align: top;\n",
       "    }\n",
       "\n",
       "    .dataframe thead th {\n",
       "        text-align: right;\n",
       "    }\n",
       "</style>\n",
       "<table border=\"1\" class=\"dataframe\">\n",
       "  <thead>\n",
       "    <tr style=\"text-align: right;\">\n",
       "      <th></th>\n",
       "      <th>index</th>\n",
       "      <th>train</th>\n",
       "      <th>test</th>\n",
       "    </tr>\n",
       "  </thead>\n",
       "  <tbody>\n",
       "    <tr>\n",
       "      <th>0</th>\n",
       "      <td>0.100000</td>\n",
       "      <td>0.980787</td>\n",
       "      <td>0.981325</td>\n",
       "    </tr>\n",
       "    <tr>\n",
       "      <th>1</th>\n",
       "      <td>0.144444</td>\n",
       "      <td>0.980647</td>\n",
       "      <td>0.981600</td>\n",
       "    </tr>\n",
       "    <tr>\n",
       "      <th>2</th>\n",
       "      <td>0.188889</td>\n",
       "      <td>0.980456</td>\n",
       "      <td>0.981831</td>\n",
       "    </tr>\n",
       "    <tr>\n",
       "      <th>3</th>\n",
       "      <td>0.233333</td>\n",
       "      <td>0.980283</td>\n",
       "      <td>0.981962</td>\n",
       "    </tr>\n",
       "    <tr>\n",
       "      <th>4</th>\n",
       "      <td>0.277778</td>\n",
       "      <td>0.980092</td>\n",
       "      <td>0.982040</td>\n",
       "    </tr>\n",
       "    <tr>\n",
       "      <th>5</th>\n",
       "      <td>0.322222</td>\n",
       "      <td>0.979867</td>\n",
       "      <td>0.982077</td>\n",
       "    </tr>\n",
       "    <tr>\n",
       "      <th>6</th>\n",
       "      <td>0.366667</td>\n",
       "      <td>0.979610</td>\n",
       "      <td>0.982074</td>\n",
       "    </tr>\n",
       "    <tr>\n",
       "      <th>7</th>\n",
       "      <td>0.411111</td>\n",
       "      <td>0.979319</td>\n",
       "      <td>0.982030</td>\n",
       "    </tr>\n",
       "    <tr>\n",
       "      <th>8</th>\n",
       "      <td>0.455556</td>\n",
       "      <td>0.978995</td>\n",
       "      <td>0.981946</td>\n",
       "    </tr>\n",
       "    <tr>\n",
       "      <th>9</th>\n",
       "      <td>0.500000</td>\n",
       "      <td>0.978637</td>\n",
       "      <td>0.981821</td>\n",
       "    </tr>\n",
       "  </tbody>\n",
       "</table>\n",
       "</div>"
      ],
      "text/plain": [
       "      index     train      test\n",
       "0  0.100000  0.980787  0.981325\n",
       "1  0.144444  0.980647  0.981600\n",
       "2  0.188889  0.980456  0.981831\n",
       "3  0.233333  0.980283  0.981962\n",
       "4  0.277778  0.980092  0.982040\n",
       "5  0.322222  0.979867  0.982077\n",
       "6  0.366667  0.979610  0.982074\n",
       "7  0.411111  0.979319  0.982030\n",
       "8  0.455556  0.978995  0.981946\n",
       "9  0.500000  0.978637  0.981821"
      ]
     },
     "metadata": {},
     "output_type": "display_data"
    }
   ],
   "source": [
    "R2_lasso = R2_lasso.reset_index()\n",
    "R2_lasso"
   ]
  },
  {
   "cell_type": "code",
   "execution_count": 78,
   "id": "2e2b0500",
   "metadata": {},
   "outputs": [
    {
     "name": "stdout",
     "output_type": "stream",
     "text": [
      "Estimator which gave the highest score:  Pipeline(steps=[('standardize', StandardScaler()),\n",
      "                ('lasso', Lasso(alpha=0.6595959595959595, normalize=True))])\n",
      "Mean cross-validated score of the best_estimator:  0.9794588874994213\n",
      "The best parameters are:  {'lasso__alpha': 0.6595959595959595}\n"
     ]
    }
   ],
   "source": [
    "from sklearn.pipeline import Pipeline\n",
    "from sklearn.preprocessing import StandardScaler\n",
    "\n",
    "lasso = Lasso(normalize = True)\n",
    "lasso_pipe = Pipeline([\n",
    "    ('standardize', StandardScaler()), \n",
    "    ('lasso', lasso)\n",
    "])\n",
    "params = {'lasso__alpha': np.linspace(0.5,.7, 100)}\n",
    "\n",
    "gs_ls = GridSearchCV(lasso_pipe, param_grid = params, scoring = 'r2', cv = tscv)\n",
    "gs_ls.fit(X_train, y_train)\n",
    "\n",
    "print(\"Estimator which gave the highest score: \", gs_ls.best_estimator_)\n",
    "print(\"Mean cross-validated score of the best_estimator: \", gs_ls.best_score_)\n",
    "print(\"The best parameters are: \", gs_ls.best_params_)"
   ]
  },
  {
   "cell_type": "code",
   "execution_count": 80,
   "id": "7b3aed9a",
   "metadata": {},
   "outputs": [
    {
     "name": "stdout",
     "output_type": "stream",
     "text": [
      "1\n"
     ]
    },
    {
     "data": {
      "text/plain": [
       "{'avg_rent': 0.9442107301200358}"
      ]
     },
     "execution_count": 80,
     "metadata": {},
     "output_type": "execute_result"
    }
   ],
   "source": [
    "lasso.set_params(alpha = 0.6595959595959595, tol = .01, max_iter = 10000)\n",
    "lasso.fit(X_train, y_train)\n",
    "\n",
    "lasso_coefs = dict(zip(X.columns, lasso.coef_))\n",
    "\n",
    "lasso_coefs_keep = {k:v for (k,v) in \n",
    "                    sorted(lasso_coefs.items(), key = lambda item: item[1], reverse = True)\n",
    "                    if v !=0}\n",
    "print(len(lasso_coefs_keep))\n",
    "lasso_coefs_keep"
   ]
  }
 ],
 "metadata": {
  "kernelspec": {
   "display_name": "Python 3",
   "language": "python",
   "name": "python3"
  },
  "language_info": {
   "codemirror_mode": {
    "name": "ipython",
    "version": 3
   },
   "file_extension": ".py",
   "mimetype": "text/x-python",
   "name": "python",
   "nbconvert_exporter": "python",
   "pygments_lexer": "ipython3",
   "version": "3.8.8"
  }
 },
 "nbformat": 4,
 "nbformat_minor": 5
}
