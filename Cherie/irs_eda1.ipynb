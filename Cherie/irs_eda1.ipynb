{
 "cells": [
  {
   "cell_type": "code",
   "execution_count": 127,
   "id": "d178a179",
   "metadata": {},
   "outputs": [
    {
     "name": "stdout",
     "output_type": "stream",
     "text": [
      "Current working directory: /Users/chereowang27/NYCDSA/Capstone/NYCDSA_Capstone/Cherie\n"
     ]
    },
    {
     "data": {
      "text/plain": [
       "0    ./data/data_IRS/17zpallagi.csv\n",
       "2    ./data/data_IRS/12zpallagi.csv\n",
       "3    ./data/data_IRS/18zpallagi.csv\n",
       "4    ./data/data_IRS/11zpallagi.csv\n",
       "5    ./data/data_IRS/14zpallagi.csv\n",
       "6    ./data/data_IRS/13zpallagi.csv\n",
       "7    ./data/data_IRS/16zpallagi.csv\n",
       "9    ./data/data_IRS/15zpallagi.csv\n",
       "dtype: object"
      ]
     },
     "execution_count": 127,
     "metadata": {},
     "output_type": "execute_result"
    }
   ],
   "source": [
    "import os\n",
    "import pandas as pd\n",
    "import numpy as np\n",
    "from datetime import datetime\n",
    "cwd = os.getcwd()\n",
    "print(\"Current working directory: {0}\".format(cwd))\n",
    "\n",
    "from os import listdir\n",
    "from os.path import isfile, join \n",
    "path = \"./data/data_IRS\"\n",
    "files = pd.Series([(path + \"/\" + f) for f in listdir(path) if isfile(join(path, f))])\n",
    "files = files[files.str.endswith(\".csv\")]\n",
    "files"
   ]
  },
  {
   "cell_type": "code",
   "execution_count": 128,
   "id": "3a12c8e5",
   "metadata": {},
   "outputs": [
    {
     "name": "stdout",
     "output_type": "stream",
     "text": [
      "./data/data_IRS/17zpallagi.csv\n",
      "(166537, 154)\n",
      "./data/data_IRS/12zpallagi.csv\n",
      "(166904, 78)\n",
      "./data/data_IRS/18zpallagi.csv\n",
      "(165935, 154)\n",
      "./data/data_IRS/11zpallagi.csv\n",
      "(167334, 74)\n",
      "./data/data_IRS/14zpallagi.csv\n",
      "(166722, 128)\n",
      "./data/data_IRS/13zpallagi.csv\n",
      "(166740, 115)\n",
      "./data/data_IRS/16zpallagi.csv\n",
      "(179796, 148)\n",
      "./data/data_IRS/15zpallagi.csv\n",
      "(166698, 132)\n"
     ]
    }
   ],
   "source": [
    "import re\n",
    "fi = []\n",
    "for f in files:\n",
    "    print(f)\n",
    "    df = pd.read_csv(f, index_col = None, header = 0)\n",
    "    df[\"yr\"] = \"20\" + re.split(\"/\", f)[3][:2]\n",
    "    print(df.shape)\n",
    "    fi.append(df)"
   ]
  },
  {
   "cell_type": "code",
   "execution_count": 129,
   "id": "ded4a08d",
   "metadata": {},
   "outputs": [],
   "source": [
    "soi0= pd.concat(fi, axis = 0)\n",
    "# convert year variable to datetime format\n",
    "soi0['yr'] = [datetime.strptime(x, \"%Y\").year for x in soi0['yr']]"
   ]
  },
  {
   "cell_type": "code",
   "execution_count": 130,
   "id": "c7c397a7",
   "metadata": {},
   "outputs": [
    {
     "data": {
      "text/plain": [
       "STATEFIPS    False\n",
       "STATE        False\n",
       "zipcode       True\n",
       "agi_stub      True\n",
       "N1           False\n",
       "             ...  \n",
       "N85330        True\n",
       "A85330        True\n",
       "RAL           True\n",
       "n21020        True\n",
       "a21020        True\n",
       "Length: 177, dtype: bool"
      ]
     },
     "execution_count": 130,
     "metadata": {},
     "output_type": "execute_result"
    }
   ],
   "source": [
    "#The same variables are not collected every year\n",
    "soi0.isnull().any(axis = 0)"
   ]
  },
  {
   "cell_type": "code",
   "execution_count": 131,
   "id": "6d2c3238",
   "metadata": {},
   "outputs": [],
   "source": [
    "soi1 = soi0[[\"STATE\",\"agi_stub\",\"N1\",\"N18500\",\"A18500\", \"N19300\", \"A19300\"]]\n",
    "soi2 = soi1.rename(columns={\"N1\":\"zipcode\", \"N18500\":\"N_returns_real_estate_taxes\",\n",
    "                    \"A18500\":\"Real_estate_taxes_amount\",\n",
    "                     \"N19300\":\"N_returns_mortgage_interest_paid\",\n",
    "                      \"A19300\":\"Mortgage_interest_paid_amount\"})\n"
   ]
  },
  {
   "cell_type": "code",
   "execution_count": 137,
   "id": "3e3ad1c0",
   "metadata": {},
   "outputs": [],
   "source": [
    "#remove trailing 0 from zipcodes\n",
    "soi2[\"zipcode\"] = [int(x) for x in soi2[\"zipcode\"]]"
   ]
  },
  {
   "cell_type": "code",
   "execution_count": 140,
   "id": "10a594eb",
   "metadata": {},
   "outputs": [],
   "source": [
    "#output zillow home&multifamily index to find 4 metro area zipcodes\n",
    "metro_ca = pd.read_csv(\"./data/Zip_Zri_AllHomesPlusMultifamily.csv\", index_col = None)\n",
    "metro = ['Los Angeles-Long Beach-Anaheim', 'San Francisco-Oakland-Hayward','Riverside-San Bernardino-Ontario',\\\n",
    "'Sacramento--Roseville--Arden-Arcade', 'San Diego-Carlsbad']\n",
    "metro_zips = metro_ca[metro_ca[\"Metro\"].isin(metro)][[\"RegionName\", \"City\", \"State\"]]\n",
    "\n",
    "#output tax data of top 5 metro area \n",
    "metro_ca_tax = pd.merge(metro_zips, soi2, left_on = \"RegionName\", right_on = \"zipcode\", how = \"left\")"
   ]
  },
  {
   "cell_type": "code",
   "execution_count": 144,
   "id": "e2ed2490",
   "metadata": {},
   "outputs": [
    {
     "data": {
      "text/html": [
       "<div>\n",
       "<style scoped>\n",
       "    .dataframe tbody tr th:only-of-type {\n",
       "        vertical-align: middle;\n",
       "    }\n",
       "\n",
       "    .dataframe tbody tr th {\n",
       "        vertical-align: top;\n",
       "    }\n",
       "\n",
       "    .dataframe thead th {\n",
       "        text-align: right;\n",
       "    }\n",
       "</style>\n",
       "<table border=\"1\" class=\"dataframe\">\n",
       "  <thead>\n",
       "    <tr style=\"text-align: right;\">\n",
       "      <th></th>\n",
       "      <th>RegionName</th>\n",
       "      <th>City</th>\n",
       "      <th>State</th>\n",
       "      <th>STATE</th>\n",
       "      <th>agi_stub</th>\n",
       "      <th>zipcode</th>\n",
       "      <th>N_returns_real_estate_taxes</th>\n",
       "      <th>Real_estate_taxes_amount</th>\n",
       "      <th>N_returns_mortgage_interest_paid</th>\n",
       "      <th>Mortgage_interest_paid_amount</th>\n",
       "    </tr>\n",
       "  </thead>\n",
       "  <tbody>\n",
       "    <tr>\n",
       "      <th>222</th>\n",
       "      <td>92660</td>\n",
       "      <td>Newport Beach</td>\n",
       "      <td>CA</td>\n",
       "      <td>MS</td>\n",
       "      <td>4.0</td>\n",
       "      <td>92660.0</td>\n",
       "      <td>9340.0</td>\n",
       "      <td>21312.0</td>\n",
       "      <td>7900.0</td>\n",
       "      <td>56934.0</td>\n",
       "    </tr>\n",
       "    <tr>\n",
       "      <th>359</th>\n",
       "      <td>92270</td>\n",
       "      <td>Rancho Mirage</td>\n",
       "      <td>CA</td>\n",
       "      <td>ME</td>\n",
       "      <td>3.0</td>\n",
       "      <td>92270.0</td>\n",
       "      <td>31880.0</td>\n",
       "      <td>105969.0</td>\n",
       "      <td>27130.0</td>\n",
       "      <td>165262.0</td>\n",
       "    </tr>\n",
       "    <tr>\n",
       "      <th>503</th>\n",
       "      <td>91740</td>\n",
       "      <td>Glendora</td>\n",
       "      <td>CA</td>\n",
       "      <td>CA</td>\n",
       "      <td>2.0</td>\n",
       "      <td>91740.0</td>\n",
       "      <td>4240.0</td>\n",
       "      <td>19956.0</td>\n",
       "      <td>3580.0</td>\n",
       "      <td>40637.0</td>\n",
       "    </tr>\n",
       "    <tr>\n",
       "      <th>620</th>\n",
       "      <td>92010</td>\n",
       "      <td>Carlsbad</td>\n",
       "      <td>CA</td>\n",
       "      <td>ME</td>\n",
       "      <td>3.0</td>\n",
       "      <td>92010.0</td>\n",
       "      <td>34450.0</td>\n",
       "      <td>111298.0</td>\n",
       "      <td>29570.0</td>\n",
       "      <td>186727.0</td>\n",
       "    </tr>\n",
       "  </tbody>\n",
       "</table>\n",
       "</div>"
      ],
      "text/plain": [
       "     RegionName           City State STATE  agi_stub  zipcode  \\\n",
       "222       92660  Newport Beach    CA    MS       4.0  92660.0   \n",
       "359       92270  Rancho Mirage    CA    ME       3.0  92270.0   \n",
       "503       91740       Glendora    CA    CA       2.0  91740.0   \n",
       "620       92010       Carlsbad    CA    ME       3.0  92010.0   \n",
       "\n",
       "     N_returns_real_estate_taxes  Real_estate_taxes_amount  \\\n",
       "222                       9340.0                   21312.0   \n",
       "359                      31880.0                  105969.0   \n",
       "503                       4240.0                   19956.0   \n",
       "620                      34450.0                  111298.0   \n",
       "\n",
       "     N_returns_mortgage_interest_paid  Mortgage_interest_paid_amount  \n",
       "222                            7900.0                        56934.0  \n",
       "359                           27130.0                       165262.0  \n",
       "503                            3580.0                        40637.0  \n",
       "620                           29570.0                       186727.0  "
      ]
     },
     "execution_count": 144,
     "metadata": {},
     "output_type": "execute_result"
    }
   ],
   "source": [
    "metro_ca_tax.dropna()"
   ]
  },
  {
   "cell_type": "code",
   "execution_count": 105,
   "id": "ffbe3671",
   "metadata": {},
   "outputs": [
    {
     "data": {
      "text/html": [
       "<div>\n",
       "<style scoped>\n",
       "    .dataframe tbody tr th:only-of-type {\n",
       "        vertical-align: middle;\n",
       "    }\n",
       "\n",
       "    .dataframe tbody tr th {\n",
       "        vertical-align: top;\n",
       "    }\n",
       "\n",
       "    .dataframe thead th {\n",
       "        text-align: right;\n",
       "    }\n",
       "</style>\n",
       "<table border=\"1\" class=\"dataframe\">\n",
       "  <thead>\n",
       "    <tr style=\"text-align: right;\">\n",
       "      <th></th>\n",
       "      <th>agi_stub</th>\n",
       "      <th>N_returns_real_estate_taxes</th>\n",
       "      <th>Real_estate_taxes_amount</th>\n",
       "      <th>N_returns_mortgage_interest_paid</th>\n",
       "      <th>Mortgage_interest_paid_amount</th>\n",
       "    </tr>\n",
       "    <tr>\n",
       "      <th>zipcode</th>\n",
       "      <th></th>\n",
       "      <th></th>\n",
       "      <th></th>\n",
       "      <th></th>\n",
       "      <th></th>\n",
       "    </tr>\n",
       "  </thead>\n",
       "  <tbody>\n",
       "    <tr>\n",
       "      <th>20</th>\n",
       "      <td>100330.0</td>\n",
       "      <td>76607.0258</td>\n",
       "      <td>3.620330e+05</td>\n",
       "      <td>28606.0283</td>\n",
       "      <td>2.145360e+05</td>\n",
       "    </tr>\n",
       "    <tr>\n",
       "      <th>21</th>\n",
       "      <td>1895.0</td>\n",
       "      <td>1604.0278</td>\n",
       "      <td>9.570028e+03</td>\n",
       "      <td>552.0331</td>\n",
       "      <td>4.494033e+03</td>\n",
       "    </tr>\n",
       "    <tr>\n",
       "      <th>22</th>\n",
       "      <td>2062.0</td>\n",
       "      <td>2801.0271</td>\n",
       "      <td>1.345803e+04</td>\n",
       "      <td>942.0358</td>\n",
       "      <td>8.757036e+03</td>\n",
       "    </tr>\n",
       "    <tr>\n",
       "      <th>23</th>\n",
       "      <td>2044.0</td>\n",
       "      <td>3070.0264</td>\n",
       "      <td>1.476103e+04</td>\n",
       "      <td>1208.0354</td>\n",
       "      <td>1.049904e+04</td>\n",
       "    </tr>\n",
       "    <tr>\n",
       "      <th>24</th>\n",
       "      <td>2014.0</td>\n",
       "      <td>3185.0267</td>\n",
       "      <td>1.469103e+04</td>\n",
       "      <td>1290.0354</td>\n",
       "      <td>1.168304e+04</td>\n",
       "    </tr>\n",
       "    <tr>\n",
       "      <th>...</th>\n",
       "      <td>...</td>\n",
       "      <td>...</td>\n",
       "      <td>...</td>\n",
       "      <td>...</td>\n",
       "      <td>...</td>\n",
       "    </tr>\n",
       "    <tr>\n",
       "      <th>6231480</th>\n",
       "      <td>1.0</td>\n",
       "      <td>277980.0000</td>\n",
       "      <td>1.049358e+06</td>\n",
       "      <td>230280.0000</td>\n",
       "      <td>2.139067e+06</td>\n",
       "    </tr>\n",
       "    <tr>\n",
       "      <th>6336730</th>\n",
       "      <td>1.0</td>\n",
       "      <td>281130.0000</td>\n",
       "      <td>1.001976e+06</td>\n",
       "      <td>236020.0000</td>\n",
       "      <td>2.199729e+06</td>\n",
       "    </tr>\n",
       "    <tr>\n",
       "      <th>6404780</th>\n",
       "      <td>0.0</td>\n",
       "      <td>337280.0000</td>\n",
       "      <td>1.085536e+06</td>\n",
       "      <td>288030.0000</td>\n",
       "      <td>2.931363e+06</td>\n",
       "    </tr>\n",
       "    <tr>\n",
       "      <th>6411100</th>\n",
       "      <td>1.0</td>\n",
       "      <td>311400.0000</td>\n",
       "      <td>1.047156e+06</td>\n",
       "      <td>262860.0000</td>\n",
       "      <td>2.550660e+06</td>\n",
       "    </tr>\n",
       "    <tr>\n",
       "      <th>6620523</th>\n",
       "      <td>1.0</td>\n",
       "      <td>374592.0000</td>\n",
       "      <td>1.198505e+06</td>\n",
       "      <td>324739.0000</td>\n",
       "      <td>3.526534e+06</td>\n",
       "    </tr>\n",
       "  </tbody>\n",
       "</table>\n",
       "<p>11962 rows × 5 columns</p>\n",
       "</div>"
      ],
      "text/plain": [
       "         agi_stub  N_returns_real_estate_taxes  Real_estate_taxes_amount  \\\n",
       "zipcode                                                                    \n",
       "20       100330.0                   76607.0258              3.620330e+05   \n",
       "21         1895.0                    1604.0278              9.570028e+03   \n",
       "22         2062.0                    2801.0271              1.345803e+04   \n",
       "23         2044.0                    3070.0264              1.476103e+04   \n",
       "24         2014.0                    3185.0267              1.469103e+04   \n",
       "...           ...                          ...                       ...   \n",
       "6231480       1.0                  277980.0000              1.049358e+06   \n",
       "6336730       1.0                  281130.0000              1.001976e+06   \n",
       "6404780       0.0                  337280.0000              1.085536e+06   \n",
       "6411100       1.0                  311400.0000              1.047156e+06   \n",
       "6620523       1.0                  374592.0000              1.198505e+06   \n",
       "\n",
       "         N_returns_mortgage_interest_paid  Mortgage_interest_paid_amount  \n",
       "zipcode                                                                   \n",
       "20                             28606.0283                   2.145360e+05  \n",
       "21                               552.0331                   4.494033e+03  \n",
       "22                               942.0358                   8.757036e+03  \n",
       "23                              1208.0354                   1.049904e+04  \n",
       "24                              1290.0354                   1.168304e+04  \n",
       "...                                   ...                            ...  \n",
       "6231480                       230280.0000                   2.139067e+06  \n",
       "6336730                       236020.0000                   2.199729e+06  \n",
       "6404780                       288030.0000                   2.931363e+06  \n",
       "6411100                       262860.0000                   2.550660e+06  \n",
       "6620523                       324739.0000                   3.526534e+06  \n",
       "\n",
       "[11962 rows x 5 columns]"
      ]
     },
     "execution_count": 105,
     "metadata": {},
     "output_type": "execute_result"
    }
   ],
   "source": [
    "soi2_ca.sort_values(by = [\"zipcode\"])\n",
    "soi2 = soi2[soi2[\"zipcode\"]!= 0]\n",
    "g = soi2.groupby(\"zipcode\")\n",
    "g.sum()"
   ]
  },
  {
   "cell_type": "code",
   "execution_count": 90,
   "id": "12af6616",
   "metadata": {},
   "outputs": [
    {
     "data": {
      "text/html": [
       "<div>\n",
       "<style scoped>\n",
       "    .dataframe tbody tr th:only-of-type {\n",
       "        vertical-align: middle;\n",
       "    }\n",
       "\n",
       "    .dataframe tbody tr th {\n",
       "        vertical-align: top;\n",
       "    }\n",
       "\n",
       "    .dataframe thead th {\n",
       "        text-align: right;\n",
       "    }\n",
       "</style>\n",
       "<table border=\"1\" class=\"dataframe\">\n",
       "  <thead>\n",
       "    <tr style=\"text-align: right;\">\n",
       "      <th></th>\n",
       "      <th>agi_stub</th>\n",
       "      <th>N_returns_real_estate_taxes</th>\n",
       "      <th>Real_estate_taxes_amount</th>\n",
       "      <th>N_returns_mortgage_interest_paid</th>\n",
       "      <th>Mortgage_interest_paid_amount</th>\n",
       "    </tr>\n",
       "    <tr>\n",
       "      <th>zipcode</th>\n",
       "      <th></th>\n",
       "      <th></th>\n",
       "      <th></th>\n",
       "      <th></th>\n",
       "      <th></th>\n",
       "    </tr>\n",
       "  </thead>\n",
       "  <tbody>\n",
       "    <tr>\n",
       "      <th>0.0001</th>\n",
       "      <td>109237.0</td>\n",
       "      <td>6399.0260</td>\n",
       "      <td>17441.0260</td>\n",
       "      <td>5648.0260</td>\n",
       "      <td>39689.0260</td>\n",
       "    </tr>\n",
       "    <tr>\n",
       "      <th>20.0000</th>\n",
       "      <td>100330.0</td>\n",
       "      <td>76607.0258</td>\n",
       "      <td>362033.0258</td>\n",
       "      <td>28606.0283</td>\n",
       "      <td>214536.0283</td>\n",
       "    </tr>\n",
       "    <tr>\n",
       "      <th>21.0000</th>\n",
       "      <td>1895.0</td>\n",
       "      <td>1604.0278</td>\n",
       "      <td>9570.0278</td>\n",
       "      <td>552.0331</td>\n",
       "      <td>4494.0331</td>\n",
       "    </tr>\n",
       "    <tr>\n",
       "      <th>22.0000</th>\n",
       "      <td>2062.0</td>\n",
       "      <td>2801.0271</td>\n",
       "      <td>13458.0271</td>\n",
       "      <td>942.0358</td>\n",
       "      <td>8757.0358</td>\n",
       "    </tr>\n",
       "    <tr>\n",
       "      <th>23.0000</th>\n",
       "      <td>2044.0</td>\n",
       "      <td>3070.0264</td>\n",
       "      <td>14761.0264</td>\n",
       "      <td>1208.0354</td>\n",
       "      <td>10499.0354</td>\n",
       "    </tr>\n",
       "  </tbody>\n",
       "</table>\n",
       "</div>"
      ],
      "text/plain": [
       "         agi_stub  N_returns_real_estate_taxes  Real_estate_taxes_amount  \\\n",
       "zipcode                                                                    \n",
       "0.0001   109237.0                    6399.0260                17441.0260   \n",
       "20.0000  100330.0                   76607.0258               362033.0258   \n",
       "21.0000    1895.0                    1604.0278                 9570.0278   \n",
       "22.0000    2062.0                    2801.0271                13458.0271   \n",
       "23.0000    2044.0                    3070.0264                14761.0264   \n",
       "\n",
       "         N_returns_mortgage_interest_paid  Mortgage_interest_paid_amount  \n",
       "zipcode                                                                   \n",
       "0.0001                          5648.0260                     39689.0260  \n",
       "20.0000                        28606.0283                    214536.0283  \n",
       "21.0000                          552.0331                      4494.0331  \n",
       "22.0000                          942.0358                      8757.0358  \n",
       "23.0000                         1208.0354                     10499.0354  "
      ]
     },
     "execution_count": 90,
     "metadata": {},
     "output_type": "execute_result"
    }
   ],
   "source": [
    "soi2.head()"
   ]
  },
  {
   "cell_type": "code",
   "execution_count": 85,
   "id": "302f3b59",
   "metadata": {},
   "outputs": [],
   "source": []
  },
  {
   "cell_type": "code",
   "execution_count": 5,
   "id": "b6aeb677",
   "metadata": {},
   "outputs": [],
   "source": [
    "soi2_ca.to_csv(\"./data/soi_ca_allzips.csv\")"
   ]
  },
  {
   "cell_type": "code",
   "execution_count": null,
   "id": "88d16988",
   "metadata": {},
   "outputs": [],
   "source": []
  },
  {
   "cell_type": "code",
   "execution_count": null,
   "id": "1a5b339e",
   "metadata": {},
   "outputs": [],
   "source": []
  },
  {
   "cell_type": "code",
   "execution_count": null,
   "id": "0db4078b",
   "metadata": {},
   "outputs": [],
   "source": [
    "  "
   ]
  },
  {
   "cell_type": "code",
   "execution_count": null,
   "id": "85ed9845",
   "metadata": {},
   "outputs": [],
   "source": []
  },
  {
   "cell_type": "code",
   "execution_count": null,
   "id": "7aca65c0",
   "metadata": {},
   "outputs": [],
   "source": []
  },
  {
   "cell_type": "code",
   "execution_count": null,
   "id": "c00b6f07",
   "metadata": {},
   "outputs": [],
   "source": []
  },
  {
   "cell_type": "code",
   "execution_count": null,
   "id": "27e62212",
   "metadata": {},
   "outputs": [],
   "source": []
  },
  {
   "cell_type": "code",
   "execution_count": null,
   "id": "a42c0931",
   "metadata": {},
   "outputs": [],
   "source": []
  },
  {
   "cell_type": "code",
   "execution_count": null,
   "id": "6903ab8f",
   "metadata": {},
   "outputs": [],
   "source": []
  },
  {
   "cell_type": "code",
   "execution_count": null,
   "id": "9926b49d",
   "metadata": {},
   "outputs": [],
   "source": []
  },
  {
   "cell_type": "code",
   "execution_count": null,
   "id": "4dc12a4b",
   "metadata": {},
   "outputs": [],
   "source": []
  },
  {
   "cell_type": "code",
   "execution_count": null,
   "id": "f3281e38",
   "metadata": {},
   "outputs": [],
   "source": []
  },
  {
   "cell_type": "code",
   "execution_count": 104,
   "id": "dbe46d3f",
   "metadata": {},
   "outputs": [],
   "source": []
  },
  {
   "cell_type": "code",
   "execution_count": null,
   "id": "711327e7",
   "metadata": {},
   "outputs": [],
   "source": []
  },
  {
   "cell_type": "code",
   "execution_count": 121,
   "id": "e8d2fced",
   "metadata": {},
   "outputs": [],
   "source": []
  },
  {
   "cell_type": "code",
   "execution_count": null,
   "id": "dd56ada7",
   "metadata": {},
   "outputs": [],
   "source": []
  },
  {
   "cell_type": "code",
   "execution_count": null,
   "id": "d9f39a42",
   "metadata": {},
   "outputs": [],
   "source": []
  },
  {
   "cell_type": "code",
   "execution_count": null,
   "id": "10a47e57",
   "metadata": {},
   "outputs": [],
   "source": []
  },
  {
   "cell_type": "code",
   "execution_count": null,
   "id": "2c7892a6",
   "metadata": {},
   "outputs": [],
   "source": []
  },
  {
   "cell_type": "code",
   "execution_count": null,
   "id": "46a8f69d",
   "metadata": {},
   "outputs": [],
   "source": []
  },
  {
   "cell_type": "code",
   "execution_count": null,
   "id": "09902e38",
   "metadata": {},
   "outputs": [],
   "source": []
  },
  {
   "cell_type": "code",
   "execution_count": null,
   "id": "c0e5c927",
   "metadata": {},
   "outputs": [],
   "source": []
  },
  {
   "cell_type": "code",
   "execution_count": null,
   "id": "37938762",
   "metadata": {},
   "outputs": [],
   "source": []
  },
  {
   "cell_type": "code",
   "execution_count": null,
   "id": "25bec314",
   "metadata": {},
   "outputs": [],
   "source": []
  },
  {
   "cell_type": "code",
   "execution_count": null,
   "id": "908797ab",
   "metadata": {},
   "outputs": [],
   "source": []
  }
 ],
 "metadata": {
  "kernelspec": {
   "display_name": "Python 3",
   "language": "python",
   "name": "python3"
  },
  "language_info": {
   "codemirror_mode": {
    "name": "ipython",
    "version": 3
   },
   "file_extension": ".py",
   "mimetype": "text/x-python",
   "name": "python",
   "nbconvert_exporter": "python",
   "pygments_lexer": "ipython3",
   "version": "3.8.8"
  }
 },
 "nbformat": 4,
 "nbformat_minor": 5
}
