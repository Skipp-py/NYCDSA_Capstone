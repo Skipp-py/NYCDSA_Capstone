{
 "cells": [
  {
   "cell_type": "code",
   "execution_count": 1,
   "id": "11d70c35",
   "metadata": {},
   "outputs": [],
   "source": [
    "import pandas as pd\n",
    "import geopandas as gpd\n",
    "import numpy as np\n",
    "import folium\n",
    "import os"
   ]
  },
  {
   "cell_type": "code",
   "execution_count": 2,
   "id": "b64d60bf",
   "metadata": {},
   "outputs": [],
   "source": [
    "cali_full = pd.read_csv('data/metro_CA_2011_2018.csv')\n",
    "cali_zcta = pd.read_csv(os.path.join('data/cali_ziptozcta.csv'), dtype={'zcta': object})\n",
    "cali_geom = geoJSON_df = gpd.read_file('data/stanford-dc841dq9031-geojson.json')"
   ]
  },
  {
   "cell_type": "code",
   "execution_count": 3,
   "id": "ccd1f429",
   "metadata": {},
   "outputs": [
    {
     "data": {
      "text/html": [
       "<div>\n",
       "<style scoped>\n",
       "    .dataframe tbody tr th:only-of-type {\n",
       "        vertical-align: middle;\n",
       "    }\n",
       "\n",
       "    .dataframe tbody tr th {\n",
       "        vertical-align: top;\n",
       "    }\n",
       "\n",
       "    .dataframe thead th {\n",
       "        text-align: right;\n",
       "    }\n",
       "</style>\n",
       "<table border=\"1\" class=\"dataframe\">\n",
       "  <thead>\n",
       "    <tr style=\"text-align: right;\">\n",
       "      <th></th>\n",
       "      <th>Date</th>\n",
       "      <th>aggregate_travel_time_to_work</th>\n",
       "      <th>amerindian_including_hispanic</th>\n",
       "      <th>amerindian_pop</th>\n",
       "      <th>armed_forces</th>\n",
       "      <th>asian_including_hispanic</th>\n",
       "      <th>asian_male_45_54</th>\n",
       "      <th>asian_male_55_64</th>\n",
       "      <th>asian_pop</th>\n",
       "      <th>associates_degree</th>\n",
       "      <th>...</th>\n",
       "      <th>vacant_housing_units_for_rent</th>\n",
       "      <th>vacant_housing_units_for_sale</th>\n",
       "      <th>walked_to_work</th>\n",
       "      <th>white_including_hispanic</th>\n",
       "      <th>white_male_45_54</th>\n",
       "      <th>white_male_55_64</th>\n",
       "      <th>white_pop</th>\n",
       "      <th>worked_at_home</th>\n",
       "      <th>workers_16_and_over</th>\n",
       "      <th>Zipcode</th>\n",
       "    </tr>\n",
       "  </thead>\n",
       "  <tbody>\n",
       "    <tr>\n",
       "      <th>0</th>\n",
       "      <td>2011</td>\n",
       "      <td>659055.0</td>\n",
       "      <td>309</td>\n",
       "      <td>19</td>\n",
       "      <td>0</td>\n",
       "      <td>59</td>\n",
       "      <td>0</td>\n",
       "      <td>0</td>\n",
       "      <td>48</td>\n",
       "      <td>903</td>\n",
       "      <td>...</td>\n",
       "      <td>396</td>\n",
       "      <td>129</td>\n",
       "      <td>566</td>\n",
       "      <td>40379</td>\n",
       "      <td>0</td>\n",
       "      <td>0</td>\n",
       "      <td>465</td>\n",
       "      <td>426</td>\n",
       "      <td>20883</td>\n",
       "      <td>90001</td>\n",
       "    </tr>\n",
       "  </tbody>\n",
       "</table>\n",
       "<p>1 rows × 253 columns</p>\n",
       "</div>"
      ],
      "text/plain": [
       "   Date  aggregate_travel_time_to_work  amerindian_including_hispanic  \\\n",
       "0  2011                       659055.0                            309   \n",
       "\n",
       "   amerindian_pop  armed_forces  asian_including_hispanic  asian_male_45_54  \\\n",
       "0              19             0                        59                 0   \n",
       "\n",
       "   asian_male_55_64  asian_pop  associates_degree  ...  \\\n",
       "0                 0         48                903  ...   \n",
       "\n",
       "   vacant_housing_units_for_rent  vacant_housing_units_for_sale  \\\n",
       "0                            396                            129   \n",
       "\n",
       "   walked_to_work  white_including_hispanic  white_male_45_54  \\\n",
       "0             566                     40379                 0   \n",
       "\n",
       "   white_male_55_64  white_pop  worked_at_home  workers_16_and_over  Zipcode  \n",
       "0                 0        465             426                20883    90001  \n",
       "\n",
       "[1 rows x 253 columns]"
      ]
     },
     "execution_count": 3,
     "metadata": {},
     "output_type": "execute_result"
    }
   ],
   "source": [
    "cali_full.head(1)"
   ]
  },
  {
   "cell_type": "code",
   "execution_count": 4,
   "id": "5600f2fe",
   "metadata": {},
   "outputs": [
    {
     "data": {
      "text/html": [
       "<div>\n",
       "<style scoped>\n",
       "    .dataframe tbody tr th:only-of-type {\n",
       "        vertical-align: middle;\n",
       "    }\n",
       "\n",
       "    .dataframe tbody tr th {\n",
       "        vertical-align: top;\n",
       "    }\n",
       "\n",
       "    .dataframe thead th {\n",
       "        text-align: right;\n",
       "    }\n",
       "</style>\n",
       "<table border=\"1\" class=\"dataframe\">\n",
       "  <thead>\n",
       "    <tr style=\"text-align: right;\">\n",
       "      <th></th>\n",
       "      <th>Zipcode</th>\n",
       "      <th>zcta</th>\n",
       "    </tr>\n",
       "  </thead>\n",
       "  <tbody>\n",
       "    <tr>\n",
       "      <th>0</th>\n",
       "      <td>90001</td>\n",
       "      <td>90001</td>\n",
       "    </tr>\n",
       "  </tbody>\n",
       "</table>\n",
       "</div>"
      ],
      "text/plain": [
       "   Zipcode   zcta\n",
       "0    90001  90001"
      ]
     },
     "execution_count": 4,
     "metadata": {},
     "output_type": "execute_result"
    }
   ],
   "source": [
    "cali_zcta.head(1)"
   ]
  },
  {
   "cell_type": "code",
   "execution_count": 5,
   "id": "7ff84bc2",
   "metadata": {},
   "outputs": [
    {
     "data": {
      "text/html": [
       "<div>\n",
       "<style scoped>\n",
       "    .dataframe tbody tr th:only-of-type {\n",
       "        vertical-align: middle;\n",
       "    }\n",
       "\n",
       "    .dataframe tbody tr th {\n",
       "        vertical-align: top;\n",
       "    }\n",
       "\n",
       "    .dataframe thead th {\n",
       "        text-align: right;\n",
       "    }\n",
       "</style>\n",
       "<table border=\"1\" class=\"dataframe\">\n",
       "  <thead>\n",
       "    <tr style=\"text-align: right;\">\n",
       "      <th></th>\n",
       "      <th>id</th>\n",
       "      <th>objectid</th>\n",
       "      <th>cnty_fips</th>\n",
       "      <th>county</th>\n",
       "      <th>tract</th>\n",
       "      <th>tract_id</th>\n",
       "      <th>census_key</th>\n",
       "      <th>zcta</th>\n",
       "      <th>zcta_key</th>\n",
       "      <th>latitude</th>\n",
       "      <th>...</th>\n",
       "      <th>hu_vac</th>\n",
       "      <th>hu_vac_ren</th>\n",
       "      <th>hu_vac_sea</th>\n",
       "      <th>hu_occ_own</th>\n",
       "      <th>hu_occ_o_1</th>\n",
       "      <th>hu_occ_ren</th>\n",
       "      <th>hu_occ_r_1</th>\n",
       "      <th>shape_area</th>\n",
       "      <th>shape_len</th>\n",
       "      <th>geometry</th>\n",
       "    </tr>\n",
       "  </thead>\n",
       "  <tbody>\n",
       "    <tr>\n",
       "      <th>0</th>\n",
       "      <td>dc841dq9031.1</td>\n",
       "      <td>1</td>\n",
       "      <td>None</td>\n",
       "      <td>None</td>\n",
       "      <td>None</td>\n",
       "      <td>None</td>\n",
       "      <td>None</td>\n",
       "      <td>94601</td>\n",
       "      <td>0694601</td>\n",
       "      <td>37.776711</td>\n",
       "      <td>...</td>\n",
       "      <td>1536</td>\n",
       "      <td>839</td>\n",
       "      <td>28</td>\n",
       "      <td>4764</td>\n",
       "      <td>16528</td>\n",
       "      <td>10062</td>\n",
       "      <td>32927</td>\n",
       "      <td>8.721649e+06</td>\n",
       "      <td>15265.09388</td>\n",
       "      <td>MULTIPOLYGON (((-122.22717 37.79197, -122.2269...</td>\n",
       "    </tr>\n",
       "  </tbody>\n",
       "</table>\n",
       "<p>1 rows × 87 columns</p>\n",
       "</div>"
      ],
      "text/plain": [
       "              id  objectid cnty_fips county tract tract_id census_key   zcta  \\\n",
       "0  dc841dq9031.1         1      None   None  None     None       None  94601   \n",
       "\n",
       "  zcta_key   latitude  ...  hu_vac  hu_vac_ren  hu_vac_sea  hu_occ_own  \\\n",
       "0  0694601  37.776711  ...    1536         839          28        4764   \n",
       "\n",
       "   hu_occ_o_1  hu_occ_ren  hu_occ_r_1    shape_area    shape_len  \\\n",
       "0       16528       10062       32927  8.721649e+06  15265.09388   \n",
       "\n",
       "                                            geometry  \n",
       "0  MULTIPOLYGON (((-122.22717 37.79197, -122.2269...  \n",
       "\n",
       "[1 rows x 87 columns]"
      ]
     },
     "execution_count": 5,
     "metadata": {},
     "output_type": "execute_result"
    }
   ],
   "source": [
    "cali_geom.head(1)"
   ]
  },
  {
   "cell_type": "code",
   "execution_count": 6,
   "id": "d12383b3",
   "metadata": {},
   "outputs": [],
   "source": [
    "cali_zcta = cali_zcta.merge(cali_geom, on = 'zcta', how = 'left')\n",
    "cali_zcta = cali_zcta[['Zipcode', 'zcta', 'geometry']]"
   ]
  },
  {
   "cell_type": "code",
   "execution_count": 7,
   "id": "5e4323e9",
   "metadata": {},
   "outputs": [
    {
     "data": {
      "text/html": [
       "<div>\n",
       "<style scoped>\n",
       "    .dataframe tbody tr th:only-of-type {\n",
       "        vertical-align: middle;\n",
       "    }\n",
       "\n",
       "    .dataframe tbody tr th {\n",
       "        vertical-align: top;\n",
       "    }\n",
       "\n",
       "    .dataframe thead th {\n",
       "        text-align: right;\n",
       "    }\n",
       "</style>\n",
       "<table border=\"1\" class=\"dataframe\">\n",
       "  <thead>\n",
       "    <tr style=\"text-align: right;\">\n",
       "      <th></th>\n",
       "      <th>Zipcode</th>\n",
       "      <th>zcta</th>\n",
       "      <th>geometry</th>\n",
       "    </tr>\n",
       "  </thead>\n",
       "  <tbody>\n",
       "    <tr>\n",
       "      <th>0</th>\n",
       "      <td>90001</td>\n",
       "      <td>90001</td>\n",
       "      <td>MULTIPOLYGON (((-118.23795 33.96015, -118.2385...</td>\n",
       "    </tr>\n",
       "  </tbody>\n",
       "</table>\n",
       "</div>"
      ],
      "text/plain": [
       "   Zipcode   zcta                                           geometry\n",
       "0    90001  90001  MULTIPOLYGON (((-118.23795 33.96015, -118.2385..."
      ]
     },
     "execution_count": 7,
     "metadata": {},
     "output_type": "execute_result"
    }
   ],
   "source": [
    "cali_zcta.head(1)"
   ]
  },
  {
   "cell_type": "code",
   "execution_count": 8,
   "id": "6f8a4da2",
   "metadata": {},
   "outputs": [],
   "source": [
    "cali_full = cali_full.merge(cali_zcta, on = 'Zipcode', how = 'left')"
   ]
  },
  {
   "cell_type": "code",
   "execution_count": 9,
   "id": "8ac9fe99",
   "metadata": {},
   "outputs": [
    {
     "data": {
      "text/plain": [
       "90001    8\n",
       "92841    8\n",
       "92807    8\n",
       "92808    8\n",
       "92821    8\n",
       "        ..\n",
       "91763    8\n",
       "91764    8\n",
       "91765    8\n",
       "91766    8\n",
       "96150    8\n",
       "Name: Zipcode, Length: 764, dtype: int64"
      ]
     },
     "execution_count": 9,
     "metadata": {},
     "output_type": "execute_result"
    }
   ],
   "source": [
    "cali_full['Zipcode'].value_counts()"
   ]
  }
 ],
 "metadata": {
  "kernelspec": {
   "display_name": "Python 3 (ipykernel)",
   "language": "python",
   "name": "python3"
  },
  "language_info": {
   "codemirror_mode": {
    "name": "ipython",
    "version": 3
   },
   "file_extension": ".py",
   "mimetype": "text/x-python",
   "name": "python",
   "nbconvert_exporter": "python",
   "pygments_lexer": "ipython3",
   "version": "3.9.7"
  }
 },
 "nbformat": 4,
 "nbformat_minor": 5
}
