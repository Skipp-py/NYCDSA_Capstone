{
 "cells": [
  {
   "cell_type": "raw",
   "id": "d2cf6286",
   "metadata": {},
   "source": [
    "This is my code for creating housing supply-demand index for all metro areas in California for 2019. The index formuls is (population2019 - population2018)/total permits approved in 2019. "
   ]
  },
  {
   "cell_type": "code",
   "execution_count": 77,
   "id": "91fb70a0",
   "metadata": {},
   "outputs": [],
   "source": [
    "import pandas as pd\n",
    "permits = pd.read_csv('msaannual_201999.xlsx - MSA Units.csv')"
   ]
  },
  {
   "cell_type": "code",
   "execution_count": 78,
   "id": "74bcd614",
   "metadata": {},
   "outputs": [],
   "source": [
    "import bamboolib"
   ]
  },
  {
   "cell_type": "code",
   "execution_count": 79,
   "id": "ceb6e8b0",
   "metadata": {},
   "outputs": [],
   "source": [
    "split_df = permits['Name'].str.split(',', expand=True)\n",
    "split_df.columns = ['Name' + f\"_{id_}\" for id_ in range(len(split_df.columns))]\n",
    "permits = pd.merge(permits, split_df, how=\"left\", left_index=True, right_index=True)\n",
    "cleaned_column_names = (permits.columns\n",
    "                        .str.strip()\n",
    "                        .str.replace('((?<=[a-z0-9])[A-Z]|(?!^)[A-Z](?=[a-z]))', r'_\\1')\n",
    "                        .str.lower()\n",
    "                        .str.replace('[ _-]+', '_')\n",
    "                        .str.replace('[}{)(><.!?\\\\\\\\:;,-]', ''))\n",
    "permits.columns = cleaned_column_names"
   ]
  },
  {
   "cell_type": "code",
   "execution_count": 80,
   "id": "6249ba06",
   "metadata": {},
   "outputs": [
    {
     "data": {
      "application/vnd.jupyter.widget-view+json": {
       "model_id": "931375fec890437c95b8eefec13e22c7"
      },
      "text/html": [
       "<div>\n",
       "<style scoped>\n",
       "    .dataframe tbody tr th:only-of-type {\n",
       "        vertical-align: middle;\n",
       "    }\n",
       "\n",
       "    .dataframe tbody tr th {\n",
       "        vertical-align: top;\n",
       "    }\n",
       "\n",
       "    .dataframe thead th {\n",
       "        text-align: right;\n",
       "    }\n",
       "</style>\n",
       "<table border=\"1\" class=\"dataframe\">\n",
       "  <thead>\n",
       "    <tr style=\"text-align: right;\">\n",
       "      <th></th>\n",
       "      <th>csa</th>\n",
       "      <th>cbsa</th>\n",
       "      <th>name</th>\n",
       "      <th>total</th>\n",
       "      <th>1_unit</th>\n",
       "      <th>2_units</th>\n",
       "      <th>3_and_4_units</th>\n",
       "      <th>5_units_or_more</th>\n",
       "      <th>num_of_structures_with_5_units_or_more</th>\n",
       "      <th>name_0</th>\n",
       "      <th>state</th>\n",
       "    </tr>\n",
       "  </thead>\n",
       "  <tbody>\n",
       "    <tr>\n",
       "      <th>0</th>\n",
       "      <td>999</td>\n",
       "      <td>10180</td>\n",
       "      <td>Abilene, TX                                   ...</td>\n",
       "      <td>370</td>\n",
       "      <td>354</td>\n",
       "      <td>16</td>\n",
       "      <td>0</td>\n",
       "      <td>0</td>\n",
       "      <td>0</td>\n",
       "      <td>Abilene</td>\n",
       "      <td>TX                                           ...</td>\n",
       "    </tr>\n",
       "    <tr>\n",
       "      <th>1</th>\n",
       "      <td>184</td>\n",
       "      <td>10420</td>\n",
       "      <td>Akron, OH                                     ...</td>\n",
       "      <td>945</td>\n",
       "      <td>856</td>\n",
       "      <td>2</td>\n",
       "      <td>32</td>\n",
       "      <td>55</td>\n",
       "      <td>1</td>\n",
       "      <td>Akron</td>\n",
       "      <td>OH                                           ...</td>\n",
       "    </tr>\n",
       "    <tr>\n",
       "      <th>2</th>\n",
       "      <td>999</td>\n",
       "      <td>10500</td>\n",
       "      <td>Albany, GA                                    ...</td>\n",
       "      <td>402</td>\n",
       "      <td>182</td>\n",
       "      <td>0</td>\n",
       "      <td>0</td>\n",
       "      <td>220</td>\n",
       "      <td>10</td>\n",
       "      <td>Albany</td>\n",
       "      <td>GA                                           ...</td>\n",
       "    </tr>\n",
       "    <tr>\n",
       "      <th>3</th>\n",
       "      <td>440</td>\n",
       "      <td>10540</td>\n",
       "      <td>Albany-Lebanon, OR                            ...</td>\n",
       "      <td>716</td>\n",
       "      <td>466</td>\n",
       "      <td>0</td>\n",
       "      <td>0</td>\n",
       "      <td>250</td>\n",
       "      <td>26</td>\n",
       "      <td>Albany-Lebanon</td>\n",
       "      <td>OR</td>\n",
       "    </tr>\n",
       "    <tr>\n",
       "      <th>4</th>\n",
       "      <td>104</td>\n",
       "      <td>10580</td>\n",
       "      <td>Albany-Schenectady-Troy, NY                   ...</td>\n",
       "      <td>1870</td>\n",
       "      <td>1120</td>\n",
       "      <td>40</td>\n",
       "      <td>45</td>\n",
       "      <td>665</td>\n",
       "      <td>48</td>\n",
       "      <td>Albany-Schenectady-Troy</td>\n",
       "      <td>NY</td>\n",
       "    </tr>\n",
       "  </tbody>\n",
       "</table>\n",
       "</div>"
      ],
      "text/plain": [
       "   csa   cbsa                                               name  total  \\\n",
       "0  999  10180  Abilene, TX                                   ...    370   \n",
       "1  184  10420  Akron, OH                                     ...    945   \n",
       "2  999  10500  Albany, GA                                    ...    402   \n",
       "3  440  10540  Albany-Lebanon, OR                            ...    716   \n",
       "4  104  10580  Albany-Schenectady-Troy, NY                   ...   1870   \n",
       "\n",
       "   1_unit  2_units  3_and_4_units  5_units_or_more  \\\n",
       "0     354       16              0                0   \n",
       "1     856        2             32               55   \n",
       "2     182        0              0              220   \n",
       "3     466        0              0              250   \n",
       "4    1120       40             45              665   \n",
       "\n",
       "   num_of_structures_with_5_units_or_more                   name_0  \\\n",
       "0                                       0                  Abilene   \n",
       "1                                       1                    Akron   \n",
       "2                                      10                   Albany   \n",
       "3                                      26           Albany-Lebanon   \n",
       "4                                      48  Albany-Schenectady-Troy   \n",
       "\n",
       "                                               state  \n",
       "0   TX                                           ...  \n",
       "1   OH                                           ...  \n",
       "2   GA                                           ...  \n",
       "3       OR                                            \n",
       "4                NY                                   "
      ]
     },
     "metadata": {},
     "output_type": "display_data"
    }
   ],
   "source": [
    "permits.rename({'name_1': 'state'}, axis=1, inplace=True)\n",
    "permits.head()"
   ]
  },
  {
   "cell_type": "code",
   "execution_count": 81,
   "id": "ac70f5e7",
   "metadata": {},
   "outputs": [],
   "source": [
    "permits.rename({'name_o': 'area'}, axis=1, inplace=True)\n",
    "permits = permits.drop(columns=['name'])"
   ]
  },
  {
   "cell_type": "code",
   "execution_count": 82,
   "id": "b7014bad",
   "metadata": {},
   "outputs": [],
   "source": [
    "pop = pd.read_csv('cbsa-met-Population Estimate.xlsx - CBSA-MET-EST2019-ANNRES.csv')"
   ]
  },
  {
   "cell_type": "code",
   "execution_count": 83,
   "id": "2df8626e",
   "metadata": {},
   "outputs": [],
   "source": [
    "header_row = 0\n",
    "pop.columns = pop.iloc[header_row]\n",
    "pop = pop.loc[~(pop['area'].str.contains('area', case=True, regex=False, na=False))]\n",
    "split_df = pop['area'].str.split(',', n=1, expand=True)\n",
    "split_df.columns = ['area' + f\"_{id_}\" for id_ in range(len(split_df.columns))]\n",
    "pop = pd.merge(pop, split_df, how=\"left\", left_index=True, right_index=True)"
   ]
  },
  {
   "cell_type": "code",
   "execution_count": 84,
   "id": "df653d16",
   "metadata": {},
   "outputs": [],
   "source": [
    "pop = pop.drop(columns = ['area'])"
   ]
  },
  {
   "cell_type": "code",
   "execution_count": 85,
   "id": "27123241",
   "metadata": {},
   "outputs": [],
   "source": [
    "pop.rename({'area_1': 'state'}, axis=1, inplace=True)\n",
    "pop.rename({'area_0': 'area'}, axis=1, inplace=True)"
   ]
  },
  {
   "cell_type": "code",
   "execution_count": 88,
   "id": "08ba8586",
   "metadata": {},
   "outputs": [],
   "source": [
    "pop['area'] = pop['area'].map(lambda x: x.lstrip('.'))"
   ]
  },
  {
   "cell_type": "code",
   "execution_count": 87,
   "id": "0365919f",
   "metadata": {},
   "outputs": [
    {
     "data": {
      "application/vnd.jupyter.widget-view+json": {
       "model_id": "2aa4963177374160b38e0d0db2a804c8"
      },
      "text/html": [
       "<div>\n",
       "<style scoped>\n",
       "    .dataframe tbody tr th:only-of-type {\n",
       "        vertical-align: middle;\n",
       "    }\n",
       "\n",
       "    .dataframe tbody tr th {\n",
       "        vertical-align: top;\n",
       "    }\n",
       "\n",
       "    .dataframe thead th {\n",
       "        text-align: right;\n",
       "    }\n",
       "</style>\n",
       "<table border=\"1\" class=\"dataframe\">\n",
       "  <thead>\n",
       "    <tr style=\"text-align: right;\">\n",
       "      <th></th>\n",
       "      <th>2020</th>\n",
       "      <th>2010</th>\n",
       "      <th>2011</th>\n",
       "      <th>2012</th>\n",
       "      <th>2013</th>\n",
       "      <th>2014</th>\n",
       "      <th>2015</th>\n",
       "      <th>2016</th>\n",
       "      <th>2017</th>\n",
       "      <th>2018</th>\n",
       "      <th>...</th>\n",
       "      <th>csa</th>\n",
       "      <th>cbsa</th>\n",
       "      <th>total</th>\n",
       "      <th>1_unit</th>\n",
       "      <th>2_units</th>\n",
       "      <th>3_and_4_units</th>\n",
       "      <th>5_units_or_more</th>\n",
       "      <th>num_of_structures_with_5_units_or_more</th>\n",
       "      <th>name_0</th>\n",
       "      <th>state_y</th>\n",
       "    </tr>\n",
       "  </thead>\n",
       "  <tbody>\n",
       "    <tr>\n",
       "      <th>22</th>\n",
       "      <td>839621</td>\n",
       "      <td>840996</td>\n",
       "      <td>847970</td>\n",
       "      <td>853606</td>\n",
       "      <td>862000</td>\n",
       "      <td>869176</td>\n",
       "      <td>876031</td>\n",
       "      <td>880856</td>\n",
       "      <td>887356</td>\n",
       "      <td>893758</td>\n",
       "      <td>...</td>\n",
       "      <td>999</td>\n",
       "      <td>12540</td>\n",
       "      <td>2261</td>\n",
       "      <td>2190</td>\n",
       "      <td>12</td>\n",
       "      <td>24</td>\n",
       "      <td>35</td>\n",
       "      <td>6</td>\n",
       "      <td>Bakersfield</td>\n",
       "      <td>CA</td>\n",
       "    </tr>\n",
       "    <tr>\n",
       "      <th>71</th>\n",
       "      <td>220005</td>\n",
       "      <td>219949</td>\n",
       "      <td>219975</td>\n",
       "      <td>220869</td>\n",
       "      <td>221641</td>\n",
       "      <td>223516</td>\n",
       "      <td>224631</td>\n",
       "      <td>226231</td>\n",
       "      <td>228696</td>\n",
       "      <td>230339</td>\n",
       "      <td>...</td>\n",
       "      <td>999</td>\n",
       "      <td>17020</td>\n",
       "      <td>1426</td>\n",
       "      <td>885</td>\n",
       "      <td>6</td>\n",
       "      <td>64</td>\n",
       "      <td>471</td>\n",
       "      <td>36</td>\n",
       "      <td>Chico</td>\n",
       "      <td>CA                                           ...</td>\n",
       "    </tr>\n",
       "    <tr>\n",
       "      <th>116</th>\n",
       "      <td>174524</td>\n",
       "      <td>174716</td>\n",
       "      <td>175786</td>\n",
       "      <td>176575</td>\n",
       "      <td>176438</td>\n",
       "      <td>177974</td>\n",
       "      <td>178937</td>\n",
       "      <td>180179</td>\n",
       "      <td>181649</td>\n",
       "      <td>181523</td>\n",
       "      <td>...</td>\n",
       "      <td>999</td>\n",
       "      <td>20940</td>\n",
       "      <td>398</td>\n",
       "      <td>266</td>\n",
       "      <td>0</td>\n",
       "      <td>0</td>\n",
       "      <td>132</td>\n",
       "      <td>11</td>\n",
       "      <td>El Centro</td>\n",
       "      <td>CA                                           ...</td>\n",
       "    </tr>\n",
       "    <tr>\n",
       "      <th>138</th>\n",
       "      <td>930507</td>\n",
       "      <td>932039</td>\n",
       "      <td>939406</td>\n",
       "      <td>945045</td>\n",
       "      <td>951514</td>\n",
       "      <td>960567</td>\n",
       "      <td>969488</td>\n",
       "      <td>976830</td>\n",
       "      <td>985238</td>\n",
       "      <td>991950</td>\n",
       "      <td>...</td>\n",
       "      <td>260</td>\n",
       "      <td>23420</td>\n",
       "      <td>3393</td>\n",
       "      <td>2441</td>\n",
       "      <td>60</td>\n",
       "      <td>213</td>\n",
       "      <td>679</td>\n",
       "      <td>76</td>\n",
       "      <td>Fresno</td>\n",
       "      <td>CA                                           ...</td>\n",
       "    </tr>\n",
       "    <tr>\n",
       "      <th>161</th>\n",
       "      <td>152974</td>\n",
       "      <td>152370</td>\n",
       "      <td>151868</td>\n",
       "      <td>150991</td>\n",
       "      <td>150337</td>\n",
       "      <td>149495</td>\n",
       "      <td>150085</td>\n",
       "      <td>149382</td>\n",
       "      <td>149665</td>\n",
       "      <td>151382</td>\n",
       "      <td>...</td>\n",
       "      <td>260</td>\n",
       "      <td>25260</td>\n",
       "      <td>409</td>\n",
       "      <td>382</td>\n",
       "      <td>2</td>\n",
       "      <td>0</td>\n",
       "      <td>25</td>\n",
       "      <td>3</td>\n",
       "      <td>Hanford-Corcoran</td>\n",
       "      <td>CA</td>\n",
       "    </tr>\n",
       "    <tr>\n",
       "      <th>233</th>\n",
       "      <td>12828957</td>\n",
       "      <td>12838417</td>\n",
       "      <td>12925753</td>\n",
       "      <td>13013443</td>\n",
       "      <td>13097434</td>\n",
       "      <td>13166609</td>\n",
       "      <td>13234696</td>\n",
       "      <td>13270694</td>\n",
       "      <td>13278000</td>\n",
       "      <td>13249879</td>\n",
       "      <td>...</td>\n",
       "      <td>348</td>\n",
       "      <td>31080</td>\n",
       "      <td>30554</td>\n",
       "      <td>9306</td>\n",
       "      <td>1694</td>\n",
       "      <td>358</td>\n",
       "      <td>19196</td>\n",
       "      <td>516</td>\n",
       "      <td>Los Angeles-Long Beach-Anaheim</td>\n",
       "      <td>CA</td>\n",
       "    </tr>\n",
       "    <tr>\n",
       "      <th>236</th>\n",
       "      <td>150834</td>\n",
       "      <td>150986</td>\n",
       "      <td>151675</td>\n",
       "      <td>151527</td>\n",
       "      <td>151370</td>\n",
       "      <td>153456</td>\n",
       "      <td>153576</td>\n",
       "      <td>153956</td>\n",
       "      <td>155423</td>\n",
       "      <td>156882</td>\n",
       "      <td>...</td>\n",
       "      <td>260</td>\n",
       "      <td>31460</td>\n",
       "      <td>644</td>\n",
       "      <td>644</td>\n",
       "      <td>0</td>\n",
       "      <td>0</td>\n",
       "      <td>0</td>\n",
       "      <td>0</td>\n",
       "      <td>Madera</td>\n",
       "      <td>CA                                           ...</td>\n",
       "    </tr>\n",
       "    <tr>\n",
       "      <th>245</th>\n",
       "      <td>255796</td>\n",
       "      <td>256721</td>\n",
       "      <td>259297</td>\n",
       "      <td>260867</td>\n",
       "      <td>262026</td>\n",
       "      <td>264419</td>\n",
       "      <td>266353</td>\n",
       "      <td>267628</td>\n",
       "      <td>271096</td>\n",
       "      <td>274151</td>\n",
       "      <td>...</td>\n",
       "      <td>488</td>\n",
       "      <td>32900</td>\n",
       "      <td>948</td>\n",
       "      <td>948</td>\n",
       "      <td>0</td>\n",
       "      <td>0</td>\n",
       "      <td>0</td>\n",
       "      <td>0</td>\n",
       "      <td>Merced</td>\n",
       "      <td>CA                                           ...</td>\n",
       "    </tr>\n",
       "    <tr>\n",
       "      <th>256</th>\n",
       "      <td>514450</td>\n",
       "      <td>515145</td>\n",
       "      <td>517560</td>\n",
       "      <td>520424</td>\n",
       "      <td>523451</td>\n",
       "      <td>528015</td>\n",
       "      <td>533211</td>\n",
       "      <td>539255</td>\n",
       "      <td>544717</td>\n",
       "      <td>548126</td>\n",
       "      <td>...</td>\n",
       "      <td>488</td>\n",
       "      <td>33700</td>\n",
       "      <td>699</td>\n",
       "      <td>611</td>\n",
       "      <td>4</td>\n",
       "      <td>3</td>\n",
       "      <td>81</td>\n",
       "      <td>7</td>\n",
       "      <td>Modesto</td>\n",
       "      <td>CA                                           ...</td>\n",
       "    </tr>\n",
       "    <tr>\n",
       "      <th>268</th>\n",
       "      <td>136535</td>\n",
       "      <td>136759</td>\n",
       "      <td>137691</td>\n",
       "      <td>138538</td>\n",
       "      <td>139580</td>\n",
       "      <td>140405</td>\n",
       "      <td>140862</td>\n",
       "      <td>140840</td>\n",
       "      <td>139878</td>\n",
       "      <td>138789</td>\n",
       "      <td>...</td>\n",
       "      <td>488</td>\n",
       "      <td>34900</td>\n",
       "      <td>749</td>\n",
       "      <td>135</td>\n",
       "      <td>2</td>\n",
       "      <td>4</td>\n",
       "      <td>608</td>\n",
       "      <td>1</td>\n",
       "      <td>Napa</td>\n",
       "      <td>CA                                           ...</td>\n",
       "    </tr>\n",
       "    <tr>\n",
       "      <th>288</th>\n",
       "      <td>823398</td>\n",
       "      <td>825097</td>\n",
       "      <td>830099</td>\n",
       "      <td>833516</td>\n",
       "      <td>838136</td>\n",
       "      <td>842297</td>\n",
       "      <td>845802</td>\n",
       "      <td>847323</td>\n",
       "      <td>849044</td>\n",
       "      <td>848142</td>\n",
       "      <td>...</td>\n",
       "      <td>348</td>\n",
       "      <td>37100</td>\n",
       "      <td>1146</td>\n",
       "      <td>609</td>\n",
       "      <td>34</td>\n",
       "      <td>31</td>\n",
       "      <td>472</td>\n",
       "      <td>39</td>\n",
       "      <td>Oxnard-Thousand Oaks-Ventura</td>\n",
       "      <td>CA</td>\n",
       "    </tr>\n",
       "    <tr>\n",
       "      <th>315</th>\n",
       "      <td>177221</td>\n",
       "      <td>177274</td>\n",
       "      <td>177588</td>\n",
       "      <td>177875</td>\n",
       "      <td>178397</td>\n",
       "      <td>178844</td>\n",
       "      <td>178314</td>\n",
       "      <td>178571</td>\n",
       "      <td>179384</td>\n",
       "      <td>179709</td>\n",
       "      <td>...</td>\n",
       "      <td>454</td>\n",
       "      <td>39820</td>\n",
       "      <td>544</td>\n",
       "      <td>447</td>\n",
       "      <td>0</td>\n",
       "      <td>0</td>\n",
       "      <td>97</td>\n",
       "      <td>4</td>\n",
       "      <td>Redding</td>\n",
       "      <td>CA                                           ...</td>\n",
       "    </tr>\n",
       "    <tr>\n",
       "      <th>318</th>\n",
       "      <td>4224948</td>\n",
       "      <td>4242424</td>\n",
       "      <td>4294897</td>\n",
       "      <td>4334716</td>\n",
       "      <td>4369493</td>\n",
       "      <td>4415343</td>\n",
       "      <td>4461227</td>\n",
       "      <td>4512041</td>\n",
       "      <td>4565909</td>\n",
       "      <td>4612542</td>\n",
       "      <td>...</td>\n",
       "      <td>348</td>\n",
       "      <td>40140</td>\n",
       "      <td>14599</td>\n",
       "      <td>11147</td>\n",
       "      <td>120</td>\n",
       "      <td>161</td>\n",
       "      <td>3171</td>\n",
       "      <td>197</td>\n",
       "      <td>Riverside-San Bernardino-Ontario</td>\n",
       "      <td>CA</td>\n",
       "    </tr>\n",
       "    <tr>\n",
       "      <th>327</th>\n",
       "      <td>2149150</td>\n",
       "      <td>2153613</td>\n",
       "      <td>2172948</td>\n",
       "      <td>2190266</td>\n",
       "      <td>2210512</td>\n",
       "      <td>2235640</td>\n",
       "      <td>2263121</td>\n",
       "      <td>2291533</td>\n",
       "      <td>2319572</td>\n",
       "      <td>2341940</td>\n",
       "      <td>...</td>\n",
       "      <td>472</td>\n",
       "      <td>40900</td>\n",
       "      <td>9431</td>\n",
       "      <td>7184</td>\n",
       "      <td>176</td>\n",
       "      <td>34</td>\n",
       "      <td>2037</td>\n",
       "      <td>63</td>\n",
       "      <td>Sacramento-Roseville-Folsom</td>\n",
       "      <td>CA</td>\n",
       "    </tr>\n",
       "    <tr>\n",
       "      <th>334</th>\n",
       "      <td>415059</td>\n",
       "      <td>416373</td>\n",
       "      <td>420456</td>\n",
       "      <td>424788</td>\n",
       "      <td>426712</td>\n",
       "      <td>428475</td>\n",
       "      <td>430552</td>\n",
       "      <td>433953</td>\n",
       "      <td>434534</td>\n",
       "      <td>433950</td>\n",
       "      <td>...</td>\n",
       "      <td>999</td>\n",
       "      <td>41500</td>\n",
       "      <td>480</td>\n",
       "      <td>391</td>\n",
       "      <td>4</td>\n",
       "      <td>13</td>\n",
       "      <td>72</td>\n",
       "      <td>11</td>\n",
       "      <td>Salinas</td>\n",
       "      <td>CA                                           ...</td>\n",
       "    </tr>\n",
       "    <tr>\n",
       "      <th>339</th>\n",
       "      <td>3095349</td>\n",
       "      <td>3103212</td>\n",
       "      <td>3137156</td>\n",
       "      <td>3174335</td>\n",
       "      <td>3209768</td>\n",
       "      <td>3248877</td>\n",
       "      <td>3280850</td>\n",
       "      <td>3306089</td>\n",
       "      <td>3321237</td>\n",
       "      <td>3333861</td>\n",
       "      <td>...</td>\n",
       "      <td>999</td>\n",
       "      <td>41740</td>\n",
       "      <td>8216</td>\n",
       "      <td>3019</td>\n",
       "      <td>110</td>\n",
       "      <td>406</td>\n",
       "      <td>4681</td>\n",
       "      <td>159</td>\n",
       "      <td>San Diego-Chula Vista-Carlsbad</td>\n",
       "      <td>CA</td>\n",
       "    </tr>\n",
       "    <tr>\n",
       "      <th>340</th>\n",
       "      <td>4335593</td>\n",
       "      <td>4343634</td>\n",
       "      <td>4395725</td>\n",
       "      <td>4455473</td>\n",
       "      <td>4519636</td>\n",
       "      <td>4584981</td>\n",
       "      <td>4647924</td>\n",
       "      <td>4688198</td>\n",
       "      <td>4712421</td>\n",
       "      <td>4726314</td>\n",
       "      <td>...</td>\n",
       "      <td>488</td>\n",
       "      <td>41860</td>\n",
       "      <td>13881</td>\n",
       "      <td>4076</td>\n",
       "      <td>124</td>\n",
       "      <td>153</td>\n",
       "      <td>9528</td>\n",
       "      <td>207</td>\n",
       "      <td>San Francisco-Oakland-Berkeley</td>\n",
       "      <td>CA</td>\n",
       "    </tr>\n",
       "    <tr>\n",
       "      <th>341</th>\n",
       "      <td>1836951</td>\n",
       "      <td>1841556</td>\n",
       "      <td>1868031</td>\n",
       "      <td>1894452</td>\n",
       "      <td>1923664</td>\n",
       "      <td>1949578</td>\n",
       "      <td>1974501</td>\n",
       "      <td>1987593</td>\n",
       "      <td>1992674</td>\n",
       "      <td>1993804</td>\n",
       "      <td>...</td>\n",
       "      <td>488</td>\n",
       "      <td>41940</td>\n",
       "      <td>6230</td>\n",
       "      <td>2603</td>\n",
       "      <td>26</td>\n",
       "      <td>49</td>\n",
       "      <td>3552</td>\n",
       "      <td>110</td>\n",
       "      <td>San Jose-Sunnyvale-Santa Clara</td>\n",
       "      <td>CA</td>\n",
       "    </tr>\n",
       "    <tr>\n",
       "      <th>342</th>\n",
       "      <td>269597</td>\n",
       "      <td>269802</td>\n",
       "      <td>271058</td>\n",
       "      <td>274160</td>\n",
       "      <td>275696</td>\n",
       "      <td>278227</td>\n",
       "      <td>280077</td>\n",
       "      <td>281803</td>\n",
       "      <td>282481</td>\n",
       "      <td>283354</td>\n",
       "      <td>...</td>\n",
       "      <td>999</td>\n",
       "      <td>42020</td>\n",
       "      <td>1094</td>\n",
       "      <td>680</td>\n",
       "      <td>8</td>\n",
       "      <td>6</td>\n",
       "      <td>400</td>\n",
       "      <td>21</td>\n",
       "      <td>San Luis Obispo-Paso Robles</td>\n",
       "      <td>CA</td>\n",
       "    </tr>\n",
       "    <tr>\n",
       "      <th>343</th>\n",
       "      <td>262350</td>\n",
       "      <td>263147</td>\n",
       "      <td>264858</td>\n",
       "      <td>266340</td>\n",
       "      <td>268816</td>\n",
       "      <td>270861</td>\n",
       "      <td>273503</td>\n",
       "      <td>274396</td>\n",
       "      <td>274856</td>\n",
       "      <td>273841</td>\n",
       "      <td>...</td>\n",
       "      <td>488</td>\n",
       "      <td>42100</td>\n",
       "      <td>429</td>\n",
       "      <td>236</td>\n",
       "      <td>2</td>\n",
       "      <td>26</td>\n",
       "      <td>165</td>\n",
       "      <td>19</td>\n",
       "      <td>Santa Cruz-Watsonville</td>\n",
       "      <td>CA</td>\n",
       "    </tr>\n",
       "    <tr>\n",
       "      <th>345</th>\n",
       "      <td>423947</td>\n",
       "      <td>424231</td>\n",
       "      <td>425453</td>\n",
       "      <td>429699</td>\n",
       "      <td>434601</td>\n",
       "      <td>439045</td>\n",
       "      <td>442229</td>\n",
       "      <td>444340</td>\n",
       "      <td>445298</td>\n",
       "      <td>445780</td>\n",
       "      <td>...</td>\n",
       "      <td>999</td>\n",
       "      <td>42200</td>\n",
       "      <td>1175</td>\n",
       "      <td>631</td>\n",
       "      <td>20</td>\n",
       "      <td>70</td>\n",
       "      <td>454</td>\n",
       "      <td>21</td>\n",
       "      <td>Santa Maria-Santa Barbara</td>\n",
       "      <td>CA</td>\n",
       "    </tr>\n",
       "    <tr>\n",
       "      <th>346</th>\n",
       "      <td>483861</td>\n",
       "      <td>484755</td>\n",
       "      <td>487421</td>\n",
       "      <td>489993</td>\n",
       "      <td>494073</td>\n",
       "      <td>498560</td>\n",
       "      <td>500863</td>\n",
       "      <td>502547</td>\n",
       "      <td>502469</td>\n",
       "      <td>498643</td>\n",
       "      <td>...</td>\n",
       "      <td>488</td>\n",
       "      <td>42220</td>\n",
       "      <td>2429</td>\n",
       "      <td>2079</td>\n",
       "      <td>0</td>\n",
       "      <td>0</td>\n",
       "      <td>350</td>\n",
       "      <td>28</td>\n",
       "      <td>Santa Rosa-Petaluma</td>\n",
       "      <td>CA</td>\n",
       "    </tr>\n",
       "    <tr>\n",
       "      <th>379</th>\n",
       "      <td>685306</td>\n",
       "      <td>687127</td>\n",
       "      <td>694354</td>\n",
       "      <td>699593</td>\n",
       "      <td>702046</td>\n",
       "      <td>711579</td>\n",
       "      <td>722271</td>\n",
       "      <td>732809</td>\n",
       "      <td>743296</td>\n",
       "      <td>752491</td>\n",
       "      <td>...</td>\n",
       "      <td>488</td>\n",
       "      <td>44700</td>\n",
       "      <td>3499</td>\n",
       "      <td>2628</td>\n",
       "      <td>18</td>\n",
       "      <td>27</td>\n",
       "      <td>826</td>\n",
       "      <td>36</td>\n",
       "      <td>Stockton</td>\n",
       "      <td>CA                                           ...</td>\n",
       "    </tr>\n",
       "    <tr>\n",
       "      <th>398</th>\n",
       "      <td>413343</td>\n",
       "      <td>413967</td>\n",
       "      <td>416342</td>\n",
       "      <td>419674</td>\n",
       "      <td>423659</td>\n",
       "      <td>429006</td>\n",
       "      <td>433409</td>\n",
       "      <td>438858</td>\n",
       "      <td>443511</td>\n",
       "      <td>445725</td>\n",
       "      <td>...</td>\n",
       "      <td>488</td>\n",
       "      <td>46700</td>\n",
       "      <td>1089</td>\n",
       "      <td>1078</td>\n",
       "      <td>0</td>\n",
       "      <td>0</td>\n",
       "      <td>11</td>\n",
       "      <td>1</td>\n",
       "      <td>Vallejo</td>\n",
       "      <td>CA                                           ...</td>\n",
       "    </tr>\n",
       "    <tr>\n",
       "      <th>402</th>\n",
       "      <td>442182</td>\n",
       "      <td>442969</td>\n",
       "      <td>446784</td>\n",
       "      <td>449779</td>\n",
       "      <td>452460</td>\n",
       "      <td>455138</td>\n",
       "      <td>457161</td>\n",
       "      <td>459235</td>\n",
       "      <td>462308</td>\n",
       "      <td>464589</td>\n",
       "      <td>...</td>\n",
       "      <td>999</td>\n",
       "      <td>47300</td>\n",
       "      <td>1872</td>\n",
       "      <td>1619</td>\n",
       "      <td>36</td>\n",
       "      <td>15</td>\n",
       "      <td>202</td>\n",
       "      <td>13</td>\n",
       "      <td>Visalia</td>\n",
       "      <td>CA                                           ...</td>\n",
       "    </tr>\n",
       "    <tr>\n",
       "      <th>423</th>\n",
       "      <td>166898</td>\n",
       "      <td>167099</td>\n",
       "      <td>166971</td>\n",
       "      <td>166963</td>\n",
       "      <td>167597</td>\n",
       "      <td>168311</td>\n",
       "      <td>169327</td>\n",
       "      <td>170694</td>\n",
       "      <td>172782</td>\n",
       "      <td>173905</td>\n",
       "      <td>...</td>\n",
       "      <td>472</td>\n",
       "      <td>49700</td>\n",
       "      <td>678</td>\n",
       "      <td>654</td>\n",
       "      <td>0</td>\n",
       "      <td>0</td>\n",
       "      <td>24</td>\n",
       "      <td>3</td>\n",
       "      <td>Yuba City</td>\n",
       "      <td>CA                                           ...</td>\n",
       "    </tr>\n",
       "  </tbody>\n",
       "</table>\n",
       "<p>26 rows × 22 columns</p>\n",
       "</div>"
      ],
      "text/plain": [
       "         2020      2010      2011      2012      2013      2014      2015  \\\n",
       "22     839621    840996    847970    853606    862000    869176    876031   \n",
       "71     220005    219949    219975    220869    221641    223516    224631   \n",
       "116    174524    174716    175786    176575    176438    177974    178937   \n",
       "138    930507    932039    939406    945045    951514    960567    969488   \n",
       "161    152974    152370    151868    150991    150337    149495    150085   \n",
       "233  12828957  12838417  12925753  13013443  13097434  13166609  13234696   \n",
       "236    150834    150986    151675    151527    151370    153456    153576   \n",
       "245    255796    256721    259297    260867    262026    264419    266353   \n",
       "256    514450    515145    517560    520424    523451    528015    533211   \n",
       "268    136535    136759    137691    138538    139580    140405    140862   \n",
       "288    823398    825097    830099    833516    838136    842297    845802   \n",
       "315    177221    177274    177588    177875    178397    178844    178314   \n",
       "318   4224948   4242424   4294897   4334716   4369493   4415343   4461227   \n",
       "327   2149150   2153613   2172948   2190266   2210512   2235640   2263121   \n",
       "334    415059    416373    420456    424788    426712    428475    430552   \n",
       "339   3095349   3103212   3137156   3174335   3209768   3248877   3280850   \n",
       "340   4335593   4343634   4395725   4455473   4519636   4584981   4647924   \n",
       "341   1836951   1841556   1868031   1894452   1923664   1949578   1974501   \n",
       "342    269597    269802    271058    274160    275696    278227    280077   \n",
       "343    262350    263147    264858    266340    268816    270861    273503   \n",
       "345    423947    424231    425453    429699    434601    439045    442229   \n",
       "346    483861    484755    487421    489993    494073    498560    500863   \n",
       "379    685306    687127    694354    699593    702046    711579    722271   \n",
       "398    413343    413967    416342    419674    423659    429006    433409   \n",
       "402    442182    442969    446784    449779    452460    455138    457161   \n",
       "423    166898    167099    166971    166963    167597    168311    169327   \n",
       "\n",
       "         2016      2017      2018  ...  csa   cbsa  total  1_unit  2_units  \\\n",
       "22     880856    887356    893758  ...  999  12540   2261    2190       12   \n",
       "71     226231    228696    230339  ...  999  17020   1426     885        6   \n",
       "116    180179    181649    181523  ...  999  20940    398     266        0   \n",
       "138    976830    985238    991950  ...  260  23420   3393    2441       60   \n",
       "161    149382    149665    151382  ...  260  25260    409     382        2   \n",
       "233  13270694  13278000  13249879  ...  348  31080  30554    9306     1694   \n",
       "236    153956    155423    156882  ...  260  31460    644     644        0   \n",
       "245    267628    271096    274151  ...  488  32900    948     948        0   \n",
       "256    539255    544717    548126  ...  488  33700    699     611        4   \n",
       "268    140840    139878    138789  ...  488  34900    749     135        2   \n",
       "288    847323    849044    848142  ...  348  37100   1146     609       34   \n",
       "315    178571    179384    179709  ...  454  39820    544     447        0   \n",
       "318   4512041   4565909   4612542  ...  348  40140  14599   11147      120   \n",
       "327   2291533   2319572   2341940  ...  472  40900   9431    7184      176   \n",
       "334    433953    434534    433950  ...  999  41500    480     391        4   \n",
       "339   3306089   3321237   3333861  ...  999  41740   8216    3019      110   \n",
       "340   4688198   4712421   4726314  ...  488  41860  13881    4076      124   \n",
       "341   1987593   1992674   1993804  ...  488  41940   6230    2603       26   \n",
       "342    281803    282481    283354  ...  999  42020   1094     680        8   \n",
       "343    274396    274856    273841  ...  488  42100    429     236        2   \n",
       "345    444340    445298    445780  ...  999  42200   1175     631       20   \n",
       "346    502547    502469    498643  ...  488  42220   2429    2079        0   \n",
       "379    732809    743296    752491  ...  488  44700   3499    2628       18   \n",
       "398    438858    443511    445725  ...  488  46700   1089    1078        0   \n",
       "402    459235    462308    464589  ...  999  47300   1872    1619       36   \n",
       "423    170694    172782    173905  ...  472  49700    678     654        0   \n",
       "\n",
       "     3_and_4_units  5_units_or_more  num_of_structures_with_5_units_or_more  \\\n",
       "22              24               35                                       6   \n",
       "71              64              471                                      36   \n",
       "116              0              132                                      11   \n",
       "138            213              679                                      76   \n",
       "161              0               25                                       3   \n",
       "233            358            19196                                     516   \n",
       "236              0                0                                       0   \n",
       "245              0                0                                       0   \n",
       "256              3               81                                       7   \n",
       "268              4              608                                       1   \n",
       "288             31              472                                      39   \n",
       "315              0               97                                       4   \n",
       "318            161             3171                                     197   \n",
       "327             34             2037                                      63   \n",
       "334             13               72                                      11   \n",
       "339            406             4681                                     159   \n",
       "340            153             9528                                     207   \n",
       "341             49             3552                                     110   \n",
       "342              6              400                                      21   \n",
       "343             26              165                                      19   \n",
       "345             70              454                                      21   \n",
       "346              0              350                                      28   \n",
       "379             27              826                                      36   \n",
       "398              0               11                                       1   \n",
       "402             15              202                                      13   \n",
       "423              0               24                                       3   \n",
       "\n",
       "                               name_0  \\\n",
       "22                        Bakersfield   \n",
       "71                              Chico   \n",
       "116                         El Centro   \n",
       "138                            Fresno   \n",
       "161                  Hanford-Corcoran   \n",
       "233    Los Angeles-Long Beach-Anaheim   \n",
       "236                            Madera   \n",
       "245                            Merced   \n",
       "256                           Modesto   \n",
       "268                              Napa   \n",
       "288      Oxnard-Thousand Oaks-Ventura   \n",
       "315                           Redding   \n",
       "318  Riverside-San Bernardino-Ontario   \n",
       "327       Sacramento-Roseville-Folsom   \n",
       "334                           Salinas   \n",
       "339    San Diego-Chula Vista-Carlsbad   \n",
       "340    San Francisco-Oakland-Berkeley   \n",
       "341    San Jose-Sunnyvale-Santa Clara   \n",
       "342       San Luis Obispo-Paso Robles   \n",
       "343            Santa Cruz-Watsonville   \n",
       "345         Santa Maria-Santa Barbara   \n",
       "346               Santa Rosa-Petaluma   \n",
       "379                          Stockton   \n",
       "398                           Vallejo   \n",
       "402                           Visalia   \n",
       "423                         Yuba City   \n",
       "\n",
       "                                               state_y  \n",
       "22     CA                                               \n",
       "71    CA                                           ...  \n",
       "116   CA                                           ...  \n",
       "138   CA                                           ...  \n",
       "161         CA                                          \n",
       "233                       CA                            \n",
       "236   CA                                           ...  \n",
       "245   CA                                           ...  \n",
       "256   CA                                           ...  \n",
       "268   CA                                           ...  \n",
       "288                     CA                              \n",
       "315   CA                                           ...  \n",
       "318                         CA                          \n",
       "327                    CA                               \n",
       "334   CA                                           ...  \n",
       "339                       CA                            \n",
       "340                       CA                            \n",
       "341                       CA                            \n",
       "342                    CA                               \n",
       "343               CA                                    \n",
       "345                  CA                                 \n",
       "346            CA                                       \n",
       "379   CA                                           ...  \n",
       "398   CA                                           ...  \n",
       "402   CA                                           ...  \n",
       "423   CA                                           ...  \n",
       "\n",
       "[26 rows x 22 columns]"
      ]
     },
     "metadata": {},
     "output_type": "display_data"
    }
   ],
   "source": [
    "pop_permits = pd.merge(pop, permits, how='inner', left_on=['area'], right_on=['name_0'])\n",
    "pop_permits = pop_permits.drop(columns=['state_x'])\n",
    "pop_permits = pop_permits.loc[pop_permits['state_y'].str.contains('CA', case=True, regex=False, na=False)]\n",
    "pop_permits = pop_permits.replace(',','', regex=True)\n",
    "pop_permits['2019'] = pd.to_numeric(pop_permits['2019'], downcast='integer', errors='coerce')\n",
    "pop_permits['2018'] = pd.to_numeric(pop_permits['2018'], downcast='integer', errors='coerce')\n",
    "pop_permits"
   ]
  },
  {
   "cell_type": "code",
   "execution_count": 93,
   "id": "a30f66d7",
   "metadata": {},
   "outputs": [],
   "source": [
    "pop_permits['growth_19'] = pop_permits['2019'] - pop_permits['2018']"
   ]
  },
  {
   "cell_type": "code",
   "execution_count": 90,
   "id": "a9c04919",
   "metadata": {},
   "outputs": [],
   "source": [
    "pop_permits['suply_demand19'] = pop_permits['total']/pop_permits['growth_19']"
   ]
  },
  {
   "cell_type": "code",
   "execution_count": 97,
   "id": "1113f6e4",
   "metadata": {},
   "outputs": [
    {
     "data": {
      "application/vnd.plotly.v1+json": {
       "config": {
        "plotlyServerURL": "https://plot.ly"
       },
       "data": [
        {
         "alignmentgroup": "True",
         "hovertemplate": "area=%{x}<br>suply_demand19=%{y}<extra></extra>",
         "legendgroup": "",
         "marker": {
          "color": "#636efa"
         },
         "name": "",
         "offsetgroup": "",
         "orientation": "v",
         "showlegend": false,
         "textposition": "auto",
         "type": "bar",
         "x": [
          "San Luis Obispo-Paso Robles",
          "San Jose-Sunnyvale-Santa Clara",
          "El Centro",
          "Los Angeles-Long Beach-Anaheim",
          "Napa",
          "Santa Cruz-Watsonville",
          "Santa Rosa-Petaluma",
          "Oxnard-Thousand Oaks-Ventura",
          "Chico",
          "Hanford-Corcoran",
          "Merced",
          "Modesto",
          "Bakersfield",
          "Stockton",
          "Riverside-San Bernardino-Ontario",
          "Yuba City",
          "Sacramento-Roseville-Folsom",
          "Fresno",
          "Vallejo",
          "Visalia",
          "Madera",
          "Redding",
          "Santa Maria-Santa Barbara",
          "San Diego-Chula Vista-Carlsbad",
          "San Francisco-Oakland-Berkeley",
          "Salinas"
         ],
         "xaxis": "x",
         "y": [
          -4.502057613168724,
          -1.9815521628498727,
          -1.2922077922077921,
          -0.8709806157354618,
          -0.7167464114832536,
          -0.6831210191082803,
          -0.5639656373345716,
          -0.5365168539325843,
          -0.12785797543261904,
          0.2625160462130937,
          0.2686313403230377,
          0.27584846093133386,
          0.350869025450031,
          0.36232784508646576,
          0.383286513166531,
          0.39100346020761245,
          0.4328132170720514,
          0.47447909383303033,
          0.5677789363920751,
          1.165628891656289,
          1.447191011235955,
          1.4663072776280324,
          1.6342141863699582,
          1.8384426046095323,
          2.528875933685553,
          4.324324324324325
         ],
         "yaxis": "y"
        }
       ],
       "layout": {
        "barmode": "relative",
        "legend": {
         "tracegroupgap": 0
        },
        "margin": {
         "t": 60
        },
        "template": {
         "data": {
          "bar": [
           {
            "error_x": {
             "color": "#2a3f5f"
            },
            "error_y": {
             "color": "#2a3f5f"
            },
            "marker": {
             "line": {
              "color": "#E5ECF6",
              "width": 0.5
             }
            },
            "type": "bar"
           }
          ],
          "barpolar": [
           {
            "marker": {
             "line": {
              "color": "#E5ECF6",
              "width": 0.5
             }
            },
            "type": "barpolar"
           }
          ],
          "carpet": [
           {
            "aaxis": {
             "endlinecolor": "#2a3f5f",
             "gridcolor": "white",
             "linecolor": "white",
             "minorgridcolor": "white",
             "startlinecolor": "#2a3f5f"
            },
            "baxis": {
             "endlinecolor": "#2a3f5f",
             "gridcolor": "white",
             "linecolor": "white",
             "minorgridcolor": "white",
             "startlinecolor": "#2a3f5f"
            },
            "type": "carpet"
           }
          ],
          "choropleth": [
           {
            "colorbar": {
             "outlinewidth": 0,
             "ticks": ""
            },
            "type": "choropleth"
           }
          ],
          "contour": [
           {
            "colorbar": {
             "outlinewidth": 0,
             "ticks": ""
            },
            "colorscale": [
             [
              0,
              "#0d0887"
             ],
             [
              0.1111111111111111,
              "#46039f"
             ],
             [
              0.2222222222222222,
              "#7201a8"
             ],
             [
              0.3333333333333333,
              "#9c179e"
             ],
             [
              0.4444444444444444,
              "#bd3786"
             ],
             [
              0.5555555555555556,
              "#d8576b"
             ],
             [
              0.6666666666666666,
              "#ed7953"
             ],
             [
              0.7777777777777778,
              "#fb9f3a"
             ],
             [
              0.8888888888888888,
              "#fdca26"
             ],
             [
              1,
              "#f0f921"
             ]
            ],
            "type": "contour"
           }
          ],
          "contourcarpet": [
           {
            "colorbar": {
             "outlinewidth": 0,
             "ticks": ""
            },
            "type": "contourcarpet"
           }
          ],
          "heatmap": [
           {
            "colorbar": {
             "outlinewidth": 0,
             "ticks": ""
            },
            "colorscale": [
             [
              0,
              "#0d0887"
             ],
             [
              0.1111111111111111,
              "#46039f"
             ],
             [
              0.2222222222222222,
              "#7201a8"
             ],
             [
              0.3333333333333333,
              "#9c179e"
             ],
             [
              0.4444444444444444,
              "#bd3786"
             ],
             [
              0.5555555555555556,
              "#d8576b"
             ],
             [
              0.6666666666666666,
              "#ed7953"
             ],
             [
              0.7777777777777778,
              "#fb9f3a"
             ],
             [
              0.8888888888888888,
              "#fdca26"
             ],
             [
              1,
              "#f0f921"
             ]
            ],
            "type": "heatmap"
           }
          ],
          "heatmapgl": [
           {
            "colorbar": {
             "outlinewidth": 0,
             "ticks": ""
            },
            "colorscale": [
             [
              0,
              "#0d0887"
             ],
             [
              0.1111111111111111,
              "#46039f"
             ],
             [
              0.2222222222222222,
              "#7201a8"
             ],
             [
              0.3333333333333333,
              "#9c179e"
             ],
             [
              0.4444444444444444,
              "#bd3786"
             ],
             [
              0.5555555555555556,
              "#d8576b"
             ],
             [
              0.6666666666666666,
              "#ed7953"
             ],
             [
              0.7777777777777778,
              "#fb9f3a"
             ],
             [
              0.8888888888888888,
              "#fdca26"
             ],
             [
              1,
              "#f0f921"
             ]
            ],
            "type": "heatmapgl"
           }
          ],
          "histogram": [
           {
            "marker": {
             "colorbar": {
              "outlinewidth": 0,
              "ticks": ""
             }
            },
            "type": "histogram"
           }
          ],
          "histogram2d": [
           {
            "colorbar": {
             "outlinewidth": 0,
             "ticks": ""
            },
            "colorscale": [
             [
              0,
              "#0d0887"
             ],
             [
              0.1111111111111111,
              "#46039f"
             ],
             [
              0.2222222222222222,
              "#7201a8"
             ],
             [
              0.3333333333333333,
              "#9c179e"
             ],
             [
              0.4444444444444444,
              "#bd3786"
             ],
             [
              0.5555555555555556,
              "#d8576b"
             ],
             [
              0.6666666666666666,
              "#ed7953"
             ],
             [
              0.7777777777777778,
              "#fb9f3a"
             ],
             [
              0.8888888888888888,
              "#fdca26"
             ],
             [
              1,
              "#f0f921"
             ]
            ],
            "type": "histogram2d"
           }
          ],
          "histogram2dcontour": [
           {
            "colorbar": {
             "outlinewidth": 0,
             "ticks": ""
            },
            "colorscale": [
             [
              0,
              "#0d0887"
             ],
             [
              0.1111111111111111,
              "#46039f"
             ],
             [
              0.2222222222222222,
              "#7201a8"
             ],
             [
              0.3333333333333333,
              "#9c179e"
             ],
             [
              0.4444444444444444,
              "#bd3786"
             ],
             [
              0.5555555555555556,
              "#d8576b"
             ],
             [
              0.6666666666666666,
              "#ed7953"
             ],
             [
              0.7777777777777778,
              "#fb9f3a"
             ],
             [
              0.8888888888888888,
              "#fdca26"
             ],
             [
              1,
              "#f0f921"
             ]
            ],
            "type": "histogram2dcontour"
           }
          ],
          "mesh3d": [
           {
            "colorbar": {
             "outlinewidth": 0,
             "ticks": ""
            },
            "type": "mesh3d"
           }
          ],
          "parcoords": [
           {
            "line": {
             "colorbar": {
              "outlinewidth": 0,
              "ticks": ""
             }
            },
            "type": "parcoords"
           }
          ],
          "pie": [
           {
            "automargin": true,
            "type": "pie"
           }
          ],
          "scatter": [
           {
            "marker": {
             "colorbar": {
              "outlinewidth": 0,
              "ticks": ""
             }
            },
            "type": "scatter"
           }
          ],
          "scatter3d": [
           {
            "line": {
             "colorbar": {
              "outlinewidth": 0,
              "ticks": ""
             }
            },
            "marker": {
             "colorbar": {
              "outlinewidth": 0,
              "ticks": ""
             }
            },
            "type": "scatter3d"
           }
          ],
          "scattercarpet": [
           {
            "marker": {
             "colorbar": {
              "outlinewidth": 0,
              "ticks": ""
             }
            },
            "type": "scattercarpet"
           }
          ],
          "scattergeo": [
           {
            "marker": {
             "colorbar": {
              "outlinewidth": 0,
              "ticks": ""
             }
            },
            "type": "scattergeo"
           }
          ],
          "scattergl": [
           {
            "marker": {
             "colorbar": {
              "outlinewidth": 0,
              "ticks": ""
             }
            },
            "type": "scattergl"
           }
          ],
          "scattermapbox": [
           {
            "marker": {
             "colorbar": {
              "outlinewidth": 0,
              "ticks": ""
             }
            },
            "type": "scattermapbox"
           }
          ],
          "scatterpolar": [
           {
            "marker": {
             "colorbar": {
              "outlinewidth": 0,
              "ticks": ""
             }
            },
            "type": "scatterpolar"
           }
          ],
          "scatterpolargl": [
           {
            "marker": {
             "colorbar": {
              "outlinewidth": 0,
              "ticks": ""
             }
            },
            "type": "scatterpolargl"
           }
          ],
          "scatterternary": [
           {
            "marker": {
             "colorbar": {
              "outlinewidth": 0,
              "ticks": ""
             }
            },
            "type": "scatterternary"
           }
          ],
          "surface": [
           {
            "colorbar": {
             "outlinewidth": 0,
             "ticks": ""
            },
            "colorscale": [
             [
              0,
              "#0d0887"
             ],
             [
              0.1111111111111111,
              "#46039f"
             ],
             [
              0.2222222222222222,
              "#7201a8"
             ],
             [
              0.3333333333333333,
              "#9c179e"
             ],
             [
              0.4444444444444444,
              "#bd3786"
             ],
             [
              0.5555555555555556,
              "#d8576b"
             ],
             [
              0.6666666666666666,
              "#ed7953"
             ],
             [
              0.7777777777777778,
              "#fb9f3a"
             ],
             [
              0.8888888888888888,
              "#fdca26"
             ],
             [
              1,
              "#f0f921"
             ]
            ],
            "type": "surface"
           }
          ],
          "table": [
           {
            "cells": {
             "fill": {
              "color": "#EBF0F8"
             },
             "line": {
              "color": "white"
             }
            },
            "header": {
             "fill": {
              "color": "#C8D4E3"
             },
             "line": {
              "color": "white"
             }
            },
            "type": "table"
           }
          ]
         },
         "layout": {
          "annotationdefaults": {
           "arrowcolor": "#2a3f5f",
           "arrowhead": 0,
           "arrowwidth": 1
          },
          "autotypenumbers": "strict",
          "coloraxis": {
           "colorbar": {
            "outlinewidth": 0,
            "ticks": ""
           }
          },
          "colorscale": {
           "diverging": [
            [
             0,
             "#8e0152"
            ],
            [
             0.1,
             "#c51b7d"
            ],
            [
             0.2,
             "#de77ae"
            ],
            [
             0.3,
             "#f1b6da"
            ],
            [
             0.4,
             "#fde0ef"
            ],
            [
             0.5,
             "#f7f7f7"
            ],
            [
             0.6,
             "#e6f5d0"
            ],
            [
             0.7,
             "#b8e186"
            ],
            [
             0.8,
             "#7fbc41"
            ],
            [
             0.9,
             "#4d9221"
            ],
            [
             1,
             "#276419"
            ]
           ],
           "sequential": [
            [
             0,
             "#0d0887"
            ],
            [
             0.1111111111111111,
             "#46039f"
            ],
            [
             0.2222222222222222,
             "#7201a8"
            ],
            [
             0.3333333333333333,
             "#9c179e"
            ],
            [
             0.4444444444444444,
             "#bd3786"
            ],
            [
             0.5555555555555556,
             "#d8576b"
            ],
            [
             0.6666666666666666,
             "#ed7953"
            ],
            [
             0.7777777777777778,
             "#fb9f3a"
            ],
            [
             0.8888888888888888,
             "#fdca26"
            ],
            [
             1,
             "#f0f921"
            ]
           ],
           "sequentialminus": [
            [
             0,
             "#0d0887"
            ],
            [
             0.1111111111111111,
             "#46039f"
            ],
            [
             0.2222222222222222,
             "#7201a8"
            ],
            [
             0.3333333333333333,
             "#9c179e"
            ],
            [
             0.4444444444444444,
             "#bd3786"
            ],
            [
             0.5555555555555556,
             "#d8576b"
            ],
            [
             0.6666666666666666,
             "#ed7953"
            ],
            [
             0.7777777777777778,
             "#fb9f3a"
            ],
            [
             0.8888888888888888,
             "#fdca26"
            ],
            [
             1,
             "#f0f921"
            ]
           ]
          },
          "colorway": [
           "#636efa",
           "#EF553B",
           "#00cc96",
           "#ab63fa",
           "#FFA15A",
           "#19d3f3",
           "#FF6692",
           "#B6E880",
           "#FF97FF",
           "#FECB52"
          ],
          "font": {
           "color": "#2a3f5f"
          },
          "geo": {
           "bgcolor": "white",
           "lakecolor": "white",
           "landcolor": "#E5ECF6",
           "showlakes": true,
           "showland": true,
           "subunitcolor": "white"
          },
          "hoverlabel": {
           "align": "left"
          },
          "hovermode": "closest",
          "mapbox": {
           "style": "light"
          },
          "paper_bgcolor": "white",
          "plot_bgcolor": "#E5ECF6",
          "polar": {
           "angularaxis": {
            "gridcolor": "white",
            "linecolor": "white",
            "ticks": ""
           },
           "bgcolor": "#E5ECF6",
           "radialaxis": {
            "gridcolor": "white",
            "linecolor": "white",
            "ticks": ""
           }
          },
          "scene": {
           "xaxis": {
            "backgroundcolor": "#E5ECF6",
            "gridcolor": "white",
            "gridwidth": 2,
            "linecolor": "white",
            "showbackground": true,
            "ticks": "",
            "zerolinecolor": "white"
           },
           "yaxis": {
            "backgroundcolor": "#E5ECF6",
            "gridcolor": "white",
            "gridwidth": 2,
            "linecolor": "white",
            "showbackground": true,
            "ticks": "",
            "zerolinecolor": "white"
           },
           "zaxis": {
            "backgroundcolor": "#E5ECF6",
            "gridcolor": "white",
            "gridwidth": 2,
            "linecolor": "white",
            "showbackground": true,
            "ticks": "",
            "zerolinecolor": "white"
           }
          },
          "shapedefaults": {
           "line": {
            "color": "#2a3f5f"
           }
          },
          "ternary": {
           "aaxis": {
            "gridcolor": "white",
            "linecolor": "white",
            "ticks": ""
           },
           "baxis": {
            "gridcolor": "white",
            "linecolor": "white",
            "ticks": ""
           },
           "bgcolor": "#E5ECF6",
           "caxis": {
            "gridcolor": "white",
            "linecolor": "white",
            "ticks": ""
           }
          },
          "title": {
           "x": 0.05
          },
          "xaxis": {
           "automargin": true,
           "gridcolor": "white",
           "linecolor": "white",
           "ticks": "",
           "title": {
            "standoff": 15
           },
           "zerolinecolor": "white",
           "zerolinewidth": 2
          },
          "yaxis": {
           "automargin": true,
           "gridcolor": "white",
           "linecolor": "white",
           "ticks": "",
           "title": {
            "standoff": 15
           },
           "zerolinecolor": "white",
           "zerolinewidth": 2
          }
         }
        },
        "xaxis": {
         "anchor": "y",
         "domain": [
          0,
          1
         ],
         "title": {
          "text": "area"
         }
        },
        "yaxis": {
         "anchor": "x",
         "domain": [
          0,
          1
         ],
         "title": {
          "text": "suply_demand19"
         }
        }
       }
      },
      "text/html": [
       "<div>                            <div id=\"8b7d0e50-2d61-4d01-83c5-4effa49ae780\" class=\"plotly-graph-div\" style=\"height:525px; width:100%;\"></div>            <script type=\"text/javascript\">                require([\"plotly\"], function(Plotly) {                    window.PLOTLYENV=window.PLOTLYENV || {};                                    if (document.getElementById(\"8b7d0e50-2d61-4d01-83c5-4effa49ae780\")) {                    Plotly.newPlot(                        \"8b7d0e50-2d61-4d01-83c5-4effa49ae780\",                        [{\"alignmentgroup\": \"True\", \"hovertemplate\": \"area=%{x}<br>suply_demand19=%{y}<extra></extra>\", \"legendgroup\": \"\", \"marker\": {\"color\": \"#636efa\"}, \"name\": \"\", \"offsetgroup\": \"\", \"orientation\": \"v\", \"showlegend\": false, \"textposition\": \"auto\", \"type\": \"bar\", \"x\": [\"San Luis Obispo-Paso Robles\", \"San Jose-Sunnyvale-Santa Clara\", \"El Centro\", \"Los Angeles-Long Beach-Anaheim\", \"Napa\", \"Santa Cruz-Watsonville\", \"Santa Rosa-Petaluma\", \"Oxnard-Thousand Oaks-Ventura\", \"Chico\", \"Hanford-Corcoran\", \"Merced\", \"Modesto\", \"Bakersfield\", \"Stockton\", \"Riverside-San Bernardino-Ontario\", \"Yuba City\", \"Sacramento-Roseville-Folsom\", \"Fresno\", \"Vallejo\", \"Visalia\", \"Madera\", \"Redding\", \"Santa Maria-Santa Barbara\", \"San Diego-Chula Vista-Carlsbad\", \"San Francisco-Oakland-Berkeley\", \"Salinas\"], \"xaxis\": \"x\", \"y\": [-4.502057613168724, -1.9815521628498727, -1.2922077922077921, -0.8709806157354618, -0.7167464114832536, -0.6831210191082803, -0.5639656373345716, -0.5365168539325843, -0.12785797543261904, 0.2625160462130937, 0.2686313403230377, 0.27584846093133386, 0.350869025450031, 0.36232784508646576, 0.383286513166531, 0.39100346020761245, 0.4328132170720514, 0.47447909383303033, 0.5677789363920751, 1.165628891656289, 1.447191011235955, 1.4663072776280324, 1.6342141863699582, 1.8384426046095323, 2.528875933685553, 4.324324324324325], \"yaxis\": \"y\"}],                        {\"barmode\": \"relative\", \"legend\": {\"tracegroupgap\": 0}, \"margin\": {\"t\": 60}, \"template\": {\"data\": {\"bar\": [{\"error_x\": {\"color\": \"#2a3f5f\"}, \"error_y\": {\"color\": \"#2a3f5f\"}, \"marker\": {\"line\": {\"color\": \"#E5ECF6\", \"width\": 0.5}}, \"type\": \"bar\"}], \"barpolar\": [{\"marker\": {\"line\": {\"color\": \"#E5ECF6\", \"width\": 0.5}}, \"type\": \"barpolar\"}], \"carpet\": [{\"aaxis\": {\"endlinecolor\": \"#2a3f5f\", \"gridcolor\": \"white\", \"linecolor\": \"white\", \"minorgridcolor\": \"white\", \"startlinecolor\": \"#2a3f5f\"}, \"baxis\": {\"endlinecolor\": \"#2a3f5f\", \"gridcolor\": \"white\", \"linecolor\": \"white\", \"minorgridcolor\": \"white\", \"startlinecolor\": \"#2a3f5f\"}, \"type\": \"carpet\"}], \"choropleth\": [{\"colorbar\": {\"outlinewidth\": 0, \"ticks\": \"\"}, \"type\": \"choropleth\"}], \"contour\": [{\"colorbar\": {\"outlinewidth\": 0, \"ticks\": \"\"}, \"colorscale\": [[0.0, \"#0d0887\"], [0.1111111111111111, \"#46039f\"], [0.2222222222222222, \"#7201a8\"], [0.3333333333333333, \"#9c179e\"], [0.4444444444444444, \"#bd3786\"], [0.5555555555555556, \"#d8576b\"], [0.6666666666666666, \"#ed7953\"], [0.7777777777777778, \"#fb9f3a\"], [0.8888888888888888, \"#fdca26\"], [1.0, \"#f0f921\"]], \"type\": \"contour\"}], \"contourcarpet\": [{\"colorbar\": {\"outlinewidth\": 0, \"ticks\": \"\"}, \"type\": \"contourcarpet\"}], \"heatmap\": [{\"colorbar\": {\"outlinewidth\": 0, \"ticks\": \"\"}, \"colorscale\": [[0.0, \"#0d0887\"], [0.1111111111111111, \"#46039f\"], [0.2222222222222222, \"#7201a8\"], [0.3333333333333333, \"#9c179e\"], [0.4444444444444444, \"#bd3786\"], [0.5555555555555556, \"#d8576b\"], [0.6666666666666666, \"#ed7953\"], [0.7777777777777778, \"#fb9f3a\"], [0.8888888888888888, \"#fdca26\"], [1.0, \"#f0f921\"]], \"type\": \"heatmap\"}], \"heatmapgl\": [{\"colorbar\": {\"outlinewidth\": 0, \"ticks\": \"\"}, \"colorscale\": [[0.0, \"#0d0887\"], [0.1111111111111111, \"#46039f\"], [0.2222222222222222, \"#7201a8\"], [0.3333333333333333, \"#9c179e\"], [0.4444444444444444, \"#bd3786\"], [0.5555555555555556, \"#d8576b\"], [0.6666666666666666, \"#ed7953\"], [0.7777777777777778, \"#fb9f3a\"], [0.8888888888888888, \"#fdca26\"], [1.0, \"#f0f921\"]], \"type\": \"heatmapgl\"}], \"histogram\": [{\"marker\": {\"colorbar\": {\"outlinewidth\": 0, \"ticks\": \"\"}}, \"type\": \"histogram\"}], \"histogram2d\": [{\"colorbar\": {\"outlinewidth\": 0, \"ticks\": \"\"}, \"colorscale\": [[0.0, \"#0d0887\"], [0.1111111111111111, \"#46039f\"], [0.2222222222222222, \"#7201a8\"], [0.3333333333333333, \"#9c179e\"], [0.4444444444444444, \"#bd3786\"], [0.5555555555555556, \"#d8576b\"], [0.6666666666666666, \"#ed7953\"], [0.7777777777777778, \"#fb9f3a\"], [0.8888888888888888, \"#fdca26\"], [1.0, \"#f0f921\"]], \"type\": \"histogram2d\"}], \"histogram2dcontour\": [{\"colorbar\": {\"outlinewidth\": 0, \"ticks\": \"\"}, \"colorscale\": [[0.0, \"#0d0887\"], [0.1111111111111111, \"#46039f\"], [0.2222222222222222, \"#7201a8\"], [0.3333333333333333, \"#9c179e\"], [0.4444444444444444, \"#bd3786\"], [0.5555555555555556, \"#d8576b\"], [0.6666666666666666, \"#ed7953\"], [0.7777777777777778, \"#fb9f3a\"], [0.8888888888888888, \"#fdca26\"], [1.0, \"#f0f921\"]], \"type\": \"histogram2dcontour\"}], \"mesh3d\": [{\"colorbar\": {\"outlinewidth\": 0, \"ticks\": \"\"}, \"type\": \"mesh3d\"}], \"parcoords\": [{\"line\": {\"colorbar\": {\"outlinewidth\": 0, \"ticks\": \"\"}}, \"type\": \"parcoords\"}], \"pie\": [{\"automargin\": true, \"type\": \"pie\"}], \"scatter\": [{\"marker\": {\"colorbar\": {\"outlinewidth\": 0, \"ticks\": \"\"}}, \"type\": \"scatter\"}], \"scatter3d\": [{\"line\": {\"colorbar\": {\"outlinewidth\": 0, \"ticks\": \"\"}}, \"marker\": {\"colorbar\": {\"outlinewidth\": 0, \"ticks\": \"\"}}, \"type\": \"scatter3d\"}], \"scattercarpet\": [{\"marker\": {\"colorbar\": {\"outlinewidth\": 0, \"ticks\": \"\"}}, \"type\": \"scattercarpet\"}], \"scattergeo\": [{\"marker\": {\"colorbar\": {\"outlinewidth\": 0, \"ticks\": \"\"}}, \"type\": \"scattergeo\"}], \"scattergl\": [{\"marker\": {\"colorbar\": {\"outlinewidth\": 0, \"ticks\": \"\"}}, \"type\": \"scattergl\"}], \"scattermapbox\": [{\"marker\": {\"colorbar\": {\"outlinewidth\": 0, \"ticks\": \"\"}}, \"type\": \"scattermapbox\"}], \"scatterpolar\": [{\"marker\": {\"colorbar\": {\"outlinewidth\": 0, \"ticks\": \"\"}}, \"type\": \"scatterpolar\"}], \"scatterpolargl\": [{\"marker\": {\"colorbar\": {\"outlinewidth\": 0, \"ticks\": \"\"}}, \"type\": \"scatterpolargl\"}], \"scatterternary\": [{\"marker\": {\"colorbar\": {\"outlinewidth\": 0, \"ticks\": \"\"}}, \"type\": \"scatterternary\"}], \"surface\": [{\"colorbar\": {\"outlinewidth\": 0, \"ticks\": \"\"}, \"colorscale\": [[0.0, \"#0d0887\"], [0.1111111111111111, \"#46039f\"], [0.2222222222222222, \"#7201a8\"], [0.3333333333333333, \"#9c179e\"], [0.4444444444444444, \"#bd3786\"], [0.5555555555555556, \"#d8576b\"], [0.6666666666666666, \"#ed7953\"], [0.7777777777777778, \"#fb9f3a\"], [0.8888888888888888, \"#fdca26\"], [1.0, \"#f0f921\"]], \"type\": \"surface\"}], \"table\": [{\"cells\": {\"fill\": {\"color\": \"#EBF0F8\"}, \"line\": {\"color\": \"white\"}}, \"header\": {\"fill\": {\"color\": \"#C8D4E3\"}, \"line\": {\"color\": \"white\"}}, \"type\": \"table\"}]}, \"layout\": {\"annotationdefaults\": {\"arrowcolor\": \"#2a3f5f\", \"arrowhead\": 0, \"arrowwidth\": 1}, \"autotypenumbers\": \"strict\", \"coloraxis\": {\"colorbar\": {\"outlinewidth\": 0, \"ticks\": \"\"}}, \"colorscale\": {\"diverging\": [[0, \"#8e0152\"], [0.1, \"#c51b7d\"], [0.2, \"#de77ae\"], [0.3, \"#f1b6da\"], [0.4, \"#fde0ef\"], [0.5, \"#f7f7f7\"], [0.6, \"#e6f5d0\"], [0.7, \"#b8e186\"], [0.8, \"#7fbc41\"], [0.9, \"#4d9221\"], [1, \"#276419\"]], \"sequential\": [[0.0, \"#0d0887\"], [0.1111111111111111, \"#46039f\"], [0.2222222222222222, \"#7201a8\"], [0.3333333333333333, \"#9c179e\"], [0.4444444444444444, \"#bd3786\"], [0.5555555555555556, \"#d8576b\"], [0.6666666666666666, \"#ed7953\"], [0.7777777777777778, \"#fb9f3a\"], [0.8888888888888888, \"#fdca26\"], [1.0, \"#f0f921\"]], \"sequentialminus\": [[0.0, \"#0d0887\"], [0.1111111111111111, \"#46039f\"], [0.2222222222222222, \"#7201a8\"], [0.3333333333333333, \"#9c179e\"], [0.4444444444444444, \"#bd3786\"], [0.5555555555555556, \"#d8576b\"], [0.6666666666666666, \"#ed7953\"], [0.7777777777777778, \"#fb9f3a\"], [0.8888888888888888, \"#fdca26\"], [1.0, \"#f0f921\"]]}, \"colorway\": [\"#636efa\", \"#EF553B\", \"#00cc96\", \"#ab63fa\", \"#FFA15A\", \"#19d3f3\", \"#FF6692\", \"#B6E880\", \"#FF97FF\", \"#FECB52\"], \"font\": {\"color\": \"#2a3f5f\"}, \"geo\": {\"bgcolor\": \"white\", \"lakecolor\": \"white\", \"landcolor\": \"#E5ECF6\", \"showlakes\": true, \"showland\": true, \"subunitcolor\": \"white\"}, \"hoverlabel\": {\"align\": \"left\"}, \"hovermode\": \"closest\", \"mapbox\": {\"style\": \"light\"}, \"paper_bgcolor\": \"white\", \"plot_bgcolor\": \"#E5ECF6\", \"polar\": {\"angularaxis\": {\"gridcolor\": \"white\", \"linecolor\": \"white\", \"ticks\": \"\"}, \"bgcolor\": \"#E5ECF6\", \"radialaxis\": {\"gridcolor\": \"white\", \"linecolor\": \"white\", \"ticks\": \"\"}}, \"scene\": {\"xaxis\": {\"backgroundcolor\": \"#E5ECF6\", \"gridcolor\": \"white\", \"gridwidth\": 2, \"linecolor\": \"white\", \"showbackground\": true, \"ticks\": \"\", \"zerolinecolor\": \"white\"}, \"yaxis\": {\"backgroundcolor\": \"#E5ECF6\", \"gridcolor\": \"white\", \"gridwidth\": 2, \"linecolor\": \"white\", \"showbackground\": true, \"ticks\": \"\", \"zerolinecolor\": \"white\"}, \"zaxis\": {\"backgroundcolor\": \"#E5ECF6\", \"gridcolor\": \"white\", \"gridwidth\": 2, \"linecolor\": \"white\", \"showbackground\": true, \"ticks\": \"\", \"zerolinecolor\": \"white\"}}, \"shapedefaults\": {\"line\": {\"color\": \"#2a3f5f\"}}, \"ternary\": {\"aaxis\": {\"gridcolor\": \"white\", \"linecolor\": \"white\", \"ticks\": \"\"}, \"baxis\": {\"gridcolor\": \"white\", \"linecolor\": \"white\", \"ticks\": \"\"}, \"bgcolor\": \"#E5ECF6\", \"caxis\": {\"gridcolor\": \"white\", \"linecolor\": \"white\", \"ticks\": \"\"}}, \"title\": {\"x\": 0.05}, \"xaxis\": {\"automargin\": true, \"gridcolor\": \"white\", \"linecolor\": \"white\", \"ticks\": \"\", \"title\": {\"standoff\": 15}, \"zerolinecolor\": \"white\", \"zerolinewidth\": 2}, \"yaxis\": {\"automargin\": true, \"gridcolor\": \"white\", \"linecolor\": \"white\", \"ticks\": \"\", \"title\": {\"standoff\": 15}, \"zerolinecolor\": \"white\", \"zerolinewidth\": 2}}}, \"xaxis\": {\"anchor\": \"y\", \"domain\": [0.0, 1.0], \"title\": {\"text\": \"area\"}}, \"yaxis\": {\"anchor\": \"x\", \"domain\": [0.0, 1.0], \"title\": {\"text\": \"suply_demand19\"}}},                        {\"responsive\": true}                    ).then(function(){\n",
       "                            \n",
       "var gd = document.getElementById('8b7d0e50-2d61-4d01-83c5-4effa49ae780');\n",
       "var x = new MutationObserver(function (mutations, observer) {{\n",
       "        var display = window.getComputedStyle(gd).display;\n",
       "        if (!display || display === 'none') {{\n",
       "            console.log([gd, 'removed!']);\n",
       "            Plotly.purge(gd);\n",
       "            observer.disconnect();\n",
       "        }}\n",
       "}});\n",
       "\n",
       "// Listen for the removal of the full notebook cells\n",
       "var notebookContainer = gd.closest('#notebook-container');\n",
       "if (notebookContainer) {{\n",
       "    x.observe(notebookContainer, {childList: true});\n",
       "}}\n",
       "\n",
       "// Listen for the clearing of the current output cell\n",
       "var outputEl = gd.closest('.output');\n",
       "if (outputEl) {{\n",
       "    x.observe(outputEl, {childList: true});\n",
       "}}\n",
       "\n",
       "                        })                };                });            </script>        </div>"
      ]
     },
     "metadata": {},
     "output_type": "display_data"
    }
   ],
   "source": [
    "pop_permits = pop_permits.sort_values(by=['suply_demand19'], ascending=[True])\n",
    "import plotly.express as px\n",
    "fig = px.bar(pop_permits, x='area', y='suply_demand19')\n",
    "fig"
   ]
  },
  {
   "cell_type": "raw",
   "id": "6bb780ce",
   "metadata": {},
   "source": [
    "INTERPRETATION: positive values - the higher the number, the more permits we have per x growth in population. negative values - this means that the number or residents is *decreasing* between 2018 and 2019, the smaller the supply demand value is, the more permits are approved per x change in population."
   ]
  }
 ],
 "metadata": {
  "kernelspec": {
   "display_name": "Python 3",
   "language": "python",
   "name": "python3"
  },
  "language_info": {
   "codemirror_mode": {
    "name": "ipython",
    "version": 3
   },
   "file_extension": ".py",
   "mimetype": "text/x-python",
   "name": "python",
   "nbconvert_exporter": "python",
   "pygments_lexer": "ipython3",
   "version": "3.8.8"
  }
 },
 "nbformat": 4,
 "nbformat_minor": 5
}
