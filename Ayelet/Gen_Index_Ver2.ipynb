{
 "cells": [
  {
   "cell_type": "raw",
   "id": "f92a779b",
   "metadata": {},
   "source": [
    "This version of the gentrification index includes the ranking for the percentage change for three features:income_per_capita,different_house_year_ago_all (includes newcomers from both outside the city and from the same city), and gini_index. The gentrification coefficient that gave us the final ranking is a simple average of the ranks the ZIP codes obtained in these three categories."
   ]
  },
  {
   "cell_type": "code",
   "execution_count": 10,
   "id": "e7a53ce2",
   "metadata": {},
   "outputs": [
    {
     "data": {
      "text/plain": [
       "Index(['year', 'aggregate_travel_time_to_work',\n",
       "       'amerindian_including_hispanic', 'amerindian_pop', 'armed_forces',\n",
       "       'asian_including_hispanic', 'asian_male_45_54', 'asian_male_55_64',\n",
       "       'asian_pop', 'associates_degree',\n",
       "       ...\n",
       "       'white_male_55_64', 'white_pop', 'worked_at_home',\n",
       "       'workers_16_and_over', 'zipcode', 'rent_in_1y', 'rent_in_2y',\n",
       "       'rent_in_3y', 'rent_in_4y', 'rent_in_5y'],\n",
       "      dtype='object', length=258)"
      ]
     },
     "execution_count": 10,
     "metadata": {},
     "output_type": "execute_result"
    }
   ],
   "source": [
    "import pandas as pd\n",
    "df = pd.read_csv('metro_CA_2011_2018_lagged.csv')\n",
    "df.columns"
   ]
  },
  {
   "cell_type": "code",
   "execution_count": 11,
   "id": "0623a541",
   "metadata": {},
   "outputs": [],
   "source": [
    "import bamboolib"
   ]
  },
  {
   "cell_type": "code",
   "execution_count": 20,
   "id": "8893c3b8",
   "metadata": {},
   "outputs": [],
   "source": [
    "df['income_per_capita_pct_change'] = df['income_per_capita'].transform('pct_change')\n",
    "df[\"different_house_year_ago_all\"] = df['different_house_year_ago_different_city'] + df['different_house_year_ago_same_city']"
   ]
  },
  {
   "cell_type": "code",
   "execution_count": 21,
   "id": "767948f6",
   "metadata": {},
   "outputs": [],
   "source": [
    "df[\"different_house_year_ago_all_pct_change\"] = df[\"different_house_year_ago_all\"].transform('pct_change')"
   ]
  },
  {
   "cell_type": "code",
   "execution_count": 22,
   "id": "68d99750",
   "metadata": {},
   "outputs": [],
   "source": [
    "df[\"gini_index_pct_change\"] = df[\"gini_index\"].transform('pct_change')"
   ]
  },
  {
   "cell_type": "code",
   "execution_count": 23,
   "id": "c6815c0b",
   "metadata": {},
   "outputs": [],
   "source": [
    "df['rank_income_per_capita_pct_change'] = df.groupby('year')['income_per_capita_pct_change'].rank(ascending=False)"
   ]
  },
  {
   "cell_type": "code",
   "execution_count": 24,
   "id": "10bcfe4d",
   "metadata": {},
   "outputs": [],
   "source": [
    "df['rank_different_house_year_ago_all_pct_change'] = df.groupby('year')['different_house_year_ago_all_pct_change'].rank(ascending=False)"
   ]
  },
  {
   "cell_type": "code",
   "execution_count": 25,
   "id": "f647bfac",
   "metadata": {},
   "outputs": [],
   "source": [
    "df['rank_gini_index'] = df.groupby('year')['gini_index_pct_change'].rank(ascending=False)"
   ]
  },
  {
   "cell_type": "code",
   "execution_count": 28,
   "id": "9f2894d9",
   "metadata": {},
   "outputs": [],
   "source": [
    "df[\"gen_rank\"] = (df['rank_income_per_capita_pct_change']+df['rank_different_house_year_ago_all_pct_change']+df['rank_gini_index'])/3\n",
    "df = df.sort_values(by=['gen_rank'], ascending=[True])\n",
    "df.to_csv('metro_CA_2011_2018_lagged_genindex.csv')"
   ]
  }
 ],
 "metadata": {
  "kernelspec": {
   "display_name": "Python 3",
   "language": "python",
   "name": "python3"
  },
  "language_info": {
   "codemirror_mode": {
    "name": "ipython",
    "version": 3
   },
   "file_extension": ".py",
   "mimetype": "text/x-python",
   "name": "python",
   "nbconvert_exporter": "python",
   "pygments_lexer": "ipython3",
   "version": "3.8.8"
  }
 },
 "nbformat": 4,
 "nbformat_minor": 5
}
