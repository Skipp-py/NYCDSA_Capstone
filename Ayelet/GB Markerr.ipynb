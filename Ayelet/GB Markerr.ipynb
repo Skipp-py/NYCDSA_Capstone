{
 "cells": [
  {
   "cell_type": "code",
   "execution_count": 12,
   "id": "976fed3f",
   "metadata": {},
   "outputs": [],
   "source": [
    "import pandas as pd\n",
    "from sklearn.ensemble import GradientBoostingRegressor\n",
    "from sklearn.model_selection import GridSearchCV"
   ]
  },
  {
   "cell_type": "code",
   "execution_count": 3,
   "id": "8f9e5865",
   "metadata": {},
   "outputs": [],
   "source": [
    "features_train = pd.read_csv('features_train_ca.csv')\n",
    "features_test = pd.read_csv('features_test_ca.csv')\n",
    "labels_train = pd.read_csv('labels_train_ca.csv')\n",
    "labels_test = pd.read_csv('labels_test_ca.csv')"
   ]
  },
  {
   "cell_type": "code",
   "execution_count": 6,
   "id": "e7a83c8f",
   "metadata": {},
   "outputs": [
    {
     "name": "stderr",
     "output_type": "stream",
     "text": [
      "/Users/ayelethillel/opt/anaconda3/lib/python3.8/site-packages/sklearn/utils/validation.py:63: DataConversionWarning: A column-vector y was passed when a 1d array was expected. Please change the shape of y to (n_samples, ), for example using ravel().\n",
      "  return f(*args, **kwargs)\n"
     ]
    },
    {
     "name": "stdout",
     "output_type": "stream",
     "text": [
      "      Iter       Train Loss   Remaining Time \n",
      "         1      586111.8984            1.29m\n",
      "         2      504075.8431            1.29m\n",
      "         3      436618.2489            1.28m\n",
      "         4      380965.9562            1.28m\n",
      "         5      334903.3127            1.26m\n",
      "         6      296673.7348            1.25m\n",
      "         7      264575.4839            1.26m\n",
      "         8      238070.2088            1.33m\n",
      "         9      215810.5127            1.34m\n",
      "        10      197369.0385            1.36m\n",
      "        20      108194.1509            1.26m\n",
      "        30       79167.6535            1.05m\n",
      "        40       65396.7361           52.72s\n",
      "        50       57605.2033           43.70s\n",
      "        60       52628.7268           35.51s\n",
      "        70       48831.8514           26.78s\n",
      "        80       44935.9211           17.96s\n",
      "        90       41979.4707            8.90s\n",
      "       100       38952.4950            0.00s\n"
     ]
    },
    {
     "data": {
      "text/plain": [
       "GradientBoostingRegressor(verbose=1)"
      ]
     },
     "execution_count": 6,
     "metadata": {},
     "output_type": "execute_result"
    }
   ],
   "source": [
    "gbm = GradientBoostingRegressor()\n",
    "gbm.set_params(verbose=1)\n",
    "gbm.fit(features_train,labels_train)"
   ]
  },
  {
   "cell_type": "code",
   "execution_count": 7,
   "id": "a5fcea76",
   "metadata": {},
   "outputs": [
    {
     "name": "stdout",
     "output_type": "stream",
     "text": [
      "The train R^2 is 0.943\n"
     ]
    }
   ],
   "source": [
    "print('The train R^2 is %.3f' %(gbm.score(features_train,labels_train)))"
   ]
  },
  {
   "cell_type": "code",
   "execution_count": 8,
   "id": "06d2e8d8",
   "metadata": {},
   "outputs": [
    {
     "name": "stdout",
     "output_type": "stream",
     "text": [
      "The test R^2 is 0.902\n"
     ]
    }
   ],
   "source": [
    "print('The test R^2 is %.3f' %(gbm.score(features_test,labels_test)))"
   ]
  },
  {
   "cell_type": "code",
   "execution_count": 13,
   "id": "295eba4c",
   "metadata": {},
   "outputs": [],
   "source": [
    "# Create the parameter grid  \n",
    "param_grid = {\n",
    "    'learning_rate' : [0.05,0.1,0.15],\n",
    "    'max_depth' : [5,7,9],\n",
    "    'n_estimators' : [10,30,60,100],\n",
    "    'min_samples_split' : [100, 150, 200],\n",
    "    'min_samples_leaf' : [10,20,30]\n",
    "}\n",
    "\n",
    "grid_search = GridSearchCV(estimator = GradientBoostingRegressor(subsample=0.8,random_state=10), \n",
    "param_grid = param_grid,n_jobs=4, cv=3)                                                "
   ]
  },
  {
   "cell_type": "code",
   "execution_count": null,
   "id": "d340e001",
   "metadata": {},
   "outputs": [],
   "source": [
    "grid_search.fit(features_train, labels_train)\n",
    "grid_search.set_params(verbose=1)\n",
    "grid_search.best_params_"
   ]
  },
  {
   "cell_type": "code",
   "execution_count": null,
   "id": "502cf534",
   "metadata": {},
   "outputs": [],
   "source": [
    "print('The train R^2 is %.3f' %(grid_search.score(features_train,labels_train)))"
   ]
  },
  {
   "cell_type": "code",
   "execution_count": null,
   "id": "a1336306",
   "metadata": {},
   "outputs": [],
   "source": [
    "print('The test R^2 is %.3f' %(grid_search.score(features_test,labels_test)))"
   ]
  },
  {
   "cell_type": "code",
   "execution_count": null,
   "id": "33e81f03",
   "metadata": {},
   "outputs": [],
   "source": [
    "# get importance\n",
    "importance = grid_search.coef_[0]\n",
    "# summarize feature importance\n",
    "for i,v in enumerate(importance):\n",
    "print('Feature: %0d, Score: %.5f' % (i,v))\n",
    "# plot feature importance\n",
    "pyplot.bar([x for x in range(len(importance))], importance)\n",
    "pyplot.show()"
   ]
  }
 ],
 "metadata": {
  "kernelspec": {
   "display_name": "Python 3",
   "language": "python",
   "name": "python3"
  },
  "language_info": {
   "codemirror_mode": {
    "name": "ipython",
    "version": 3
   },
   "file_extension": ".py",
   "mimetype": "text/x-python",
   "name": "python",
   "nbconvert_exporter": "python",
   "pygments_lexer": "ipython3",
   "version": "3.8.8"
  }
 },
 "nbformat": 4,
 "nbformat_minor": 5
}
