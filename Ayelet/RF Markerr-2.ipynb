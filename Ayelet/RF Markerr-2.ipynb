{
 "cells": [
  {
   "cell_type": "raw",
   "id": "1c5d7b28",
   "metadata": {},
   "source": [
    "This is my code for Random Forest for the state of California using ACS data"
   ]
  },
  {
   "cell_type": "code",
   "execution_count": 3,
   "id": "efa6aabb",
   "metadata": {},
   "outputs": [],
   "source": [
    "import pandas as pd\n",
    "import numpy as np\n",
    "import bamboolib"
   ]
  },
  {
   "cell_type": "code",
   "execution_count": 4,
   "id": "d3e4c890",
   "metadata": {},
   "outputs": [],
   "source": [
    "cali = pd.read_csv('cali_2011_2018.csv', dtype={'geo_id': str})"
   ]
  },
  {
   "cell_type": "code",
   "execution_count": 5,
   "id": "35628217",
   "metadata": {},
   "outputs": [],
   "source": [
    "features_test = cali.loc[cali['Date'] == 2018]\n",
    "features_train = cali.loc[cali['Date'] != 2018]"
   ]
  },
  {
   "cell_type": "code",
   "execution_count": 6,
   "id": "0a1d5d1c",
   "metadata": {},
   "outputs": [],
   "source": [
    "#drop columns with 100% na (for test)\n",
    "features_test = features_test.drop(columns=['households_retirement_income','commute_5_9_mins','amerindian_including_hispanic', 'asian_including_hispanic', 'black_including_hispanic', 'commute_35_39_mins', 'commute_40_44_mins', 'commute_60_89_mins', 'commute_90_more_mins'])\n",
    "features_train = features_train.drop(columns=['households_retirement_income','commute_5_9_mins','amerindian_including_hispanic', 'asian_including_hispanic', 'black_including_hispanic', 'commute_35_39_mins', 'commute_40_44_mins', 'commute_60_89_mins', 'commute_90_more_mins'])"
   ]
  },
  {
   "cell_type": "code",
   "execution_count": 7,
   "id": "6b4a6b98",
   "metadata": {},
   "outputs": [],
   "source": [
    "#A better way to drop columns with 100% na..\n",
    "features_test = features_test.dropna(axis=1, how='all')\n",
    "features_train = features_train.dropna(axis=1, how='all')"
   ]
  },
  {
   "cell_type": "code",
   "execution_count": 8,
   "id": "11439b09",
   "metadata": {},
   "outputs": [],
   "source": [
    "#drop columns with over 10% missing values (for train)\n",
    "features_train = features_train.drop(columns=['bachelors_degree', 'associates_degree'])\n",
    "features_test = features_test.drop(columns=['bachelors_degree', 'associates_degree'])"
   ]
  },
  {
   "cell_type": "code",
   "execution_count": 9,
   "id": "36c39b21",
   "metadata": {},
   "outputs": [],
   "source": [
    "#drop zip codes \n",
    "features_train = features_train.drop(columns=['RegionName'])\n",
    "features_test = features_test.drop(columns=['RegionName'])"
   ]
  },
  {
   "cell_type": "code",
   "execution_count": 10,
   "id": "bf3fbea7",
   "metadata": {},
   "outputs": [],
   "source": [
    "#converting inf values to na\n",
    "features_train[features_train == np.inf] = np.nan\n",
    "features_test[features_test == np.inf] = np.nan"
   ]
  },
  {
   "cell_type": "code",
   "execution_count": 11,
   "id": "59923125",
   "metadata": {},
   "outputs": [],
   "source": [
    "#fill missing values with the column mean \n",
    "features_test = features_test.fillna(features_test.mean())\n",
    "features_train = features_train.fillna(features_train.mean())"
   ]
  },
  {
   "cell_type": "code",
   "execution_count": 12,
   "id": "1f10e11d",
   "metadata": {},
   "outputs": [],
   "source": [
    "# Labels are the values we want to predict\n",
    "labels_train = features_train['avg_rent']\n",
    "labels_test = features_test['avg_rent']"
   ]
  },
  {
   "cell_type": "code",
   "execution_count": 13,
   "id": "57f66fd1",
   "metadata": {},
   "outputs": [],
   "source": [
    "# Remove the labels from the features\n",
    "# axis 1 refers to the columns\n",
    "features_train = features_train.drop('avg_rent', axis = 1)\n",
    "features_test = features_test.drop('avg_rent', axis = 1)"
   ]
  },
  {
   "cell_type": "code",
   "execution_count": 14,
   "id": "d6baa538",
   "metadata": {},
   "outputs": [],
   "source": [
    "# Saving feature names for later use\n",
    "feature_train_list = list(features_train.columns)\n",
    "feature_test_list = list(features_test.columns)\n",
    "\n",
    "# Convert to numpy array\n",
    "#features_train = np.array(features_train)\n",
    "#features_test = np.array(features_test)"
   ]
  },
  {
   "cell_type": "code",
   "execution_count": 15,
   "id": "08ee0426",
   "metadata": {},
   "outputs": [
    {
     "data": {
      "text/plain": [
       "Date                             1.633958e+07\n",
       "RegionID                         7.995578e+08\n",
       "SizeRank                         3.769665e+07\n",
       "aggregate_travel_time_to_work    3.197904e+09\n",
       "amerindian_pop                   8.625172e+05\n",
       "                                     ...     \n",
       "white_male_45_54                 8.012285e+06\n",
       "white_male_55_64                 7.555049e+06\n",
       "white_pop                        9.995323e+07\n",
       "worked_at_home                   5.916451e+06\n",
       "workers_16_and_over              1.135857e+08\n",
       "Length: 242, dtype: float64"
      ]
     },
     "execution_count": 15,
     "metadata": {},
     "output_type": "execute_result"
    }
   ],
   "source": [
    "features_train.sum()"
   ]
  },
  {
   "cell_type": "code",
   "execution_count": 16,
   "id": "6ae0986d",
   "metadata": {},
   "outputs": [
    {
     "data": {
      "text/plain": [
       "Date                             2.338862e+06\n",
       "RegionID                         1.142225e+08\n",
       "SizeRank                         5.385236e+06\n",
       "aggregate_travel_time_to_work    5.142971e+08\n",
       "amerindian_pop                   1.169139e+05\n",
       "                                     ...     \n",
       "white_male_45_54                 1.026238e+06\n",
       "white_male_55_64                 1.106979e+06\n",
       "white_pop                        1.409066e+07\n",
       "worked_at_home                   9.799335e+05\n",
       "workers_16_and_over              1.740324e+07\n",
       "Length: 229, dtype: float64"
      ]
     },
     "execution_count": 16,
     "metadata": {},
     "output_type": "execute_result"
    }
   ],
   "source": [
    "features_test.sum() #problem! we have more columns in train than in test"
   ]
  },
  {
   "cell_type": "code",
   "execution_count": 17,
   "id": "aa64e066",
   "metadata": {},
   "outputs": [
    {
     "data": {
      "text/plain": [
       "Date                             1.633958e+07\n",
       "RegionID                         7.995578e+08\n",
       "SizeRank                         3.769665e+07\n",
       "aggregate_travel_time_to_work    3.197904e+09\n",
       "amerindian_pop                   8.625172e+05\n",
       "                                     ...     \n",
       "white_male_45_54                 8.012285e+06\n",
       "white_male_55_64                 7.555049e+06\n",
       "white_pop                        9.995323e+07\n",
       "worked_at_home                   5.916451e+06\n",
       "workers_16_and_over              1.135857e+08\n",
       "Length: 229, dtype: float64"
      ]
     },
     "execution_count": 17,
     "metadata": {},
     "output_type": "execute_result"
    }
   ],
   "source": [
    "#problem solved. \n",
    "features_train = features_train.drop(columns=[col for col in features_train if col not in feature_test_list])\n",
    "features_train.sum()"
   ]
  },
  {
   "cell_type": "code",
   "execution_count": 18,
   "id": "9e826744",
   "metadata": {},
   "outputs": [
    {
     "data": {
      "text/plain": [
       "8113    2317.250000\n",
       "8114    2300.333333\n",
       "8115    2225.916667\n",
       "8116    2778.083333\n",
       "8117    2764.250000\n",
       "           ...     \n",
       "9267    2942.000000\n",
       "9268    2375.111111\n",
       "9269    2276.583333\n",
       "9270    1946.750000\n",
       "9271    2400.416667\n",
       "Name: avg_rent, Length: 1159, dtype: float64"
      ]
     },
     "execution_count": 18,
     "metadata": {},
     "output_type": "execute_result"
    }
   ],
   "source": [
    "labels_test"
   ]
  },
  {
   "cell_type": "code",
   "execution_count": 21,
   "id": "8131c456",
   "metadata": {},
   "outputs": [],
   "source": [
    "features_train.to_csv('features_train_ca.csv', index=False)\n",
    "features_test.to_csv('features_test_ca.csv', index=False)\n",
    "labels_train.to_csv('labels_train_ca.csv', index=False)\n",
    "labels_test.to_csv('labels_test_ca.csv', index=False)"
   ]
  },
  {
   "cell_type": "code",
   "execution_count": 22,
   "id": "c54a17c9",
   "metadata": {},
   "outputs": [],
   "source": [
    "# Import the model we are using\n",
    "from sklearn.ensemble import RandomForestRegressor\n",
    "\n",
    "# Instantiate model \n",
    "rf = RandomForestRegressor(n_estimators= 1000, random_state=42)\n",
    "\n",
    "# Train the model on training data\n",
    "rf.fit(features_train, labels_train);"
   ]
  },
  {
   "cell_type": "code",
   "execution_count": 23,
   "id": "4eef6962",
   "metadata": {},
   "outputs": [
    {
     "data": {
      "text/plain": [
       "0.9936552184628115"
      ]
     },
     "execution_count": 23,
     "metadata": {},
     "output_type": "execute_result"
    }
   ],
   "source": [
    "rf.score(features_train, labels_train)"
   ]
  },
  {
   "cell_type": "code",
   "execution_count": 24,
   "id": "2a94350e",
   "metadata": {},
   "outputs": [
    {
     "data": {
      "text/plain": [
       "0.9452651979297022"
      ]
     },
     "execution_count": 24,
     "metadata": {},
     "output_type": "execute_result"
    }
   ],
   "source": [
    "rf.score(features_test, labels_test)"
   ]
  },
  {
   "cell_type": "code",
   "execution_count": 25,
   "id": "5fdb0e0f",
   "metadata": {},
   "outputs": [
    {
     "name": "stdout",
     "output_type": "stream",
     "text": [
      "{'bootstrap': True, 'ccp_alpha': 0.0, 'criterion': 'mse', 'max_depth': None, 'max_features': 'auto', 'max_leaf_nodes': None, 'max_samples': None, 'min_impurity_decrease': 0.0, 'min_impurity_split': None, 'min_samples_leaf': 1, 'min_samples_split': 2, 'min_weight_fraction_leaf': 0.0, 'n_estimators': 1000, 'n_jobs': None, 'oob_score': False, 'random_state': 42, 'verbose': 0, 'warm_start': False}\n"
     ]
    }
   ],
   "source": [
    "print(rf.get_params())"
   ]
  },
  {
   "cell_type": "code",
   "execution_count": 26,
   "id": "fcdadbcd",
   "metadata": {},
   "outputs": [
    {
     "name": "stdout",
     "output_type": "stream",
     "text": [
      "{'n_estimators': [200, 400, 600, 800, 1000, 1200, 1400, 1600, 1800, 2000], 'max_features': ['auto', 'sqrt'], 'max_depth': [10, 20, 30, 40, 50, 60, 70, 80, 90, 100, 110, None], 'min_samples_split': [2, 5, 10], 'min_samples_leaf': [1, 2, 4], 'bootstrap': [True, False]}\n"
     ]
    }
   ],
   "source": [
    "from sklearn.model_selection import RandomizedSearchCV\n",
    "# Number of trees in random forest\n",
    "n_estimators = [int(x) for x in np.linspace(start = 200, stop = 2000, num = 10)]\n",
    "# Number of features to consider at every split\n",
    "max_features = ['auto', 'sqrt']\n",
    "# Maximum number of levels in tree\n",
    "max_depth = [int(x) for x in np.linspace(10, 110, num = 11)]\n",
    "max_depth.append(None)\n",
    "# Minimum number of samples required to split a node\n",
    "min_samples_split = [2, 5, 10]\n",
    "# Minimum number of samples required at each leaf node\n",
    "min_samples_leaf = [1, 2, 4]\n",
    "# Method of selecting samples for training each tree\n",
    "bootstrap = [True, False]\n",
    "# Create the random grid\n",
    "random_grid = {'n_estimators': n_estimators,\n",
    "               'max_features': max_features,\n",
    "               'max_depth': max_depth,\n",
    "               'min_samples_split': min_samples_split,\n",
    "               'min_samples_leaf': min_samples_leaf,\n",
    "               'bootstrap': bootstrap}\n",
    "print(random_grid)"
   ]
  },
  {
   "cell_type": "code",
   "execution_count": null,
   "id": "2e65fb55",
   "metadata": {},
   "outputs": [],
   "source": [
    "# Use the random grid to search for best hyperparameters\n",
    "# First create the base model to tune\n",
    "rf = RandomForestRegressor()\n",
    "# Random search of parameters, using 3 fold cross validation, \n",
    "# search across 50 different combinations, and use all available cores\n",
    "rf_random = RandomizedSearchCV(estimator = rf, param_distributions = random_grid, n_iter = 50, cv = 3, verbose=2, random_state=42, n_jobs = -1)\n",
    "# Fit the random search model\n",
    "rf_random.fit(features_train, labels_train)"
   ]
  },
  {
   "cell_type": "code",
   "execution_count": null,
   "id": "43f095cf",
   "metadata": {},
   "outputs": [],
   "source": [
    "rf_random.score(features_train, labels_train)"
   ]
  },
  {
   "cell_type": "code",
   "execution_count": null,
   "id": "38b625c5",
   "metadata": {},
   "outputs": [],
   "source": [
    "rf_random.score(features_test, labels_test)"
   ]
  },
  {
   "cell_type": "code",
   "execution_count": null,
   "id": "3ba6a7f1",
   "metadata": {},
   "outputs": [],
   "source": [
    "rf_random.best_params_"
   ]
  },
  {
   "cell_type": "code",
   "execution_count": null,
   "id": "6721c134",
   "metadata": {},
   "outputs": [],
   "source": [
    "from sklearn.model_selection import GridSearchCV\n",
    "# Create the parameter grid based on the results of random search \n",
    "param_grid = {\n",
    "    'bootstrap': [False],\n",
    "    'max_depth': [120, 130, 140, None],\n",
    "    'max_features': ['sqrt', 100, 200, 230, 240],\n",
    "    'min_samples_leaf': [1, 2, 3],\n",
    "    'min_samples_split': [1, 2, 3],\n",
    "    'n_estimators': [300, 350, 400, 450]\n",
    "}\n",
    "# Create a based model\n",
    "rf = RandomForestRegressor()\n",
    "# Instantiate the grid search model\n",
    "grid_search = GridSearchCV(estimator = rf, param_grid = param_grid, \n",
    "                          cv = 3, n_jobs = -1, verbose = 2)"
   ]
  },
  {
   "cell_type": "code",
   "execution_count": null,
   "id": "0ca739a5",
   "metadata": {},
   "outputs": [],
   "source": [
    "grid_search.fit(features_train, labels_train)\n",
    "grid_search.set_params(verbose=1)\n",
    "grid_search.best_params_"
   ]
  },
  {
   "cell_type": "code",
   "execution_count": null,
   "id": "f0e2a22c",
   "metadata": {},
   "outputs": [],
   "source": [
    "grid_search.score(features_train, labels_train)"
   ]
  },
  {
   "cell_type": "code",
   "execution_count": null,
   "id": "2ab4b276",
   "metadata": {},
   "outputs": [],
   "source": [
    "grid_search.score(features_test, labels_test)"
   ]
  },
  {
   "cell_type": "code",
   "execution_count": null,
   "id": "3e1a23f8",
   "metadata": {},
   "outputs": [],
   "source": [
    "# get importance\n",
    "importance = grid_search.coef_[0]\n",
    "# summarize feature importance\n",
    "for i,v in enumerate(importance):\n",
    "print('Feature: %0d, Score: %.5f' % (i,v))\n",
    "# plot feature importance\n",
    "pyplot.bar([x for x in range(len(importance))], importance)\n",
    "pyplot.show()"
   ]
  }
 ],
 "metadata": {
  "kernelspec": {
   "display_name": "Python 3",
   "language": "python",
   "name": "python3"
  },
  "language_info": {
   "codemirror_mode": {
    "name": "ipython",
    "version": 3
   },
   "file_extension": ".py",
   "mimetype": "text/x-python",
   "name": "python",
   "nbconvert_exporter": "python",
   "pygments_lexer": "ipython3",
   "version": "3.8.8"
  }
 },
 "nbformat": 4,
 "nbformat_minor": 5
}
