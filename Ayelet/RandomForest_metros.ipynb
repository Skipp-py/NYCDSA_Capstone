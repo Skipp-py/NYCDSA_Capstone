{
 "cells": [
  {
   "cell_type": "code",
   "execution_count": 47,
   "id": "fb1794c1",
   "metadata": {},
   "outputs": [
    {
     "data": {
      "text/plain": [
       "year                                            0\n",
       "aggregate_travel_time_to_work                   0\n",
       "amerindian_including_hispanic                   0\n",
       "amerindian_pop                                  0\n",
       "armed_forces                                    0\n",
       "                                               ..\n",
       "different_house_year_ago_all_pct_change         0\n",
       "rank_different_house_year_ago_all_pct_change    0\n",
       "rank_gini_index                                 0\n",
       "gini_index_pct_change                           0\n",
       "gen_rank                                        0\n",
       "Length: 262, dtype: int64"
      ]
     },
     "execution_count": 47,
     "metadata": {},
     "output_type": "execute_result"
    }
   ],
   "source": [
    "import numpy as np\n",
    "import pandas as pd\n",
    "df = pd.read_csv('metro_CA_2011_2018_lagged_genindex.csv')\n",
    "df = df.drop(columns=['Unnamed: 0'])\n",
    "df = df.drop(columns=['rent_in_5y', 'rent_in_4y', 'rent_in_3y', 'rent_in_2y'])\n",
    "df[df == np.inf] = np.nan\n",
    "df = df.fillna(method='ffill')\n",
    "df.isnull().sum()"
   ]
  },
  {
   "cell_type": "code",
   "execution_count": 48,
   "id": "331b3f35",
   "metadata": {},
   "outputs": [],
   "source": [
    "#prepare data to modeling \n",
    "features_test = df.loc[df['year'] == 2018]\n",
    "features_train = df.loc[df['year'] != 2018]\n",
    "labels_train = features_train['rent_in_1y']\n",
    "labels_test = features_test['rent_in_1y']\n",
    "features_train = features_train.drop('rent_in_1y', axis = 1)\n",
    "features_test = features_test.drop('rent_in_1y', axis = 1)"
   ]
  },
  {
   "cell_type": "code",
   "execution_count": 49,
   "id": "69d9fac8",
   "metadata": {},
   "outputs": [],
   "source": [
    "# Import the model we are using\n",
    "from sklearn.ensemble import RandomForestRegressor\n",
    "\n",
    "# Instantiate model \n",
    "rf = RandomForestRegressor(n_estimators= 1000, random_state=42)\n",
    "\n",
    "# Train the model on training data\n",
    "rf.fit(features_train, labels_train);"
   ]
  },
  {
   "cell_type": "code",
   "execution_count": 50,
   "id": "0738c8aa",
   "metadata": {},
   "outputs": [
    {
     "data": {
      "text/plain": [
       "0.997611414237112"
      ]
     },
     "execution_count": 50,
     "metadata": {},
     "output_type": "execute_result"
    }
   ],
   "source": [
    "rf.score(features_train, labels_train)"
   ]
  },
  {
   "cell_type": "code",
   "execution_count": 51,
   "id": "5d210275",
   "metadata": {},
   "outputs": [
    {
     "data": {
      "text/plain": [
       "0.9882326408432108"
      ]
     },
     "execution_count": 51,
     "metadata": {},
     "output_type": "execute_result"
    }
   ],
   "source": [
    "rf.score(features_test, labels_test)"
   ]
  },
  {
   "cell_type": "code",
   "execution_count": 65,
   "id": "4a71641c",
   "metadata": {
    "scrolled": true
   },
   "outputs": [
    {
     "data": {
      "text/plain": [
       "<BarContainer object of 20 artists>"
      ]
     },
     "execution_count": 65,
     "metadata": {},
     "output_type": "execute_result"
    },
    {
     "data": {
      "image/png": "[encoded data removed]",
      "text/plain": [
       "<Figure size 432x288 with 1 Axes>"
      ]
     },
     "metadata": {
      "needs_background": "light"
     },
     "output_type": "display_data"
    }
   ],
   "source": [
    "sorted_idx = rf.feature_importances_.argsort()\n",
    "plt.barh(features_test.columns[sorted_idx][:20], rf.feature_importances_[sorted_idx][:20])"
   ]
  },
  {
   "cell_type": "code",
   "execution_count": 67,
   "id": "10005a6c",
   "metadata": {},
   "outputs": [],
   "source": [
    "features_train.to_csv('features_train_metro_lagged.csv', index=False)\n",
    "features_test.to_csv('features_test_metro_lagged.csv', index=False)\n",
    "labels_train.to_csv('labels_train_metro_lagged.csv', index=False)\n",
    "labels_test.to_csv('labels_test_metro_lagged.csv', index=False)"
   ]
  },
  {
   "cell_type": "code",
   "execution_count": null,
   "id": "ef0dfe93",
   "metadata": {},
   "outputs": [],
   "source": []
  }
 ],
 "metadata": {
  "kernelspec": {
   "display_name": "Python 3",
   "language": "python",
   "name": "python3"
  },
  "language_info": {
   "codemirror_mode": {
    "name": "ipython",
    "version": 3
   },
   "file_extension": ".py",
   "mimetype": "text/x-python",
   "name": "python",
   "nbconvert_exporter": "python",
   "pygments_lexer": "ipython3",
   "version": "3.8.8"
  }
 },
 "nbformat": 4,
 "nbformat_minor": 5
}
