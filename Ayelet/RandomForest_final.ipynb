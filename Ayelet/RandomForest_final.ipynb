{
 "cells": [
  {
   "cell_type": "code",
   "execution_count": 47,
   "id": "4c2068da",
   "metadata": {},
   "outputs": [
    {
     "data": {
      "text/plain": [
       "year                                            0\n",
       "aggregate_travel_time_to_work                   0\n",
       "amerindian_including_hispanic                   0\n",
       "amerindian_pop                                  0\n",
       "armed_forces                                    0\n",
       "                                               ..\n",
       "different_house_year_ago_all_pct_change         0\n",
       "rank_different_house_year_ago_all_pct_change    0\n",
       "rank_gini_index                                 0\n",
       "gini_index_pct_change                           0\n",
       "gen_rank                                        0\n",
       "Length: 262, dtype: int64"
      ]
     },
     "execution_count": 47,
     "metadata": {},
     "output_type": "execute_result"
    }
   ],
   "source": [
    "import numpy as np\n",
    "import pandas as pd\n",
    "df = pd.read_csv('metro_CA_2011_2018_lagged_genindex.csv')\n",
    "df = df.drop(columns=['Unnamed: 0'])\n",
    "df = df.drop(columns=['rent_in_5y', 'rent_in_4y', 'rent_in_3y', 'rent_in_2y'])\n",
    "df[df == np.inf] = np.nan\n",
    "df = df.fillna(method='ffill')\n",
    "df.isnull().sum()"
   ]
  },
  {
   "cell_type": "code",
   "execution_count": 48,
   "id": "cdebfa8d",
   "metadata": {},
   "outputs": [],
   "source": [
    "#prepare data to modeling \n",
    "features_test = df.loc[df['year'] == 2018]\n",
    "features_train = df.loc[df['year'] != 2018]\n",
    "labels_train = features_train['rent_in_1y']\n",
    "labels_test = features_test['rent_in_1y']\n",
    "features_train = features_train.drop('rent_in_1y', axis = 1)\n",
    "features_test = features_test.drop('rent_in_1y', axis = 1)"
   ]
  },
  {
   "cell_type": "code",
   "execution_count": 49,
   "id": "08381785",
   "metadata": {},
   "outputs": [],
   "source": [
    "# Import the model we are using\n",
    "from sklearn.ensemble import RandomForestRegressor\n",
    "\n",
    "# Instantiate model \n",
    "rf = RandomForestRegressor(n_estimators= 1000, random_state=42)\n",
    "\n",
    "# Train the model on training data\n",
    "rf.fit(features_train, labels_train);"
   ]
  },
  {
   "cell_type": "code",
   "execution_count": 50,
   "id": "c8c679af",
   "metadata": {},
   "outputs": [
    {
     "data": {
      "text/plain": [
       "0.997611414237112"
      ]
     },
     "execution_count": 50,
     "metadata": {},
     "output_type": "execute_result"
    }
   ],
   "source": [
    "rf.score(features_train, labels_train)"
   ]
  },
  {
   "cell_type": "code",
   "execution_count": 51,
   "id": "0ad5fb59",
   "metadata": {},
   "outputs": [
    {
     "data": {
      "text/plain": [
       "0.9882326408432108"
      ]
     },
     "execution_count": 51,
     "metadata": {},
     "output_type": "execute_result"
    }
   ],
   "source": [
    "rf.score(features_test, labels_test)"
   ]
  },
  {
   "cell_type": "code",
   "execution_count": 65,
   "id": "a3958b5b",
   "metadata": {
    "scrolled": true
   },
   "outputs": [
    {
     "data": {
      "text/plain": [
       "<BarContainer object of 20 artists>"
      ]
     },
     "execution_count": 65,
     "metadata": {},
     "output_type": "execute_result"
    },
    {
     "data": {
      "image/png": "[encoded data removed]",
      "text/plain": [
       "<Figure size 432x288 with 1 Axes>"
      ]
     },
     "metadata": {
      "needs_background": "light"
     },
     "output_type": "display_data"
    }
   ],
   "source": [
    "sorted_idx = rf.feature_importances_.argsort()\n",
    "plt.barh(features_test.columns[sorted_idx][:20], rf.feature_importances_[sorted_idx][:20])"
   ]
  },
  {
   "cell_type": "code",
   "execution_count": 67,
   "id": "0714d637",
   "metadata": {},
   "outputs": [],
   "source": [
    "features_train.to_csv('features_train_metro_lagged.csv', index=False)\n",
    "features_test.to_csv('features_test_metro_lagged.csv', index=False)\n",
    "labels_train.to_csv('labels_train_metro_lagged.csv', index=False)\n",
    "labels_test.to_csv('labels_test_metro_lagged.csv', index=False)"
   ]
  },
  {
   "cell_type": "raw",
   "id": "cab12964",
   "metadata": {},
   "source": [
    "Modeling with final dataset"
   ]
  },
  {
   "cell_type": "code",
   "execution_count": 68,
   "id": "93281b98",
   "metadata": {},
   "outputs": [
    {
     "data": {
      "application/vnd.jupyter.widget-view+json": {
       "model_id": "963e7f7ec1844fb59fd825aec69c3ee4"
      },
      "text/html": [
       "<div>\n",
       "<style scoped>\n",
       "    .dataframe tbody tr th:only-of-type {\n",
       "        vertical-align: middle;\n",
       "    }\n",
       "\n",
       "    .dataframe tbody tr th {\n",
       "        vertical-align: top;\n",
       "    }\n",
       "\n",
       "    .dataframe thead th {\n",
       "        text-align: right;\n",
       "    }\n",
       "</style>\n",
       "<table border=\"1\" class=\"dataframe\">\n",
       "  <thead>\n",
       "    <tr style=\"text-align: right;\">\n",
       "      <th></th>\n",
       "      <th>year</th>\n",
       "      <th>zipcode</th>\n",
       "      <th>City</th>\n",
       "      <th>CountyName</th>\n",
       "      <th>Metro</th>\n",
       "      <th>avg_rent</th>\n",
       "      <th>female_19_under</th>\n",
       "      <th>female_20_to_29</th>\n",
       "      <th>female_30_to_39</th>\n",
       "      <th>female_40_to_64</th>\n",
       "      <th>...</th>\n",
       "      <th>gen_rank</th>\n",
       "      <th>CSBA</th>\n",
       "      <th>permits_total</th>\n",
       "      <th>permits_multifamilies</th>\n",
       "      <th>permits_singlefamily</th>\n",
       "      <th>rent_in_1y</th>\n",
       "      <th>rent_in_2y</th>\n",
       "      <th>rent_in_3y</th>\n",
       "      <th>rent_in_4y</th>\n",
       "      <th>rent_in_5y</th>\n",
       "    </tr>\n",
       "  </thead>\n",
       "  <tbody>\n",
       "    <tr>\n",
       "      <th>0</th>\n",
       "      <td>2013</td>\n",
       "      <td>94109</td>\n",
       "      <td>San Francisco</td>\n",
       "      <td>San Francisco County</td>\n",
       "      <td>San Francisco-Oakland-Hayward</td>\n",
       "      <td>3747.083333</td>\n",
       "      <td>0.038311</td>\n",
       "      <td>0.146598</td>\n",
       "      <td>0.098579</td>\n",
       "      <td>0.126137</td>\n",
       "      <td>...</td>\n",
       "      <td>533.000000</td>\n",
       "      <td>41860.0</td>\n",
       "      <td>10922.0</td>\n",
       "      <td>7263.0</td>\n",
       "      <td>3659.0</td>\n",
       "      <td>4123.250000</td>\n",
       "      <td>4520.250000</td>\n",
       "      <td>4492.916667</td>\n",
       "      <td>4231.416667</td>\n",
       "      <td>4245.916667</td>\n",
       "    </tr>\n",
       "    <tr>\n",
       "      <th>1</th>\n",
       "      <td>2014</td>\n",
       "      <td>94109</td>\n",
       "      <td>San Francisco</td>\n",
       "      <td>San Francisco County</td>\n",
       "      <td>San Francisco-Oakland-Hayward</td>\n",
       "      <td>4123.250000</td>\n",
       "      <td>0.028940</td>\n",
       "      <td>0.141141</td>\n",
       "      <td>0.097703</td>\n",
       "      <td>0.127501</td>\n",
       "      <td>...</td>\n",
       "      <td>254.333333</td>\n",
       "      <td>41860.0</td>\n",
       "      <td>10001.0</td>\n",
       "      <td>6285.0</td>\n",
       "      <td>3716.0</td>\n",
       "      <td>4520.250000</td>\n",
       "      <td>4492.916667</td>\n",
       "      <td>4231.416667</td>\n",
       "      <td>4245.916667</td>\n",
       "      <td>4421.083333</td>\n",
       "    </tr>\n",
       "    <tr>\n",
       "      <th>2</th>\n",
       "      <td>2015</td>\n",
       "      <td>94109</td>\n",
       "      <td>San Francisco</td>\n",
       "      <td>San Francisco County</td>\n",
       "      <td>San Francisco-Oakland-Hayward</td>\n",
       "      <td>4520.250000</td>\n",
       "      <td>0.029400</td>\n",
       "      <td>0.135949</td>\n",
       "      <td>0.105821</td>\n",
       "      <td>0.123141</td>\n",
       "      <td>...</td>\n",
       "      <td>239.666667</td>\n",
       "      <td>41860.0</td>\n",
       "      <td>13386.0</td>\n",
       "      <td>8582.0</td>\n",
       "      <td>4804.0</td>\n",
       "      <td>4492.916667</td>\n",
       "      <td>4231.416667</td>\n",
       "      <td>4245.916667</td>\n",
       "      <td>4421.083333</td>\n",
       "      <td>4406.000000</td>\n",
       "    </tr>\n",
       "    <tr>\n",
       "      <th>3</th>\n",
       "      <td>2016</td>\n",
       "      <td>94109</td>\n",
       "      <td>San Francisco</td>\n",
       "      <td>San Francisco County</td>\n",
       "      <td>San Francisco-Oakland-Hayward</td>\n",
       "      <td>4492.916667</td>\n",
       "      <td>0.027901</td>\n",
       "      <td>0.146379</td>\n",
       "      <td>0.105018</td>\n",
       "      <td>0.120388</td>\n",
       "      <td>...</td>\n",
       "      <td>303.333333</td>\n",
       "      <td>41860.0</td>\n",
       "      <td>14787.0</td>\n",
       "      <td>9820.0</td>\n",
       "      <td>4967.0</td>\n",
       "      <td>4231.416667</td>\n",
       "      <td>4245.916667</td>\n",
       "      <td>4421.083333</td>\n",
       "      <td>4406.000000</td>\n",
       "      <td>NaN</td>\n",
       "    </tr>\n",
       "    <tr>\n",
       "      <th>4</th>\n",
       "      <td>2017</td>\n",
       "      <td>94109</td>\n",
       "      <td>San Francisco</td>\n",
       "      <td>San Francisco County</td>\n",
       "      <td>San Francisco-Oakland-Hayward</td>\n",
       "      <td>4231.416667</td>\n",
       "      <td>0.026190</td>\n",
       "      <td>0.131302</td>\n",
       "      <td>0.108329</td>\n",
       "      <td>0.122007</td>\n",
       "      <td>...</td>\n",
       "      <td>346.666667</td>\n",
       "      <td>41860.0</td>\n",
       "      <td>16952.0</td>\n",
       "      <td>12175.0</td>\n",
       "      <td>4777.0</td>\n",
       "      <td>4245.916667</td>\n",
       "      <td>4421.083333</td>\n",
       "      <td>4406.000000</td>\n",
       "      <td>NaN</td>\n",
       "      <td>NaN</td>\n",
       "    </tr>\n",
       "    <tr>\n",
       "      <th>...</th>\n",
       "      <td>...</td>\n",
       "      <td>...</td>\n",
       "      <td>...</td>\n",
       "      <td>...</td>\n",
       "      <td>...</td>\n",
       "      <td>...</td>\n",
       "      <td>...</td>\n",
       "      <td>...</td>\n",
       "      <td>...</td>\n",
       "      <td>...</td>\n",
       "      <td>...</td>\n",
       "      <td>...</td>\n",
       "      <td>...</td>\n",
       "      <td>...</td>\n",
       "      <td>...</td>\n",
       "      <td>...</td>\n",
       "      <td>...</td>\n",
       "      <td>...</td>\n",
       "      <td>...</td>\n",
       "      <td>...</td>\n",
       "      <td>...</td>\n",
       "    </tr>\n",
       "    <tr>\n",
       "      <th>4579</th>\n",
       "      <td>2014</td>\n",
       "      <td>92341</td>\n",
       "      <td>Green Valley Lake</td>\n",
       "      <td>San Bernardino County</td>\n",
       "      <td>Riverside-San Bernardino-Ontario</td>\n",
       "      <td>1186.333333</td>\n",
       "      <td>0.044218</td>\n",
       "      <td>0.000000</td>\n",
       "      <td>0.000000</td>\n",
       "      <td>0.214286</td>\n",
       "      <td>...</td>\n",
       "      <td>NaN</td>\n",
       "      <td>40140.0</td>\n",
       "      <td>10166.0</td>\n",
       "      <td>2944.0</td>\n",
       "      <td>7222.0</td>\n",
       "      <td>1238.666667</td>\n",
       "      <td>1308.666667</td>\n",
       "      <td>1414.833333</td>\n",
       "      <td>1456.000000</td>\n",
       "      <td>1332.454545</td>\n",
       "    </tr>\n",
       "    <tr>\n",
       "      <th>4580</th>\n",
       "      <td>2015</td>\n",
       "      <td>92341</td>\n",
       "      <td>Green Valley Lake</td>\n",
       "      <td>San Bernardino County</td>\n",
       "      <td>Riverside-San Bernardino-Ontario</td>\n",
       "      <td>1238.666667</td>\n",
       "      <td>0.045296</td>\n",
       "      <td>0.000000</td>\n",
       "      <td>0.000000</td>\n",
       "      <td>0.216028</td>\n",
       "      <td>...</td>\n",
       "      <td>NaN</td>\n",
       "      <td>40140.0</td>\n",
       "      <td>9926.0</td>\n",
       "      <td>2110.0</td>\n",
       "      <td>7816.0</td>\n",
       "      <td>1308.666667</td>\n",
       "      <td>1414.833333</td>\n",
       "      <td>1456.000000</td>\n",
       "      <td>1332.454545</td>\n",
       "      <td>1356.000000</td>\n",
       "    </tr>\n",
       "    <tr>\n",
       "      <th>4581</th>\n",
       "      <td>2016</td>\n",
       "      <td>92341</td>\n",
       "      <td>Green Valley Lake</td>\n",
       "      <td>San Bernardino County</td>\n",
       "      <td>Riverside-San Bernardino-Ontario</td>\n",
       "      <td>1308.666667</td>\n",
       "      <td>0.051948</td>\n",
       "      <td>0.000000</td>\n",
       "      <td>0.000000</td>\n",
       "      <td>0.207792</td>\n",
       "      <td>...</td>\n",
       "      <td>NaN</td>\n",
       "      <td>40140.0</td>\n",
       "      <td>10921.0</td>\n",
       "      <td>2084.0</td>\n",
       "      <td>8837.0</td>\n",
       "      <td>1414.833333</td>\n",
       "      <td>1456.000000</td>\n",
       "      <td>1332.454545</td>\n",
       "      <td>1356.000000</td>\n",
       "      <td>NaN</td>\n",
       "    </tr>\n",
       "    <tr>\n",
       "      <th>4582</th>\n",
       "      <td>2017</td>\n",
       "      <td>92341</td>\n",
       "      <td>Green Valley Lake</td>\n",
       "      <td>San Bernardino County</td>\n",
       "      <td>Riverside-San Bernardino-Ontario</td>\n",
       "      <td>1414.833333</td>\n",
       "      <td>0.056034</td>\n",
       "      <td>0.000000</td>\n",
       "      <td>0.000000</td>\n",
       "      <td>0.176724</td>\n",
       "      <td>...</td>\n",
       "      <td>NaN</td>\n",
       "      <td>40140.0</td>\n",
       "      <td>14676.0</td>\n",
       "      <td>3721.0</td>\n",
       "      <td>10955.0</td>\n",
       "      <td>1456.000000</td>\n",
       "      <td>1332.454545</td>\n",
       "      <td>1356.000000</td>\n",
       "      <td>NaN</td>\n",
       "      <td>NaN</td>\n",
       "    </tr>\n",
       "    <tr>\n",
       "      <th>4583</th>\n",
       "      <td>2018</td>\n",
       "      <td>92341</td>\n",
       "      <td>Green Valley Lake</td>\n",
       "      <td>San Bernardino County</td>\n",
       "      <td>Riverside-San Bernardino-Ontario</td>\n",
       "      <td>1456.000000</td>\n",
       "      <td>0.039409</td>\n",
       "      <td>0.034483</td>\n",
       "      <td>0.000000</td>\n",
       "      <td>0.083744</td>\n",
       "      <td>...</td>\n",
       "      <td>NaN</td>\n",
       "      <td>40140.0</td>\n",
       "      <td>14809.0</td>\n",
       "      <td>3218.0</td>\n",
       "      <td>11591.0</td>\n",
       "      <td>1332.454545</td>\n",
       "      <td>1356.000000</td>\n",
       "      <td>NaN</td>\n",
       "      <td>NaN</td>\n",
       "      <td>NaN</td>\n",
       "    </tr>\n",
       "  </tbody>\n",
       "</table>\n",
       "<p>4584 rows × 64 columns</p>\n",
       "</div>"
      ],
      "text/plain": [
       "      year  zipcode               City             CountyName  \\\n",
       "0     2013    94109      San Francisco   San Francisco County   \n",
       "1     2014    94109      San Francisco   San Francisco County   \n",
       "2     2015    94109      San Francisco   San Francisco County   \n",
       "3     2016    94109      San Francisco   San Francisco County   \n",
       "4     2017    94109      San Francisco   San Francisco County   \n",
       "...    ...      ...                ...                    ...   \n",
       "4579  2014    92341  Green Valley Lake  San Bernardino County   \n",
       "4580  2015    92341  Green Valley Lake  San Bernardino County   \n",
       "4581  2016    92341  Green Valley Lake  San Bernardino County   \n",
       "4582  2017    92341  Green Valley Lake  San Bernardino County   \n",
       "4583  2018    92341  Green Valley Lake  San Bernardino County   \n",
       "\n",
       "                                 Metro     avg_rent  female_19_under  \\\n",
       "0        San Francisco-Oakland-Hayward  3747.083333         0.038311   \n",
       "1        San Francisco-Oakland-Hayward  4123.250000         0.028940   \n",
       "2        San Francisco-Oakland-Hayward  4520.250000         0.029400   \n",
       "3        San Francisco-Oakland-Hayward  4492.916667         0.027901   \n",
       "4        San Francisco-Oakland-Hayward  4231.416667         0.026190   \n",
       "...                                ...          ...              ...   \n",
       "4579  Riverside-San Bernardino-Ontario  1186.333333         0.044218   \n",
       "4580  Riverside-San Bernardino-Ontario  1238.666667         0.045296   \n",
       "4581  Riverside-San Bernardino-Ontario  1308.666667         0.051948   \n",
       "4582  Riverside-San Bernardino-Ontario  1414.833333         0.056034   \n",
       "4583  Riverside-San Bernardino-Ontario  1456.000000         0.039409   \n",
       "\n",
       "      female_20_to_29  female_30_to_39  female_40_to_64  ...    gen_rank  \\\n",
       "0            0.146598         0.098579         0.126137  ...  533.000000   \n",
       "1            0.141141         0.097703         0.127501  ...  254.333333   \n",
       "2            0.135949         0.105821         0.123141  ...  239.666667   \n",
       "3            0.146379         0.105018         0.120388  ...  303.333333   \n",
       "4            0.131302         0.108329         0.122007  ...  346.666667   \n",
       "...               ...              ...              ...  ...         ...   \n",
       "4579         0.000000         0.000000         0.214286  ...         NaN   \n",
       "4580         0.000000         0.000000         0.216028  ...         NaN   \n",
       "4581         0.000000         0.000000         0.207792  ...         NaN   \n",
       "4582         0.000000         0.000000         0.176724  ...         NaN   \n",
       "4583         0.034483         0.000000         0.083744  ...         NaN   \n",
       "\n",
       "         CSBA  permits_total  permits_multifamilies  permits_singlefamily  \\\n",
       "0     41860.0        10922.0                 7263.0                3659.0   \n",
       "1     41860.0        10001.0                 6285.0                3716.0   \n",
       "2     41860.0        13386.0                 8582.0                4804.0   \n",
       "3     41860.0        14787.0                 9820.0                4967.0   \n",
       "4     41860.0        16952.0                12175.0                4777.0   \n",
       "...       ...            ...                    ...                   ...   \n",
       "4579  40140.0        10166.0                 2944.0                7222.0   \n",
       "4580  40140.0         9926.0                 2110.0                7816.0   \n",
       "4581  40140.0        10921.0                 2084.0                8837.0   \n",
       "4582  40140.0        14676.0                 3721.0               10955.0   \n",
       "4583  40140.0        14809.0                 3218.0               11591.0   \n",
       "\n",
       "       rent_in_1y   rent_in_2y   rent_in_3y   rent_in_4y   rent_in_5y  \n",
       "0     4123.250000  4520.250000  4492.916667  4231.416667  4245.916667  \n",
       "1     4520.250000  4492.916667  4231.416667  4245.916667  4421.083333  \n",
       "2     4492.916667  4231.416667  4245.916667  4421.083333  4406.000000  \n",
       "3     4231.416667  4245.916667  4421.083333  4406.000000          NaN  \n",
       "4     4245.916667  4421.083333  4406.000000          NaN          NaN  \n",
       "...           ...          ...          ...          ...          ...  \n",
       "4579  1238.666667  1308.666667  1414.833333  1456.000000  1332.454545  \n",
       "4580  1308.666667  1414.833333  1456.000000  1332.454545  1356.000000  \n",
       "4581  1414.833333  1456.000000  1332.454545  1356.000000          NaN  \n",
       "4582  1456.000000  1332.454545  1356.000000          NaN          NaN  \n",
       "4583  1332.454545  1356.000000          NaN          NaN          NaN  \n",
       "\n",
       "[4584 rows x 64 columns]"
      ]
     },
     "metadata": {},
     "output_type": "display_data"
    }
   ],
   "source": [
    "data = pd.read_csv('data_final_for_real.csv')\n",
    "data = data.drop(columns=['rent_in_2y', 'rent_in_3y', 'rent_in_4y', 'rent_in_5y'])\n",
    "data = data.drop(columns=['zipcode', 'City', 'CountyName', 'Metro', 'CSBA'])\n",
    "data = data.dropna()\n",
    "data"
   ]
  },
  {
   "cell_type": "code",
   "execution_count": 83,
   "id": "24297033",
   "metadata": {},
   "outputs": [],
   "source": [
    "#prepare data to modeling \n",
    "features_test = data.loc[data['year'] == 2018]\n",
    "features_train = data.loc[data['year'] != 2018]\n",
    "labels_train = features_train['rent_in_1y']\n",
    "labels_test = features_test['rent_in_1y']\n",
    "features_train = features_train.drop('rent_in_1y', axis = 1)\n",
    "features_test = features_test.drop('rent_in_1y', axis = 1)"
   ]
  },
  {
   "cell_type": "code",
   "execution_count": 84,
   "id": "f8538bf0",
   "metadata": {},
   "outputs": [],
   "source": [
    "# Import the model we are using\n",
    "from sklearn.ensemble import RandomForestRegressor\n",
    "\n",
    "# Instantiate model \n",
    "rf = RandomForestRegressor(n_estimators= 1000, random_state=42)\n",
    "\n",
    "# Train the model on training data\n",
    "rf.fit(features_train, labels_train);"
   ]
  },
  {
   "cell_type": "code",
   "execution_count": 85,
   "id": "7b30a93f",
   "metadata": {},
   "outputs": [
    {
     "data": {
      "text/plain": [
       "0.9986423847582738"
      ]
     },
     "execution_count": 85,
     "metadata": {},
     "output_type": "execute_result"
    }
   ],
   "source": [
    "rf.score(features_train, labels_train)"
   ]
  },
  {
   "cell_type": "code",
   "execution_count": 86,
   "id": "ec12bd30",
   "metadata": {},
   "outputs": [
    {
     "data": {
      "text/plain": [
       "0.9858113508577235"
      ]
     },
     "execution_count": 86,
     "metadata": {},
     "output_type": "execute_result"
    }
   ],
   "source": [
    "rf.score(features_test, labels_test)"
   ]
  },
  {
   "cell_type": "code",
   "execution_count": 87,
   "id": "9e2ef076",
   "metadata": {},
   "outputs": [
    {
     "data": {
      "text/plain": [
       "<BarContainer object of 20 artists>"
      ]
     },
     "execution_count": 87,
     "metadata": {},
     "output_type": "execute_result"
    },
    {
     "data": {
      "image/png": "[encoded data removed]",
      "text/plain": [
       "<Figure size 432x288 with 1 Axes>"
      ]
     },
     "metadata": {
      "needs_background": "light"
     },
     "output_type": "display_data"
    }
   ],
   "source": [
    "sorted_idx = rf.feature_importances_.argsort()\n",
    "plt.barh(features_test.columns[sorted_idx][:20], rf.feature_importances_[sorted_idx][:20])"
   ]
  },
  {
   "cell_type": "raw",
   "id": "387d50d1",
   "metadata": {},
   "source": [
    "Removing avg_rent from features"
   ]
  },
  {
   "cell_type": "code",
   "execution_count": 88,
   "id": "8a200557",
   "metadata": {},
   "outputs": [],
   "source": [
    "features_train = features_train.drop('avg_rent', axis = 1)\n",
    "features_test = features_test.drop('avg_rent', axis = 1)"
   ]
  },
  {
   "cell_type": "code",
   "execution_count": 89,
   "id": "8b35a0f9",
   "metadata": {},
   "outputs": [],
   "source": [
    "# Import the model we are using\n",
    "from sklearn.ensemble import RandomForestRegressor\n",
    "\n",
    "# Instantiate model \n",
    "rf = RandomForestRegressor(n_estimators= 1000, random_state=42)\n",
    "\n",
    "# Train the model on training data\n",
    "rf.fit(features_train, labels_train);"
   ]
  },
  {
   "cell_type": "code",
   "execution_count": 90,
   "id": "080e2a36",
   "metadata": {},
   "outputs": [
    {
     "data": {
      "text/plain": [
       "0.9923820842902287"
      ]
     },
     "execution_count": 90,
     "metadata": {},
     "output_type": "execute_result"
    }
   ],
   "source": [
    "rf.score(features_train, labels_train)"
   ]
  },
  {
   "cell_type": "code",
   "execution_count": 91,
   "id": "b7f2b87e",
   "metadata": {},
   "outputs": [
    {
     "data": {
      "text/plain": [
       "0.8798395007926294"
      ]
     },
     "execution_count": 91,
     "metadata": {},
     "output_type": "execute_result"
    }
   ],
   "source": [
    "rf.score(features_test, labels_test)"
   ]
  },
  {
   "cell_type": "code",
   "execution_count": 82,
   "id": "57663841",
   "metadata": {},
   "outputs": [
    {
     "data": {
      "text/plain": [
       "<BarContainer object of 20 artists>"
      ]
     },
     "execution_count": 82,
     "metadata": {},
     "output_type": "execute_result"
    },
    {
     "data": {
      "image/png": "[encoded data removed]",
      "text/plain": [
       "<Figure size 432x288 with 1 Axes>"
      ]
     },
     "metadata": {
      "needs_background": "light"
     },
     "output_type": "display_data"
    }
   ],
   "source": [
    "sorted_idx = rf.feature_importances_.argsort()\n",
    "plt.barh(features_test.columns[sorted_idx][:20], rf.feature_importances_[sorted_idx][:20])"
   ]
  },
  {
   "cell_type": "code",
   "execution_count": null,
   "id": "16d75c6f",
   "metadata": {},
   "outputs": [],
   "source": []
  }
 ],
 "metadata": {
  "kernelspec": {
   "display_name": "Python 3",
   "language": "python",
   "name": "python3"
  },
  "language_info": {
   "codemirror_mode": {
    "name": "ipython",
    "version": 3
   },
   "file_extension": ".py",
   "mimetype": "text/x-python",
   "name": "python",
   "nbconvert_exporter": "python",
   "pygments_lexer": "ipython3",
   "version": "3.8.8"
  }
 },
 "nbformat": 4,
 "nbformat_minor": 5
}
